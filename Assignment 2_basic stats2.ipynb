{
 "cells": [
  {
   "cell_type": "markdown",
   "id": "1b610ac1",
   "metadata": {},
   "source": [
    "\n",
    "# Set 1"
   ]
  },
  {
   "cell_type": "markdown",
   "id": "1a1a6c4b",
   "metadata": {},
   "source": [
    " Q1) Look at the data given below. Plot the data, find the outliers and find out  μ,σ,σ^2"
   ]
  },
  {
   "cell_type": "code",
   "execution_count": 27,
   "id": "43b2c19d",
   "metadata": {
    "ExecuteTime": {
     "end_time": "2023-04-25T07:21:31.613173Z",
     "start_time": "2023-04-25T07:21:23.225528Z"
    }
   },
   "outputs": [
    {
     "data": {
      "text/html": [
       "<div>\n",
       "<style scoped>\n",
       "    .dataframe tbody tr th:only-of-type {\n",
       "        vertical-align: middle;\n",
       "    }\n",
       "\n",
       "    .dataframe tbody tr th {\n",
       "        vertical-align: top;\n",
       "    }\n",
       "\n",
       "    .dataframe thead th {\n",
       "        text-align: right;\n",
       "    }\n",
       "</style>\n",
       "<table border=\"1\" class=\"dataframe\">\n",
       "  <thead>\n",
       "    <tr style=\"text-align: right;\">\n",
       "      <th></th>\n",
       "      <th>Name of company</th>\n",
       "      <th>Measure X</th>\n",
       "    </tr>\n",
       "  </thead>\n",
       "  <tbody>\n",
       "    <tr>\n",
       "      <th>0</th>\n",
       "      <td>Allied Signal</td>\n",
       "      <td>0.2423</td>\n",
       "    </tr>\n",
       "    <tr>\n",
       "      <th>1</th>\n",
       "      <td>Bankers Trust</td>\n",
       "      <td>0.2553</td>\n",
       "    </tr>\n",
       "    <tr>\n",
       "      <th>2</th>\n",
       "      <td>General Mills</td>\n",
       "      <td>0.2541</td>\n",
       "    </tr>\n",
       "    <tr>\n",
       "      <th>3</th>\n",
       "      <td>ITT Industries</td>\n",
       "      <td>0.2414</td>\n",
       "    </tr>\n",
       "    <tr>\n",
       "      <th>4</th>\n",
       "      <td>J.P.Morgan &amp; Co.</td>\n",
       "      <td>0.2962</td>\n",
       "    </tr>\n",
       "    <tr>\n",
       "      <th>5</th>\n",
       "      <td>Lehman Brothers</td>\n",
       "      <td>0.2825</td>\n",
       "    </tr>\n",
       "    <tr>\n",
       "      <th>6</th>\n",
       "      <td>Marriott</td>\n",
       "      <td>0.2581</td>\n",
       "    </tr>\n",
       "    <tr>\n",
       "      <th>7</th>\n",
       "      <td>MCI</td>\n",
       "      <td>0.2439</td>\n",
       "    </tr>\n",
       "    <tr>\n",
       "      <th>8</th>\n",
       "      <td>Merrill Lynch</td>\n",
       "      <td>0.4026</td>\n",
       "    </tr>\n",
       "    <tr>\n",
       "      <th>9</th>\n",
       "      <td>Microsoft</td>\n",
       "      <td>0.3295</td>\n",
       "    </tr>\n",
       "    <tr>\n",
       "      <th>10</th>\n",
       "      <td>Morgan Stanley</td>\n",
       "      <td>0.9136</td>\n",
       "    </tr>\n",
       "    <tr>\n",
       "      <th>11</th>\n",
       "      <td>Sun Microsystems</td>\n",
       "      <td>0.2599</td>\n",
       "    </tr>\n",
       "    <tr>\n",
       "      <th>12</th>\n",
       "      <td>Travelers</td>\n",
       "      <td>0.3942</td>\n",
       "    </tr>\n",
       "    <tr>\n",
       "      <th>13</th>\n",
       "      <td>US Airways</td>\n",
       "      <td>0.2671</td>\n",
       "    </tr>\n",
       "    <tr>\n",
       "      <th>14</th>\n",
       "      <td>Warner-Lambert</td>\n",
       "      <td>0.3500</td>\n",
       "    </tr>\n",
       "  </tbody>\n",
       "</table>\n",
       "</div>"
      ],
      "text/plain": [
       "     Name of company  Measure X\n",
       "0      Allied Signal     0.2423\n",
       "1      Bankers Trust     0.2553\n",
       "2      General Mills     0.2541\n",
       "3     ITT Industries     0.2414\n",
       "4   J.P.Morgan & Co.     0.2962\n",
       "5    Lehman Brothers     0.2825\n",
       "6           Marriott     0.2581\n",
       "7                MCI     0.2439\n",
       "8      Merrill Lynch     0.4026\n",
       "9          Microsoft     0.3295\n",
       "10    Morgan Stanley     0.9136\n",
       "11  Sun Microsystems     0.2599\n",
       "12         Travelers     0.3942\n",
       "13        US Airways     0.2671\n",
       "14    Warner-Lambert     0.3500"
      ]
     },
     "execution_count": 27,
     "metadata": {},
     "output_type": "execute_result"
    }
   ],
   "source": [
    "# importing data\n",
    "import pandas as pd\n",
    "q1=pd.read_csv(\"set1_Q1.csv\")\n",
    "q1"
   ]
  },
  {
   "cell_type": "code",
   "execution_count": 28,
   "id": "4beb402c",
   "metadata": {
    "ExecuteTime": {
     "end_time": "2023-04-25T07:21:37.102592Z",
     "start_time": "2023-04-25T07:21:31.617117Z"
    }
   },
   "outputs": [
    {
     "data": {
      "image/png": "[encoded data removed]",
      "text/plain": [
       "<Figure size 432x288 with 1 Axes>"
      ]
     },
     "metadata": {
      "needs_background": "light"
     },
     "output_type": "display_data"
    }
   ],
   "source": [
    "# plotting data\n",
    "import matplotlib.pyplot as plt\n",
    "# boxplot\n",
    "name_of_company=q1[\"Name of company\"]\n",
    "plt.boxplot(q1[\"Measure X\"])\n",
    "plt.show()"
   ]
  },
  {
   "cell_type": "code",
   "execution_count": 29,
   "id": "8f808907",
   "metadata": {
    "ExecuteTime": {
     "end_time": "2023-04-25T07:21:37.536027Z",
     "start_time": "2023-04-25T07:21:37.110343Z"
    }
   },
   "outputs": [
    {
     "data": {
      "image/png": "[encoded data removed]",
      "text/plain": [
       "<Figure size 432x288 with 1 Axes>"
      ]
     },
     "metadata": {},
     "output_type": "display_data"
    }
   ],
   "source": [
    "#pie chart\n",
    "name_of_company=q1[\"Name of company\"]\n",
    "plt.pie(q1[\"Measure X\"],labels=name_of_company,autopct='%1.1f%%')\n",
    "plt.show()"
   ]
  },
  {
   "cell_type": "code",
   "execution_count": 30,
   "id": "47e89096",
   "metadata": {
    "ExecuteTime": {
     "end_time": "2023-04-25T07:21:37.570377Z",
     "start_time": "2023-04-25T07:21:37.548154Z"
    }
   },
   "outputs": [
    {
     "data": {
      "text/plain": [
       "0.028714661238095233"
      ]
     },
     "execution_count": 30,
     "metadata": {},
     "output_type": "execute_result"
    }
   ],
   "source": [
    "q1[\"Measure X\"].var()"
   ]
  },
  {
   "cell_type": "code",
   "execution_count": 31,
   "id": "640b69d8",
   "metadata": {
    "ExecuteTime": {
     "end_time": "2023-04-25T07:21:37.652902Z",
     "start_time": "2023-04-25T07:21:37.573504Z"
    }
   },
   "outputs": [
    {
     "data": {
      "text/plain": [
       "0.16945400921222029"
      ]
     },
     "execution_count": 31,
     "metadata": {},
     "output_type": "execute_result"
    }
   ],
   "source": [
    "q1[\"Measure X\"].std()"
   ]
  },
  {
   "cell_type": "markdown",
   "id": "0d5de86e",
   "metadata": {},
   "source": [
    "# Set 2"
   ]
  },
  {
   "cell_type": "markdown",
   "id": "57f61d3c",
   "metadata": {},
   "source": [
    "Q1.\tThe time required for servicing transmissions is normally distributed with  = 45 minutes and  = 8 minutes. The service manager plans to have work begin on the transmission of a customer’s car 10 minutes after the car is dropped off and the customer is told that the car will be ready within 1 hour from drop-off. What is the probability that the service manager cannot meet his commitment? "
   ]
  },
  {
   "cell_type": "code",
   "execution_count": 32,
   "id": "5607c5f4",
   "metadata": {
    "ExecuteTime": {
     "end_time": "2023-04-25T07:21:37.702132Z",
     "start_time": "2023-04-25T07:21:37.657755Z"
    }
   },
   "outputs": [
    {
     "data": {
      "text/plain": [
       "'To find the probability that the service manager cannot meet his commitment,\\ni.e we have to find P(X>50)'"
      ]
     },
     "execution_count": 32,
     "metadata": {},
     "output_type": "execute_result"
    }
   ],
   "source": [
    "'''To find the probability that the service manager cannot meet his commitment,\n",
    "i.e we have to find P(X>50)'''"
   ]
  },
  {
   "cell_type": "code",
   "execution_count": 33,
   "id": "44b77463",
   "metadata": {
    "ExecuteTime": {
     "end_time": "2023-04-25T07:21:37.786150Z",
     "start_time": "2023-04-25T07:21:37.708685Z"
    }
   },
   "outputs": [
    {
     "data": {
      "text/plain": [
       "0.26598552904870054"
      ]
     },
     "execution_count": 33,
     "metadata": {},
     "output_type": "execute_result"
    }
   ],
   "source": [
    "import scipy\n",
    "from scipy import stats\n",
    "prob=1-stats.norm.cdf(50,45,8)\n",
    "prob"
   ]
  },
  {
   "cell_type": "markdown",
   "id": "e94a3e9f",
   "metadata": {},
   "source": [
    "Q2.\tThe current age (in years) of 400 clerical employees at an insurance claims processing center is normally distributed with mean  = 38 and Standard deviation  =6. For each statement below, please specify True/False. If false, briefly explain why."
   ]
  },
  {
   "cell_type": "code",
   "execution_count": 34,
   "id": "43fb0411",
   "metadata": {
    "ExecuteTime": {
     "end_time": "2023-04-25T07:21:37.833470Z",
     "start_time": "2023-04-25T07:21:37.792289Z"
    }
   },
   "outputs": [
    {
     "data": {
      "text/plain": [
       "137"
      ]
     },
     "execution_count": 34,
     "metadata": {},
     "output_type": "execute_result"
    }
   ],
   "source": [
    "# X~N (μ=38, σ(sq)=36 )\n",
    "#A) Finding prob.that the processing center are older than 44 than between 38 and 44\n",
    "# i.e P[38<x<44]\n",
    "import scipy\n",
    "from scipy import stats\n",
    "prob1=round((stats.norm.cdf(44,38,6)-stats.norm.cdf(38,38,6))*400)\n",
    "prob1"
   ]
  },
  {
   "cell_type": "code",
   "execution_count": 35,
   "id": "d6617e5f",
   "metadata": {
    "ExecuteTime": {
     "end_time": "2023-04-25T07:21:37.880632Z",
     "start_time": "2023-04-25T07:21:37.838366Z"
    }
   },
   "outputs": [
    {
     "data": {
      "text/plain": [
       "36"
      ]
     },
     "execution_count": 35,
     "metadata": {},
     "output_type": "execute_result"
    }
   ],
   "source": [
    "#B) A training program for employees under the age of 30 at the center would be expected to attract about 36 employees \n",
    "# i.e P[x<=30]\n",
    "prob2=round(stats.norm.cdf(30,38,6)*400)\n",
    "prob2"
   ]
  },
  {
   "cell_type": "markdown",
   "id": "759b951c",
   "metadata": {},
   "source": [
    "Q4.\tLet X ~ N(100, 202). Find two values, a and b, symmetric about the mean, such that the probability of the random variable taking a value between them is 0.99. "
   ]
  },
  {
   "cell_type": "code",
   "execution_count": 36,
   "id": "b42941bd",
   "metadata": {
    "ExecuteTime": {
     "end_time": "2023-04-25T07:21:37.911538Z",
     "start_time": "2023-04-25T07:21:37.892035Z"
    }
   },
   "outputs": [
    {
     "data": {
      "text/plain": [
       "-2.576"
      ]
     },
     "execution_count": 36,
     "metadata": {},
     "output_type": "execute_result"
    }
   ],
   "source": [
    "# finding z-score value\n",
    "import scipy\n",
    "from scipy import stats\n",
    "round(stats.norm.ppf(0.005),3)"
   ]
  },
  {
   "cell_type": "code",
   "execution_count": 37,
   "id": "961ae8c6",
   "metadata": {
    "ExecuteTime": {
     "end_time": "2023-04-25T07:21:37.959197Z",
     "start_time": "2023-04-25T07:21:37.914248Z"
    }
   },
   "outputs": [
    {
     "data": {
      "text/plain": [
       "2.576"
      ]
     },
     "execution_count": 37,
     "metadata": {},
     "output_type": "execute_result"
    }
   ],
   "source": [
    "round(stats.norm.ppf(0.995),3)"
   ]
  },
  {
   "cell_type": "code",
   "execution_count": 38,
   "id": "90421b93",
   "metadata": {
    "ExecuteTime": {
     "end_time": "2023-04-25T07:21:38.038561Z",
     "start_time": "2023-04-25T07:21:37.964532Z"
    }
   },
   "outputs": [
    {
     "data": {
      "text/plain": [
       "48.48"
      ]
     },
     "execution_count": 38,
     "metadata": {},
     "output_type": "execute_result"
    }
   ],
   "source": [
    "# Finding values of a & b\n",
    "a=20*(-2.576)+100\n",
    "a"
   ]
  },
  {
   "cell_type": "code",
   "execution_count": 39,
   "id": "2b376690",
   "metadata": {
    "ExecuteTime": {
     "end_time": "2023-04-25T07:21:38.086093Z",
     "start_time": "2023-04-25T07:21:38.045306Z"
    }
   },
   "outputs": [
    {
     "data": {
      "text/plain": [
       "151.52"
      ]
     },
     "execution_count": 39,
     "metadata": {},
     "output_type": "execute_result"
    }
   ],
   "source": [
    "b=20*(2.576)+100\n",
    "b"
   ]
  },
  {
   "cell_type": "markdown",
   "id": "c6c16a9f",
   "metadata": {},
   "source": [
    "Q5)Consider a company that has two different divisions. The annual profits from the two divisions are independent and have distributions Profit1 ~ N(5, 32) and Profit2 ~ N(7, 42) respectively. Both the profits are in $ Million. Answer the following questions about the total profit of the company in Rupees. Assume that $1 = Rs. 45\n",
    "A.\tSpecify a Rupee range (centered on the mean) such that it contains 95% probability for the annual profit of the company.\n",
    "B.\tSpecify the 5th percentile of profit (in Rupees) for the company\n",
    "C.\tWhich of the two divisions has a larger probability of making a loss in a given year?\n"
   ]
  },
  {
   "cell_type": "code",
   "execution_count": 40,
   "id": "da449816",
   "metadata": {
    "ExecuteTime": {
     "end_time": "2023-04-25T07:21:38.134720Z",
     "start_time": "2023-04-25T07:21:38.093592Z"
    }
   },
   "outputs": [
    {
     "data": {
      "text/plain": [
       "225"
      ]
     },
     "execution_count": 40,
     "metadata": {},
     "output_type": "execute_result"
    }
   ],
   "source": [
    "# profit1~N(5,9)\n",
    "# profit2~N(7,16)\n",
    "# total_profit~N(12,25)  #according to addition property of normal distribution\n",
    "# In rupees,\n",
    "mean_of_totalprofit=12*45\n",
    "mean_of_totalprofit\n",
    "sd_of_totalprofit=5*45\n",
    "sd_of_totalprofit\n"
   ]
  },
  {
   "cell_type": "code",
   "execution_count": 41,
   "id": "d99e0e43",
   "metadata": {
    "ExecuteTime": {
     "end_time": "2023-04-25T07:21:38.185854Z",
     "start_time": "2023-04-25T07:21:38.141345Z"
    }
   },
   "outputs": [
    {
     "data": {
      "text/plain": [
       "(99.00810347848784, 980.9918965215122)"
      ]
     },
     "execution_count": 41,
     "metadata": {},
     "output_type": "execute_result"
    }
   ],
   "source": [
    "# A)\n",
    "import scipy\n",
    "from scipy import stats\n",
    "stats.norm.interval(0.95,mean_of_totalprofit,sd_of_totalprofit)"
   ]
  },
  {
   "cell_type": "code",
   "execution_count": 42,
   "id": "87612308",
   "metadata": {
    "ExecuteTime": {
     "end_time": "2023-04-25T07:21:38.235296Z",
     "start_time": "2023-04-25T07:21:38.189348Z"
    }
   },
   "outputs": [
    {
     "data": {
      "text/plain": [
       "-1.6448536269514729"
      ]
     },
     "execution_count": 42,
     "metadata": {},
     "output_type": "execute_result"
    }
   ],
   "source": [
    "# B)\n",
    "zscore=stats.norm.ppf(0.05)\n",
    "zscore"
   ]
  },
  {
   "cell_type": "code",
   "execution_count": 43,
   "id": "e2e5a780",
   "metadata": {
    "ExecuteTime": {
     "end_time": "2023-04-25T07:21:38.284201Z",
     "start_time": "2023-04-25T07:21:38.240403Z"
    }
   },
   "outputs": [
    {
     "data": {
      "text/plain": [
       "169.9079339359186"
      ]
     },
     "execution_count": 43,
     "metadata": {},
     "output_type": "execute_result"
    }
   ],
   "source": [
    "percentile=mean_of_totalprofit+(zscore*sd_of_totalprofit)\n",
    "percentile"
   ]
  },
  {
   "cell_type": "code",
   "execution_count": 44,
   "id": "8f96b06f",
   "metadata": {
    "ExecuteTime": {
     "end_time": "2023-04-25T07:21:38.315968Z",
     "start_time": "2023-04-25T07:21:38.289677Z"
    }
   },
   "outputs": [
    {
     "data": {
      "text/plain": [
       "0.0477903522728147"
      ]
     },
     "execution_count": 44,
     "metadata": {},
     "output_type": "execute_result"
    }
   ],
   "source": [
    "# C)\n",
    "# loss is when profit < 0\n",
    "prob_profit1=stats.norm.cdf(0,5,3)\n",
    "prob_profit1\n"
   ]
  },
  {
   "cell_type": "code",
   "execution_count": 45,
   "id": "d34dc496",
   "metadata": {
    "ExecuteTime": {
     "end_time": "2023-04-25T07:21:38.347335Z",
     "start_time": "2023-04-25T07:21:38.322176Z"
    }
   },
   "outputs": [
    {
     "data": {
      "text/plain": [
       "0.040059156863817086"
      ]
     },
     "execution_count": 45,
     "metadata": {},
     "output_type": "execute_result"
    }
   ],
   "source": [
    "prob_profit2=stats.norm.cdf(0,7,4)\n",
    "prob_profit2"
   ]
  },
  {
   "cell_type": "markdown",
   "id": "96ead42e",
   "metadata": {},
   "source": [
    "# Set 3"
   ]
  },
  {
   "cell_type": "markdown",
   "id": "def8a2ed",
   "metadata": {},
   "source": [
    "Que no 5\n",
    "\n",
    "In January 2005, a company that monitors Internet traffic (WebSideStory) reported that its sampling revealed that the Mozilla Firefox browser launched in 2004 had grabbed a 4.6% share of the market.\n",
    "If the sample were based on 2,000 users, could Microsoft conclude that Mozilla has a less than 5% share of the market?"
   ]
  },
  {
   "cell_type": "markdown",
   "id": "525c930a",
   "metadata": {
    "ExecuteTime": {
     "end_time": "2023-04-25T06:27:53.142483Z",
     "start_time": "2023-04-25T06:27:53.106065Z"
    }
   },
   "source": [
    "null_hypothesis >= 5%\n",
    "alternate hypothesis < 5%"
   ]
  },
  {
   "cell_type": "code",
   "execution_count": 46,
   "id": "127bd03a",
   "metadata": {
    "ExecuteTime": {
     "end_time": "2023-04-25T07:21:38.395351Z",
     "start_time": "2023-04-25T07:21:38.352438Z"
    }
   },
   "outputs": [],
   "source": [
    "p_hat =0.046\n",
    "p =0.05\n",
    "n =2000"
   ]
  },
  {
   "cell_type": "code",
   "execution_count": 47,
   "id": "004672f7",
   "metadata": {
    "ExecuteTime": {
     "end_time": "2023-04-25T07:21:38.456718Z",
     "start_time": "2023-04-25T07:21:38.406374Z"
    }
   },
   "outputs": [
    {
     "data": {
      "text/plain": [
       "-0.820782681668124"
      ]
     },
     "execution_count": 47,
     "metadata": {},
     "output_type": "execute_result"
    }
   ],
   "source": [
    "# z_score = p_hat-p/(p(1-p)/n)**0.5\n",
    "import numpy as np\n",
    "z_score = (p_hat-p)/(np.sqrt((p*(1-p))/n))\n",
    "z_score"
   ]
  },
  {
   "cell_type": "code",
   "execution_count": 48,
   "id": "1af53a94",
   "metadata": {
    "ExecuteTime": {
     "end_time": "2023-04-25T07:21:38.535263Z",
     "start_time": "2023-04-25T07:21:38.461258Z"
    }
   },
   "outputs": [
    {
     "data": {
      "text/plain": [
       "0.20582313410777142"
      ]
     },
     "execution_count": 48,
     "metadata": {},
     "output_type": "execute_result"
    }
   ],
   "source": [
    "import scipy.stats as stats\n",
    "p_value = stats.norm.sf(0.821)\n",
    "p_value"
   ]
  },
  {
   "cell_type": "code",
   "execution_count": 49,
   "id": "45c7ad3d",
   "metadata": {
    "ExecuteTime": {
     "end_time": "2023-04-25T07:21:38.585254Z",
     "start_time": "2023-04-25T07:21:38.541008Z"
    }
   },
   "outputs": [
    {
     "name": "stdout",
     "output_type": "stream",
     "text": [
      "No: Microsoft could not conclude that Mozilla has a less\n",
      "    than 5% share of the market even if the sample were \n",
      "    based on 2,000 users\n"
     ]
    }
   ],
   "source": [
    "#Find Probability assuming null hyposthesis, so as to compare with Type-1 error α = 0.05\n",
    "if p_value>0.05:\n",
    "    print(\"\"\"No: Microsoft could not conclude that Mozilla has a less\n",
    "    than 5% share of the market even if the sample were \n",
    "    based on 2,000 users\"\"\")\n",
    "else:\n",
    "    print(\"Yes\")"
   ]
  },
  {
   "cell_type": "markdown",
   "id": "86e98d49",
   "metadata": {},
   "source": [
    "# Set 4"
   ]
  },
  {
   "cell_type": "markdown",
   "id": "72484b3f",
   "metadata": {},
   "source": [
    "Que no 3\n",
    "\n",
    "Auditors at a small community bank randomly sample 100 withdrawal transactions made during the week at an ATM machine located near the bank’s main branch. Over the past 2 years, the average withdrawal amount has been $50 with a standard deviation of $40. Since audit investigations are typically expensive, the auditors decide to not initiate further investigations if the mean transaction amount of the sample is between $45 and $55. What is the probability that in any given week, there will be an investigation?"
   ]
  },
  {
   "cell_type": "code",
   "execution_count": 50,
   "id": "8a98fa94",
   "metadata": {
    "ExecuteTime": {
     "end_time": "2023-04-25T07:21:38.602149Z",
     "start_time": "2023-04-25T07:21:38.588555Z"
    }
   },
   "outputs": [],
   "source": [
    "mean = 50\n",
    "std = 40\n",
    "n = 100\n",
    "d_f = 100 - 1 #degree of freedom\n",
    "#the probability that there will be an investigation,\n",
    "#if the mean transactions amount increases more than 55 USD or less than 45 USD\n",
    "# no investigation if the mean transactions amount remains between 45 to 55 USD"
   ]
  },
  {
   "cell_type": "code",
   "execution_count": 51,
   "id": "49d2afdb",
   "metadata": {
    "ExecuteTime": {
     "end_time": "2023-04-25T07:21:38.649812Z",
     "start_time": "2023-04-25T07:21:38.605899Z"
    }
   },
   "outputs": [
    {
     "data": {
      "text/plain": [
       "-1.25"
      ]
     },
     "execution_count": 51,
     "metadata": {},
     "output_type": "execute_result"
    }
   ],
   "source": [
    "# we will go for t-distribution as population standard deviation is unknown\n",
    "t_forty_five = (45-50)/(40/np.sqrt(100))\n",
    "t_forty_five"
   ]
  },
  {
   "cell_type": "code",
   "execution_count": 52,
   "id": "28f0c068",
   "metadata": {
    "ExecuteTime": {
     "end_time": "2023-04-25T07:21:38.697823Z",
     "start_time": "2023-04-25T07:21:38.660445Z"
    }
   },
   "outputs": [
    {
     "data": {
      "text/plain": [
       "1.25"
      ]
     },
     "execution_count": 52,
     "metadata": {},
     "output_type": "execute_result"
    }
   ],
   "source": [
    "t_fifty_five = (55-50)/(40/np.sqrt(100))\n",
    "t_fifty_five"
   ]
  },
  {
   "cell_type": "code",
   "execution_count": 53,
   "id": "29deebe7",
   "metadata": {
    "ExecuteTime": {
     "end_time": "2023-04-25T07:21:38.718629Z",
     "start_time": "2023-04-25T07:21:38.702121Z"
    }
   },
   "outputs": [
    {
     "data": {
      "text/plain": [
       "0.10712316878419327"
      ]
     },
     "execution_count": 53,
     "metadata": {},
     "output_type": "execute_result"
    }
   ],
   "source": [
    "forty_five = stats.t.cdf(t_forty_five, df = d_f)\n",
    "forty_five"
   ]
  },
  {
   "cell_type": "code",
   "execution_count": 54,
   "id": "361e3f7e",
   "metadata": {
    "ExecuteTime": {
     "end_time": "2023-04-25T07:21:38.866703Z",
     "start_time": "2023-04-25T07:21:38.725167Z"
    }
   },
   "outputs": [
    {
     "data": {
      "text/plain": [
       "0.8928768312158067"
      ]
     },
     "execution_count": 54,
     "metadata": {},
     "output_type": "execute_result"
    }
   ],
   "source": [
    "fifty_five = stats.t.cdf(t_fifty_five, d_f)\n",
    "fifty_five"
   ]
  },
  {
   "cell_type": "code",
   "execution_count": 55,
   "id": "3652d451",
   "metadata": {
    "ExecuteTime": {
     "end_time": "2023-04-25T07:21:38.913877Z",
     "start_time": "2023-04-25T07:21:38.870940Z"
    }
   },
   "outputs": [
    {
     "data": {
      "text/plain": [
       "0.7857536624316135"
      ]
     },
     "execution_count": 55,
     "metadata": {},
     "output_type": "execute_result"
    }
   ],
   "source": [
    "prob = fifty_five - forty_five\n",
    "prob"
   ]
  },
  {
   "cell_type": "code",
   "execution_count": 56,
   "id": "77512245",
   "metadata": {
    "ExecuteTime": {
     "end_time": "2023-04-25T07:21:38.944815Z",
     "start_time": "2023-04-25T07:21:38.921629Z"
    }
   },
   "outputs": [
    {
     "data": {
      "text/plain": [
       "array([45., 55.])"
      ]
     },
     "execution_count": 56,
     "metadata": {},
     "output_type": "execute_result"
    }
   ],
   "source": [
    "np.round(stats.t.interval(alpha = prob, df = d_f, loc = mean, scale = std/np.sqrt(n)),)"
   ]
  },
  {
   "cell_type": "code",
   "execution_count": 57,
   "id": "3d199aae",
   "metadata": {
    "ExecuteTime": {
     "end_time": "2023-04-25T07:21:39.001269Z",
     "start_time": "2023-04-25T07:21:38.955052Z"
    }
   },
   "outputs": [
    {
     "name": "stdout",
     "output_type": "stream",
     "text": [
      "The probability that in any given week, there will be an investigation is 21.4 %\n"
     ]
    }
   ],
   "source": [
    "print('The probability that in any given week, there will be an investigation is',np.round((1-prob)*100,1),'%')"
   ]
  },
  {
   "cell_type": "markdown",
   "id": "1ebebd34",
   "metadata": {},
   "source": [
    "Q.no 4"
   ]
  },
  {
   "cell_type": "markdown",
   "id": "ef5ffbe1",
   "metadata": {},
   "source": [
    "The auditors from the above example would like to maintain the probability of investigation to 5%. Which of the following represents the minimum number transactions that they should sample if they do not want to change the thresholds of 45 and 55? Assume that the sample statistics remain unchanged"
   ]
  },
  {
   "cell_type": "code",
   "execution_count": 58,
   "id": "9e7ab14f",
   "metadata": {
    "ExecuteTime": {
     "end_time": "2023-04-25T07:21:39.033304Z",
     "start_time": "2023-04-25T07:21:39.007487Z"
    }
   },
   "outputs": [],
   "source": [
    "x_bar = 45\n",
    "s_std = 40\n",
    "mew = 50"
   ]
  },
  {
   "cell_type": "code",
   "execution_count": 59,
   "id": "eefa3542",
   "metadata": {
    "ExecuteTime": {
     "end_time": "2023-04-25T07:21:39.084448Z",
     "start_time": "2023-04-25T07:21:39.044710Z"
    }
   },
   "outputs": [
    {
     "data": {
      "text/plain": [
       "-1.97"
      ]
     },
     "execution_count": 59,
     "metadata": {},
     "output_type": "execute_result"
    }
   ],
   "source": [
    "t = np.round(stats.t.ppf(0.025, df = 249),2)\n",
    "t"
   ]
  },
  {
   "cell_type": "code",
   "execution_count": 60,
   "id": "d7d44a24",
   "metadata": {
    "ExecuteTime": {
     "end_time": "2023-04-25T07:21:39.115342Z",
     "start_time": "2023-04-25T07:21:39.089951Z"
    }
   },
   "outputs": [],
   "source": [
    "# t_value = (x_bar - mew)/(sample_std/n**0.5)\n",
    "# t = 45-50 or z = 55-50 z = +/- 5"
   ]
  },
  {
   "cell_type": "code",
   "execution_count": 61,
   "id": "44b056b6",
   "metadata": {
    "ExecuteTime": {
     "end_time": "2023-04-25T07:21:39.170525Z",
     "start_time": "2023-04-25T07:21:39.121122Z"
    }
   },
   "outputs": [
    {
     "data": {
      "text/plain": [
       "248.3776"
      ]
     },
     "execution_count": 61,
     "metadata": {},
     "output_type": "execute_result"
    }
   ],
   "source": [
    "# t = 5/(40/n**0.5)\n",
    "# n = (sample_standard_deviation*tscore)/(sample_mean=population_mean)\n",
    "n = ((s_std*abs(t)) / (5))**2\n",
    "n"
   ]
  },
  {
   "cell_type": "code",
   "execution_count": 62,
   "id": "8b41b211",
   "metadata": {
    "ExecuteTime": {
     "end_time": "2023-04-25T07:21:39.219611Z",
     "start_time": "2023-04-25T07:21:39.179299Z"
    }
   },
   "outputs": [
    {
     "name": "stdout",
     "output_type": "stream",
     "text": [
      "The Auditors would like to maintain the probability of investigation to 5%, they should sample 248.0 transactions if they do not want to change the thresholds of 45 to 55\n"
     ]
    }
   ],
   "source": [
    "print('The Auditors would like to maintain the probability of investigation to 5%, they should sample',np.round(n,),'transactions if they do not want to change the thresholds of 45 to 55')"
   ]
  },
  {
   "cell_type": "code",
   "execution_count": 63,
   "id": "abacc299",
   "metadata": {
    "ExecuteTime": {
     "end_time": "2023-04-25T07:21:39.367078Z",
     "start_time": "2023-04-25T07:21:39.344357Z"
    }
   },
   "outputs": [
    {
     "name": "stdout",
     "output_type": "stream",
     "text": [
      "248.3776 247.3776\n"
     ]
    }
   ],
   "source": [
    "df= n-1\n",
    "print(n, df)"
   ]
  },
  {
   "cell_type": "code",
   "execution_count": 64,
   "id": "ed411b44",
   "metadata": {
    "ExecuteTime": {
     "end_time": "2023-04-25T07:21:39.498590Z",
     "start_time": "2023-04-25T07:21:39.472595Z"
    }
   },
   "outputs": [
    {
     "data": {
      "text/plain": [
       "array([45., 55.])"
      ]
     },
     "execution_count": 64,
     "metadata": {},
     "output_type": "execute_result"
    }
   ],
   "source": [
    "np.round(stats.t.interval(alpha = 0.95, df = df, loc = mew, scale = s_std/np.sqrt(n)),)"
   ]
  },
  {
   "cell_type": "markdown",
   "id": "c228c7de",
   "metadata": {},
   "source": [
    "The Auditors would like to maintain the probability of investigation to 5%, they should sample 248.0 transactions if they do not want to change the thresholds of 45 to 55\n",
    "248.3776 247.3776"
   ]
  }
 ],
 "metadata": {
  "kernelspec": {
   "display_name": "Python 3 (ipykernel)",
   "language": "python",
   "name": "python3"
  },
  "language_info": {
   "codemirror_mode": {
    "name": "ipython",
    "version": 3
   },
   "file_extension": ".py",
   "mimetype": "text/x-python",
   "name": "python",
   "nbconvert_exporter": "python",
   "pygments_lexer": "ipython3",
   "version": "3.9.12"
  }
 },
 "nbformat": 4,
 "nbformat_minor": 5
}
