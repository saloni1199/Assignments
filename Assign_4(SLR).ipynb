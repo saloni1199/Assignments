{
 "cells": [
  {
   "cell_type": "markdown",
   "id": "d56c0fac",
   "metadata": {},
   "source": [
    "1) Delivery_time -> Predict delivery time using sorting time \n",
    "2) Salary_hike -> Build a prediction model for Salary_hike\n",
    "\n",
    "------------------------------------------------------------\n",
    "\n",
    "Build a simple linear regression model by performing EDA and do necessary transformations and select the best model using R or Python."
   ]
  },
  {
   "cell_type": "markdown",
   "id": "ed7f60e7",
   "metadata": {},
   "source": [
    "# 1) Dataset: Delivery Time"
   ]
  },
  {
   "cell_type": "code",
   "execution_count": 60,
   "id": "3120147e",
   "metadata": {
    "ExecuteTime": {
     "end_time": "2023-04-24T10:53:18.280083Z",
     "start_time": "2023-04-24T10:53:18.255421Z"
    }
   },
   "outputs": [
    {
     "data": {
      "text/html": [
       "<div>\n",
       "<style scoped>\n",
       "    .dataframe tbody tr th:only-of-type {\n",
       "        vertical-align: middle;\n",
       "    }\n",
       "\n",
       "    .dataframe tbody tr th {\n",
       "        vertical-align: top;\n",
       "    }\n",
       "\n",
       "    .dataframe thead th {\n",
       "        text-align: right;\n",
       "    }\n",
       "</style>\n",
       "<table border=\"1\" class=\"dataframe\">\n",
       "  <thead>\n",
       "    <tr style=\"text-align: right;\">\n",
       "      <th></th>\n",
       "      <th>Delivery_Time</th>\n",
       "      <th>Sorting_Time</th>\n",
       "    </tr>\n",
       "  </thead>\n",
       "  <tbody>\n",
       "    <tr>\n",
       "      <th>0</th>\n",
       "      <td>21.00</td>\n",
       "      <td>10</td>\n",
       "    </tr>\n",
       "    <tr>\n",
       "      <th>1</th>\n",
       "      <td>13.50</td>\n",
       "      <td>4</td>\n",
       "    </tr>\n",
       "    <tr>\n",
       "      <th>2</th>\n",
       "      <td>19.75</td>\n",
       "      <td>6</td>\n",
       "    </tr>\n",
       "    <tr>\n",
       "      <th>3</th>\n",
       "      <td>24.00</td>\n",
       "      <td>9</td>\n",
       "    </tr>\n",
       "    <tr>\n",
       "      <th>4</th>\n",
       "      <td>29.00</td>\n",
       "      <td>10</td>\n",
       "    </tr>\n",
       "    <tr>\n",
       "      <th>5</th>\n",
       "      <td>15.35</td>\n",
       "      <td>6</td>\n",
       "    </tr>\n",
       "    <tr>\n",
       "      <th>6</th>\n",
       "      <td>19.00</td>\n",
       "      <td>7</td>\n",
       "    </tr>\n",
       "    <tr>\n",
       "      <th>7</th>\n",
       "      <td>9.50</td>\n",
       "      <td>3</td>\n",
       "    </tr>\n",
       "    <tr>\n",
       "      <th>8</th>\n",
       "      <td>17.90</td>\n",
       "      <td>10</td>\n",
       "    </tr>\n",
       "    <tr>\n",
       "      <th>9</th>\n",
       "      <td>18.75</td>\n",
       "      <td>9</td>\n",
       "    </tr>\n",
       "    <tr>\n",
       "      <th>10</th>\n",
       "      <td>19.83</td>\n",
       "      <td>8</td>\n",
       "    </tr>\n",
       "    <tr>\n",
       "      <th>11</th>\n",
       "      <td>10.75</td>\n",
       "      <td>4</td>\n",
       "    </tr>\n",
       "    <tr>\n",
       "      <th>12</th>\n",
       "      <td>16.68</td>\n",
       "      <td>7</td>\n",
       "    </tr>\n",
       "    <tr>\n",
       "      <th>13</th>\n",
       "      <td>11.50</td>\n",
       "      <td>3</td>\n",
       "    </tr>\n",
       "    <tr>\n",
       "      <th>14</th>\n",
       "      <td>12.03</td>\n",
       "      <td>3</td>\n",
       "    </tr>\n",
       "    <tr>\n",
       "      <th>15</th>\n",
       "      <td>14.88</td>\n",
       "      <td>4</td>\n",
       "    </tr>\n",
       "    <tr>\n",
       "      <th>16</th>\n",
       "      <td>13.75</td>\n",
       "      <td>6</td>\n",
       "    </tr>\n",
       "    <tr>\n",
       "      <th>17</th>\n",
       "      <td>18.11</td>\n",
       "      <td>7</td>\n",
       "    </tr>\n",
       "    <tr>\n",
       "      <th>18</th>\n",
       "      <td>8.00</td>\n",
       "      <td>2</td>\n",
       "    </tr>\n",
       "    <tr>\n",
       "      <th>19</th>\n",
       "      <td>17.83</td>\n",
       "      <td>7</td>\n",
       "    </tr>\n",
       "    <tr>\n",
       "      <th>20</th>\n",
       "      <td>21.50</td>\n",
       "      <td>5</td>\n",
       "    </tr>\n",
       "  </tbody>\n",
       "</table>\n",
       "</div>"
      ],
      "text/plain": [
       "    Delivery_Time  Sorting_Time\n",
       "0           21.00            10\n",
       "1           13.50             4\n",
       "2           19.75             6\n",
       "3           24.00             9\n",
       "4           29.00            10\n",
       "5           15.35             6\n",
       "6           19.00             7\n",
       "7            9.50             3\n",
       "8           17.90            10\n",
       "9           18.75             9\n",
       "10          19.83             8\n",
       "11          10.75             4\n",
       "12          16.68             7\n",
       "13          11.50             3\n",
       "14          12.03             3\n",
       "15          14.88             4\n",
       "16          13.75             6\n",
       "17          18.11             7\n",
       "18           8.00             2\n",
       "19          17.83             7\n",
       "20          21.50             5"
      ]
     },
     "execution_count": 60,
     "metadata": {},
     "output_type": "execute_result"
    }
   ],
   "source": [
    "# importing datset\n",
    "import pandas as pd\n",
    "delivery_time=pd.read_csv(\"delivery_time.csv\")\n",
    "delivery_time\n",
    "pd.set_option(\"Display.min_rows\",None)\n",
    "delivery_time"
   ]
  },
  {
   "cell_type": "markdown",
   "id": "95dc50c5",
   "metadata": {},
   "source": [
    "# EDA"
   ]
  },
  {
   "cell_type": "code",
   "execution_count": 61,
   "id": "e5235f00",
   "metadata": {
    "ExecuteTime": {
     "end_time": "2023-04-24T10:53:21.782800Z",
     "start_time": "2023-04-24T10:53:21.772124Z"
    }
   },
   "outputs": [
    {
     "data": {
      "text/plain": [
       "pandas.core.frame.DataFrame"
      ]
     },
     "execution_count": 61,
     "metadata": {},
     "output_type": "execute_result"
    }
   ],
   "source": [
    "type(delivery_time)"
   ]
  },
  {
   "cell_type": "code",
   "execution_count": 62,
   "id": "639bab3d",
   "metadata": {
    "ExecuteTime": {
     "end_time": "2023-04-24T10:53:23.022419Z",
     "start_time": "2023-04-24T10:53:22.991255Z"
    }
   },
   "outputs": [
    {
     "data": {
      "text/html": [
       "<div>\n",
       "<style scoped>\n",
       "    .dataframe tbody tr th:only-of-type {\n",
       "        vertical-align: middle;\n",
       "    }\n",
       "\n",
       "    .dataframe tbody tr th {\n",
       "        vertical-align: top;\n",
       "    }\n",
       "\n",
       "    .dataframe thead th {\n",
       "        text-align: right;\n",
       "    }\n",
       "</style>\n",
       "<table border=\"1\" class=\"dataframe\">\n",
       "  <thead>\n",
       "    <tr style=\"text-align: right;\">\n",
       "      <th></th>\n",
       "      <th>Delivery_Time</th>\n",
       "      <th>Sorting_Time</th>\n",
       "    </tr>\n",
       "  </thead>\n",
       "  <tbody>\n",
       "    <tr>\n",
       "      <th>count</th>\n",
       "      <td>21.000000</td>\n",
       "      <td>21.000000</td>\n",
       "    </tr>\n",
       "    <tr>\n",
       "      <th>mean</th>\n",
       "      <td>16.790952</td>\n",
       "      <td>6.190476</td>\n",
       "    </tr>\n",
       "    <tr>\n",
       "      <th>std</th>\n",
       "      <td>5.074901</td>\n",
       "      <td>2.542028</td>\n",
       "    </tr>\n",
       "    <tr>\n",
       "      <th>min</th>\n",
       "      <td>8.000000</td>\n",
       "      <td>2.000000</td>\n",
       "    </tr>\n",
       "    <tr>\n",
       "      <th>25%</th>\n",
       "      <td>13.500000</td>\n",
       "      <td>4.000000</td>\n",
       "    </tr>\n",
       "    <tr>\n",
       "      <th>50%</th>\n",
       "      <td>17.830000</td>\n",
       "      <td>6.000000</td>\n",
       "    </tr>\n",
       "    <tr>\n",
       "      <th>75%</th>\n",
       "      <td>19.750000</td>\n",
       "      <td>8.000000</td>\n",
       "    </tr>\n",
       "    <tr>\n",
       "      <th>max</th>\n",
       "      <td>29.000000</td>\n",
       "      <td>10.000000</td>\n",
       "    </tr>\n",
       "  </tbody>\n",
       "</table>\n",
       "</div>"
      ],
      "text/plain": [
       "       Delivery_Time  Sorting_Time\n",
       "count      21.000000     21.000000\n",
       "mean       16.790952      6.190476\n",
       "std         5.074901      2.542028\n",
       "min         8.000000      2.000000\n",
       "25%        13.500000      4.000000\n",
       "50%        17.830000      6.000000\n",
       "75%        19.750000      8.000000\n",
       "max        29.000000     10.000000"
      ]
     },
     "execution_count": 62,
     "metadata": {},
     "output_type": "execute_result"
    }
   ],
   "source": [
    "delivery_time.describe()"
   ]
  },
  {
   "cell_type": "code",
   "execution_count": 63,
   "id": "c2732fbc",
   "metadata": {
    "ExecuteTime": {
     "end_time": "2023-04-24T10:53:23.971248Z",
     "start_time": "2023-04-24T10:53:23.946139Z"
    }
   },
   "outputs": [
    {
     "name": "stdout",
     "output_type": "stream",
     "text": [
      "<class 'pandas.core.frame.DataFrame'>\n",
      "RangeIndex: 21 entries, 0 to 20\n",
      "Data columns (total 2 columns):\n",
      " #   Column         Non-Null Count  Dtype  \n",
      "---  ------         --------------  -----  \n",
      " 0   Delivery_Time  21 non-null     float64\n",
      " 1   Sorting_Time   21 non-null     int64  \n",
      "dtypes: float64(1), int64(1)\n",
      "memory usage: 464.0 bytes\n"
     ]
    }
   ],
   "source": [
    "delivery_time.info()"
   ]
  },
  {
   "cell_type": "code",
   "execution_count": 64,
   "id": "46622ed7",
   "metadata": {
    "ExecuteTime": {
     "end_time": "2023-04-24T10:53:25.033612Z",
     "start_time": "2023-04-24T10:53:25.003534Z"
    }
   },
   "outputs": [
    {
     "data": {
      "text/plain": [
       "(21, 2)"
      ]
     },
     "execution_count": 64,
     "metadata": {},
     "output_type": "execute_result"
    }
   ],
   "source": [
    "delivery_time.shape"
   ]
  },
  {
   "cell_type": "code",
   "execution_count": 65,
   "id": "d6bb208f",
   "metadata": {
    "ExecuteTime": {
     "end_time": "2023-04-24T10:53:25.950988Z",
     "start_time": "2023-04-24T10:53:25.938540Z"
    }
   },
   "outputs": [
    {
     "data": {
      "text/plain": [
       "Delivery_Time    0\n",
       "Sorting_Time     0\n",
       "dtype: int64"
      ]
     },
     "execution_count": 65,
     "metadata": {},
     "output_type": "execute_result"
    }
   ],
   "source": [
    "delivery_time.isnull().sum()"
   ]
  },
  {
   "cell_type": "code",
   "execution_count": 66,
   "id": "88b02349",
   "metadata": {
    "ExecuteTime": {
     "end_time": "2023-04-24T10:53:26.849660Z",
     "start_time": "2023-04-24T10:53:26.817289Z"
    }
   },
   "outputs": [
    {
     "data": {
      "text/plain": [
       "(0, 2)"
      ]
     },
     "execution_count": 66,
     "metadata": {},
     "output_type": "execute_result"
    }
   ],
   "source": [
    "delivery_time[delivery_time.duplicated()].shape"
   ]
  },
  {
   "cell_type": "code",
   "execution_count": 67,
   "id": "015175c0",
   "metadata": {
    "ExecuteTime": {
     "end_time": "2023-04-24T10:53:28.081005Z",
     "start_time": "2023-04-24T10:53:28.049068Z"
    }
   },
   "outputs": [
    {
     "data": {
      "text/html": [
       "<div>\n",
       "<style scoped>\n",
       "    .dataframe tbody tr th:only-of-type {\n",
       "        vertical-align: middle;\n",
       "    }\n",
       "\n",
       "    .dataframe tbody tr th {\n",
       "        vertical-align: top;\n",
       "    }\n",
       "\n",
       "    .dataframe thead th {\n",
       "        text-align: right;\n",
       "    }\n",
       "</style>\n",
       "<table border=\"1\" class=\"dataframe\">\n",
       "  <thead>\n",
       "    <tr style=\"text-align: right;\">\n",
       "      <th></th>\n",
       "      <th>Delivery_Time</th>\n",
       "      <th>Sorting_Time</th>\n",
       "    </tr>\n",
       "  </thead>\n",
       "  <tbody>\n",
       "  </tbody>\n",
       "</table>\n",
       "</div>"
      ],
      "text/plain": [
       "Empty DataFrame\n",
       "Columns: [Delivery_Time, Sorting_Time]\n",
       "Index: []"
      ]
     },
     "execution_count": 67,
     "metadata": {},
     "output_type": "execute_result"
    }
   ],
   "source": [
    "delivery_time[delivery_time.duplicated()]"
   ]
  },
  {
   "cell_type": "code",
   "execution_count": 68,
   "id": "f30565bf",
   "metadata": {
    "ExecuteTime": {
     "end_time": "2023-04-24T10:53:29.279125Z",
     "start_time": "2023-04-24T10:53:29.003045Z"
    }
   },
   "outputs": [
    {
     "data": {
      "text/plain": [
       "<AxesSubplot:>"
      ]
     },
     "execution_count": 68,
     "metadata": {},
     "output_type": "execute_result"
    },
    {
     "data": {
      "image/png": "[encoded data removed]",
      "text/plain": [
       "<Figure size 216x216 with 1 Axes>"
      ]
     },
     "metadata": {},
     "output_type": "display_data"
    }
   ],
   "source": [
    "#detecting outliers\n",
    "delivery_time[\"Delivery_Time\"].hist()"
   ]
  },
  {
   "cell_type": "code",
   "execution_count": 69,
   "id": "d35714d6",
   "metadata": {
    "ExecuteTime": {
     "end_time": "2023-04-24T10:53:30.577998Z",
     "start_time": "2023-04-24T10:53:30.338507Z"
    }
   },
   "outputs": [
    {
     "data": {
      "text/plain": [
       "<AxesSubplot:>"
      ]
     },
     "execution_count": 69,
     "metadata": {},
     "output_type": "execute_result"
    },
    {
     "data": {
      "image/png": "[encoded data removed]",
      "text/plain": [
       "<Figure size 216x216 with 1 Axes>"
      ]
     },
     "metadata": {},
     "output_type": "display_data"
    }
   ],
   "source": [
    "delivery_time[\"Sorting_Time\"].hist()"
   ]
  },
  {
   "cell_type": "code",
   "execution_count": 70,
   "id": "01d747c0",
   "metadata": {
    "ExecuteTime": {
     "end_time": "2023-04-24T10:53:31.442308Z",
     "start_time": "2023-04-24T10:53:31.261771Z"
    }
   },
   "outputs": [
    {
     "data": {
      "text/plain": [
       "<AxesSubplot:>"
      ]
     },
     "execution_count": 70,
     "metadata": {},
     "output_type": "execute_result"
    },
    {
     "data": {
      "image/png": "[encoded data removed]",
      "text/plain": [
       "<Figure size 216x216 with 1 Axes>"
      ]
     },
     "metadata": {},
     "output_type": "display_data"
    }
   ],
   "source": [
    "delivery_time.boxplot([\"Delivery_Time\"])"
   ]
  },
  {
   "cell_type": "code",
   "execution_count": 71,
   "id": "0f1cd7bf",
   "metadata": {
    "ExecuteTime": {
     "end_time": "2023-04-24T10:53:32.507193Z",
     "start_time": "2023-04-24T10:53:32.301209Z"
    }
   },
   "outputs": [
    {
     "data": {
      "text/plain": [
       "<AxesSubplot:>"
      ]
     },
     "execution_count": 71,
     "metadata": {},
     "output_type": "execute_result"
    },
    {
     "data": {
      "image/png": "[encoded data removed]",
      "text/plain": [
       "<Figure size 216x216 with 1 Axes>"
      ]
     },
     "metadata": {},
     "output_type": "display_data"
    }
   ],
   "source": [
    "delivery_time.boxplot([\"Sorting_Time\"])"
   ]
  },
  {
   "cell_type": "code",
   "execution_count": 72,
   "id": "27cbb491",
   "metadata": {
    "ExecuteTime": {
     "end_time": "2023-04-24T10:53:34.953263Z",
     "start_time": "2023-04-24T10:53:33.462953Z"
    }
   },
   "outputs": [
    {
     "data": {
      "text/plain": [
       "<seaborn.axisgrid.PairGrid at 0x1fbf64496d0>"
      ]
     },
     "execution_count": 72,
     "metadata": {},
     "output_type": "execute_result"
    },
    {
     "data": {
      "image/png": "[encoded data removed]",
      "text/plain": [
       "<Figure size 360x360 with 6 Axes>"
      ]
     },
     "metadata": {},
     "output_type": "display_data"
    }
   ],
   "source": [
    "#pairplot\n",
    "import seaborn as sns\n",
    "sns.pairplot(delivery_time)"
   ]
  },
  {
   "cell_type": "markdown",
   "id": "930e03b7",
   "metadata": {},
   "source": [
    "Plotting the histogram of each numerical variable (in this case, all features), the main idea here is to visualize the data distribution for each feature. This method can bring fast insights as:\n",
    "\n",
    "-Check the kind of each feature distribution\n",
    "\n",
    "-Check data symmetry\n",
    "\n",
    "-Verify features frequency\n",
    "\n",
    "-Identify outliers"
   ]
  },
  {
   "cell_type": "code",
   "execution_count": 73,
   "id": "4318df31",
   "metadata": {
    "ExecuteTime": {
     "end_time": "2023-04-24T10:53:36.883265Z",
     "start_time": "2023-04-24T10:53:36.391144Z"
    }
   },
   "outputs": [
    {
     "data": {
      "image/png": "[encoded data removed]",
      "text/plain": [
       "<Figure size 360x216 with 2 Axes>"
      ]
     },
     "metadata": {},
     "output_type": "display_data"
    }
   ],
   "source": [
    "import seaborn as sns\n",
    "sns.set(style= 'dark', font_scale=1.5, rc= {'figure.figsize':(5,3)})\n",
    "ax = delivery_time.hist(bins=10, color= 'red')"
   ]
  },
  {
   "cell_type": "code",
   "execution_count": 74,
   "id": "08316604",
   "metadata": {
    "ExecuteTime": {
     "end_time": "2023-04-24T10:53:37.946969Z",
     "start_time": "2023-04-24T10:53:37.670692Z"
    }
   },
   "outputs": [
    {
     "data": {
      "image/png": "[encoded data removed]",
      "text/plain": [
       "<Figure size 360x144 with 2 Axes>"
      ]
     },
     "metadata": {},
     "output_type": "display_data"
    }
   ],
   "source": [
    "# correlation heatmap\n",
    "import matplotlib.pyplot as plt\n",
    "f,ax = plt.subplots(figsize=(5,2))\n",
    "sns.heatmap(delivery_time.corr(), annot=True, linewidths =.5, fmt ='.1f',ax=ax)\n",
    "plt.show()"
   ]
  },
  {
   "cell_type": "code",
   "execution_count": 75,
   "id": "aae4bf2b",
   "metadata": {
    "ExecuteTime": {
     "end_time": "2023-04-24T10:53:40.124783Z",
     "start_time": "2023-04-24T10:53:39.713660Z"
    }
   },
   "outputs": [
    {
     "data": {
      "image/png": "[encoded data removed]",
      "text/plain": [
       "<Figure size 360x216 with 1 Axes>"
      ]
     },
     "metadata": {},
     "output_type": "display_data"
    }
   ],
   "source": [
    "# scatter plot \n",
    "import matplotlib.pyplot as plt\n",
    "plt.style.use('Solarize_Light2')\n",
    "plt.plot(delivery_time[\"Delivery_Time\"],delivery_time[\"Sorting_Time\"],\"bo\")\n",
    "plt.xlabel(\"Sorting Time\")\n",
    "plt.ylabel(\"Delivery Time\")\n",
    "plt.title(\"scatter plot of Sorting Time vs Delivery Time\")\n",
    "plt.show()"
   ]
  },
  {
   "cell_type": "markdown",
   "id": "e22f9b9e",
   "metadata": {
    "ExecuteTime": {
     "end_time": "2023-04-23T14:35:48.356289Z",
     "start_time": "2023-04-23T14:35:48.299442Z"
    }
   },
   "source": [
    "here,we can see there is positive correlation and linear association betwen two variables Sorting Time and Delivery Time. \n",
    "Also they are directly proportional to each other i.e as Sorting Time increases Delivery Time is also increases."
   ]
  },
  {
   "cell_type": "code",
   "execution_count": 76,
   "id": "66636b59",
   "metadata": {
    "ExecuteTime": {
     "end_time": "2023-04-24T10:53:42.971407Z",
     "start_time": "2023-04-24T10:53:42.946428Z"
    }
   },
   "outputs": [
    {
     "data": {
      "text/html": [
       "<div>\n",
       "<style scoped>\n",
       "    .dataframe tbody tr th:only-of-type {\n",
       "        vertical-align: middle;\n",
       "    }\n",
       "\n",
       "    .dataframe tbody tr th {\n",
       "        vertical-align: top;\n",
       "    }\n",
       "\n",
       "    .dataframe thead th {\n",
       "        text-align: right;\n",
       "    }\n",
       "</style>\n",
       "<table border=\"1\" class=\"dataframe\">\n",
       "  <thead>\n",
       "    <tr style=\"text-align: right;\">\n",
       "      <th></th>\n",
       "      <th>Delivery_Time</th>\n",
       "      <th>Sorting_Time</th>\n",
       "    </tr>\n",
       "  </thead>\n",
       "  <tbody>\n",
       "    <tr>\n",
       "      <th>Delivery_Time</th>\n",
       "      <td>1.000000</td>\n",
       "      <td>0.825997</td>\n",
       "    </tr>\n",
       "    <tr>\n",
       "      <th>Sorting_Time</th>\n",
       "      <td>0.825997</td>\n",
       "      <td>1.000000</td>\n",
       "    </tr>\n",
       "  </tbody>\n",
       "</table>\n",
       "</div>"
      ],
      "text/plain": [
       "               Delivery_Time  Sorting_Time\n",
       "Delivery_Time       1.000000      0.825997\n",
       "Sorting_Time        0.825997      1.000000"
      ]
     },
     "execution_count": 76,
     "metadata": {},
     "output_type": "execute_result"
    }
   ],
   "source": [
    "# correlation\n",
    "delivery_time.corr()"
   ]
  },
  {
   "cell_type": "markdown",
   "id": "b5ff5e2c",
   "metadata": {
    "ExecuteTime": {
     "end_time": "2023-04-23T14:46:48.812382Z",
     "start_time": "2023-04-23T14:46:48.788448Z"
    }
   },
   "source": [
    "here, correlation value is 0.825997 so there is very strong correlation"
   ]
  },
  {
   "cell_type": "code",
   "execution_count": 77,
   "id": "4cfea3dc",
   "metadata": {
    "ExecuteTime": {
     "end_time": "2023-04-24T10:53:46.736041Z",
     "start_time": "2023-04-24T10:53:44.051250Z"
    }
   },
   "outputs": [
    {
     "data": {
      "text/plain": [
       "<statsmodels.regression.linear_model.RegressionResultsWrapper at 0x1fbf834a8b0>"
      ]
     },
     "execution_count": 77,
     "metadata": {},
     "output_type": "execute_result"
    }
   ],
   "source": [
    "# linear model fitting \n",
    "import statsmodels.formula.api as smf\n",
    "linear_model=smf.ols(\"Delivery_Time ~ Sorting_Time\",data=delivery_time).fit()\n",
    "linear_model"
   ]
  },
  {
   "cell_type": "code",
   "execution_count": 78,
   "id": "66346d59",
   "metadata": {
    "ExecuteTime": {
     "end_time": "2023-04-24T10:53:46.767876Z",
     "start_time": "2023-04-24T10:53:46.737039Z"
    }
   },
   "outputs": [
    {
     "data": {
      "text/plain": [
       "Intercept       6.582734\n",
       "Sorting_Time    1.649020\n",
       "dtype: float64"
      ]
     },
     "execution_count": 78,
     "metadata": {},
     "output_type": "execute_result"
    }
   ],
   "source": [
    "linear_model.params"
   ]
  },
  {
   "cell_type": "code",
   "execution_count": 79,
   "id": "2fae495c",
   "metadata": {
    "ExecuteTime": {
     "end_time": "2023-04-24T10:53:46.814831Z",
     "start_time": "2023-04-24T10:53:46.774222Z"
    }
   },
   "outputs": [
    {
     "data": {
      "text/plain": [
       "0.6822714748417231"
      ]
     },
     "execution_count": 79,
     "metadata": {},
     "output_type": "execute_result"
    }
   ],
   "source": [
    "linear_model.rsquared"
   ]
  },
  {
   "cell_type": "code",
   "execution_count": 80,
   "id": "5df870ae",
   "metadata": {
    "ExecuteTime": {
     "end_time": "2023-04-24T10:53:47.017626Z",
     "start_time": "2023-04-24T10:53:46.825303Z"
    }
   },
   "outputs": [
    {
     "data": {
      "text/html": [
       "<table class=\"simpletable\">\n",
       "<caption>OLS Regression Results</caption>\n",
       "<tr>\n",
       "  <th>Dep. Variable:</th>      <td>Delivery_Time</td>  <th>  R-squared:         </th> <td>   0.682</td>\n",
       "</tr>\n",
       "<tr>\n",
       "  <th>Model:</th>                   <td>OLS</td>       <th>  Adj. R-squared:    </th> <td>   0.666</td>\n",
       "</tr>\n",
       "<tr>\n",
       "  <th>Method:</th>             <td>Least Squares</td>  <th>  F-statistic:       </th> <td>   40.80</td>\n",
       "</tr>\n",
       "<tr>\n",
       "  <th>Date:</th>             <td>Mon, 24 Apr 2023</td> <th>  Prob (F-statistic):</th> <td>3.98e-06</td>\n",
       "</tr>\n",
       "<tr>\n",
       "  <th>Time:</th>                 <td>16:23:46</td>     <th>  Log-Likelihood:    </th> <td> -51.357</td>\n",
       "</tr>\n",
       "<tr>\n",
       "  <th>No. Observations:</th>      <td>    21</td>      <th>  AIC:               </th> <td>   106.7</td>\n",
       "</tr>\n",
       "<tr>\n",
       "  <th>Df Residuals:</th>          <td>    19</td>      <th>  BIC:               </th> <td>   108.8</td>\n",
       "</tr>\n",
       "<tr>\n",
       "  <th>Df Model:</th>              <td>     1</td>      <th>                     </th>     <td> </td>   \n",
       "</tr>\n",
       "<tr>\n",
       "  <th>Covariance Type:</th>      <td>nonrobust</td>    <th>                     </th>     <td> </td>   \n",
       "</tr>\n",
       "</table>\n",
       "<table class=\"simpletable\">\n",
       "<tr>\n",
       "        <td></td>          <th>coef</th>     <th>std err</th>      <th>t</th>      <th>P>|t|</th>  <th>[0.025</th>    <th>0.975]</th>  \n",
       "</tr>\n",
       "<tr>\n",
       "  <th>Intercept</th>    <td>    6.5827</td> <td>    1.722</td> <td>    3.823</td> <td> 0.001</td> <td>    2.979</td> <td>   10.186</td>\n",
       "</tr>\n",
       "<tr>\n",
       "  <th>Sorting_Time</th> <td>    1.6490</td> <td>    0.258</td> <td>    6.387</td> <td> 0.000</td> <td>    1.109</td> <td>    2.189</td>\n",
       "</tr>\n",
       "</table>\n",
       "<table class=\"simpletable\">\n",
       "<tr>\n",
       "  <th>Omnibus:</th>       <td> 3.649</td> <th>  Durbin-Watson:     </th> <td>   1.248</td>\n",
       "</tr>\n",
       "<tr>\n",
       "  <th>Prob(Omnibus):</th> <td> 0.161</td> <th>  Jarque-Bera (JB):  </th> <td>   2.086</td>\n",
       "</tr>\n",
       "<tr>\n",
       "  <th>Skew:</th>          <td> 0.750</td> <th>  Prob(JB):          </th> <td>   0.352</td>\n",
       "</tr>\n",
       "<tr>\n",
       "  <th>Kurtosis:</th>      <td> 3.367</td> <th>  Cond. No.          </th> <td>    18.3</td>\n",
       "</tr>\n",
       "</table><br/><br/>Notes:<br/>[1] Standard Errors assume that the covariance matrix of the errors is correctly specified."
      ],
      "text/plain": [
       "<class 'statsmodels.iolib.summary.Summary'>\n",
       "\"\"\"\n",
       "                            OLS Regression Results                            \n",
       "==============================================================================\n",
       "Dep. Variable:          Delivery_Time   R-squared:                       0.682\n",
       "Model:                            OLS   Adj. R-squared:                  0.666\n",
       "Method:                 Least Squares   F-statistic:                     40.80\n",
       "Date:                Mon, 24 Apr 2023   Prob (F-statistic):           3.98e-06\n",
       "Time:                        16:23:46   Log-Likelihood:                -51.357\n",
       "No. Observations:                  21   AIC:                             106.7\n",
       "Df Residuals:                      19   BIC:                             108.8\n",
       "Df Model:                           1                                         \n",
       "Covariance Type:            nonrobust                                         \n",
       "================================================================================\n",
       "                   coef    std err          t      P>|t|      [0.025      0.975]\n",
       "--------------------------------------------------------------------------------\n",
       "Intercept        6.5827      1.722      3.823      0.001       2.979      10.186\n",
       "Sorting_Time     1.6490      0.258      6.387      0.000       1.109       2.189\n",
       "==============================================================================\n",
       "Omnibus:                        3.649   Durbin-Watson:                   1.248\n",
       "Prob(Omnibus):                  0.161   Jarque-Bera (JB):                2.086\n",
       "Skew:                           0.750   Prob(JB):                        0.352\n",
       "Kurtosis:                       3.367   Cond. No.                         18.3\n",
       "==============================================================================\n",
       "\n",
       "Notes:\n",
       "[1] Standard Errors assume that the covariance matrix of the errors is correctly specified.\n",
       "\"\"\""
      ]
     },
     "execution_count": 80,
     "metadata": {},
     "output_type": "execute_result"
    }
   ],
   "source": [
    "linear_model.summary()"
   ]
  },
  {
   "cell_type": "markdown",
   "id": "4a960525",
   "metadata": {},
   "source": [
    "Our targeted R-sq should be 75% but here R-sq value is 0.682 i.e 68% so, here error / residual occuered."
   ]
  },
  {
   "cell_type": "code",
   "execution_count": 81,
   "id": "096cbfd0",
   "metadata": {
    "ExecuteTime": {
     "end_time": "2023-04-24T10:53:47.050288Z",
     "start_time": "2023-04-24T10:53:47.024903Z"
    }
   },
   "outputs": [
    {
     "data": {
      "text/plain": [
       "0    -2.072933\n",
       "1     0.321186\n",
       "2     3.273147\n",
       "3     2.576087\n",
       "4     5.927067\n",
       "5    -1.126853\n",
       "6     0.874127\n",
       "7    -2.029794\n",
       "8    -5.172933\n",
       "9    -2.673913\n",
       "10    0.055107\n",
       "11   -2.428814\n",
       "12   -1.445873\n",
       "13   -0.029794\n",
       "14    0.500206\n",
       "15    1.701186\n",
       "16   -2.726853\n",
       "17   -0.015873\n",
       "18   -1.880774\n",
       "19   -0.295873\n",
       "20    6.672167\n",
       "dtype: float64"
      ]
     },
     "execution_count": 81,
     "metadata": {},
     "output_type": "execute_result"
    }
   ],
   "source": [
    "# checking error / residuals in the model\n",
    "linear_model.resid"
   ]
  },
  {
   "cell_type": "code",
   "execution_count": 82,
   "id": "154bf878",
   "metadata": {
    "ExecuteTime": {
     "end_time": "2023-04-24T10:53:47.098155Z",
     "start_time": "2023-04-24T10:53:47.055935Z"
    }
   },
   "outputs": [
    {
     "data": {
      "text/plain": [
       "0     23.072933\n",
       "1     13.178814\n",
       "2     16.476853\n",
       "3     21.423913\n",
       "4     23.072933\n",
       "5     16.476853\n",
       "6     18.125873\n",
       "7     11.529794\n",
       "8     23.072933\n",
       "9     21.423913\n",
       "10    19.774893\n",
       "11    13.178814\n",
       "12    18.125873\n",
       "13    11.529794\n",
       "14    11.529794\n",
       "15    13.178814\n",
       "16    16.476853\n",
       "17    18.125873\n",
       "18     9.880774\n",
       "19    18.125873\n",
       "20    14.827833\n",
       "dtype: float64"
      ]
     },
     "execution_count": 82,
     "metadata": {},
     "output_type": "execute_result"
    }
   ],
   "source": [
    "# Giving all the errors.\n",
    "# we know,\n",
    "# error= AV-PV\n",
    "# Predicted value finding \n",
    "linear_model_pred=linear_model.predict(pd.DataFrame(delivery_time[\"Sorting_Time\"]))\n",
    "linear_model_pred"
   ]
  },
  {
   "cell_type": "code",
   "execution_count": 83,
   "id": "48a41c5d",
   "metadata": {
    "ExecuteTime": {
     "end_time": "2023-04-24T10:53:47.620439Z",
     "start_time": "2023-04-24T10:53:47.103078Z"
    }
   },
   "outputs": [
    {
     "data": {
      "text/plain": [
       "[<matplotlib.lines.Line2D at 0x1fbe68e7490>]"
      ]
     },
     "execution_count": 83,
     "metadata": {},
     "output_type": "execute_result"
    },
    {
     "data": {
      "image/png": "[encoded data removed]",
      "text/plain": [
       "<Figure size 360x216 with 1 Axes>"
      ]
     },
     "metadata": {},
     "output_type": "display_data"
    }
   ],
   "source": [
    "# scatter plot of predicted datapoints\n",
    "plt.style.use('_classic_test_patch')\n",
    "plt.plot(delivery_time[\"Sorting_Time\"],linear_model_pred,\"go\")"
   ]
  },
  {
   "cell_type": "code",
   "execution_count": 84,
   "id": "3fc30a04",
   "metadata": {
    "ExecuteTime": {
     "end_time": "2023-04-24T10:53:47.635885Z",
     "start_time": "2023-04-24T10:53:47.624199Z"
    }
   },
   "outputs": [
    {
     "data": {
      "text/plain": [
       "2.7916503270617654"
      ]
     },
     "execution_count": 84,
     "metadata": {},
     "output_type": "execute_result"
    }
   ],
   "source": [
    "# Now, to finding total error, use RMSE (root mean square error)\n",
    "import numpy as np\n",
    "linear_model_rmse=np.sqrt(np.mean((np.array(delivery_time[\"Delivery_Time\"])-np.array(linear_model_pred))**2))\n",
    "linear_model_rmse"
   ]
  },
  {
   "cell_type": "markdown",
   "id": "c7ded154",
   "metadata": {
    "ExecuteTime": {
     "end_time": "2023-04-23T15:07:49.359749Z",
     "start_time": "2023-04-23T15:07:49.334784Z"
    }
   },
   "source": [
    "Now, i want to increase R-sq value so now i am applying transformation.\n",
    "Using log transformation, doing same things that was done in above linear model and checking that R-sq value reached to 75% or not."
   ]
  },
  {
   "cell_type": "code",
   "execution_count": 85,
   "id": "5b7ec81d",
   "metadata": {
    "ExecuteTime": {
     "end_time": "2023-04-24T10:53:47.732772Z",
     "start_time": "2023-04-24T10:53:47.641502Z"
    }
   },
   "outputs": [
    {
     "data": {
      "text/plain": [
       "<statsmodels.regression.linear_model.RegressionResultsWrapper at 0x1fbf83cfa90>"
      ]
     },
     "execution_count": 85,
     "metadata": {},
     "output_type": "execute_result"
    }
   ],
   "source": [
    "# log transformation model\n",
    "model_log=smf.ols(\"Delivery_Time~np.log(Sorting_Time)\",data=delivery_time).fit()\n",
    "model_log"
   ]
  },
  {
   "cell_type": "code",
   "execution_count": 86,
   "id": "dbd0ddab",
   "metadata": {
    "ExecuteTime": {
     "end_time": "2023-04-24T10:53:47.763925Z",
     "start_time": "2023-04-24T10:53:47.736063Z"
    }
   },
   "outputs": [
    {
     "data": {
      "text/plain": [
       "Intercept               1.159684\n",
       "np.log(Sorting_Time)    9.043413\n",
       "dtype: float64"
      ]
     },
     "execution_count": 86,
     "metadata": {},
     "output_type": "execute_result"
    }
   ],
   "source": [
    "model_log.params"
   ]
  },
  {
   "cell_type": "code",
   "execution_count": 87,
   "id": "92433528",
   "metadata": {
    "ExecuteTime": {
     "end_time": "2023-04-24T10:53:47.811768Z",
     "start_time": "2023-04-24T10:53:47.767224Z"
    }
   },
   "outputs": [
    {
     "data": {
      "text/plain": [
       "0.6954434611324223"
      ]
     },
     "execution_count": 87,
     "metadata": {},
     "output_type": "execute_result"
    }
   ],
   "source": [
    "model_log.rsquared"
   ]
  },
  {
   "cell_type": "code",
   "execution_count": 88,
   "id": "314321f4",
   "metadata": {
    "ExecuteTime": {
     "end_time": "2023-04-24T10:53:47.862426Z",
     "start_time": "2023-04-24T10:53:47.816924Z"
    }
   },
   "outputs": [
    {
     "data": {
      "text/html": [
       "<table class=\"simpletable\">\n",
       "<caption>OLS Regression Results</caption>\n",
       "<tr>\n",
       "  <th>Dep. Variable:</th>      <td>Delivery_Time</td>  <th>  R-squared:         </th> <td>   0.695</td>\n",
       "</tr>\n",
       "<tr>\n",
       "  <th>Model:</th>                   <td>OLS</td>       <th>  Adj. R-squared:    </th> <td>   0.679</td>\n",
       "</tr>\n",
       "<tr>\n",
       "  <th>Method:</th>             <td>Least Squares</td>  <th>  F-statistic:       </th> <td>   43.39</td>\n",
       "</tr>\n",
       "<tr>\n",
       "  <th>Date:</th>             <td>Mon, 24 Apr 2023</td> <th>  Prob (F-statistic):</th> <td>2.64e-06</td>\n",
       "</tr>\n",
       "<tr>\n",
       "  <th>Time:</th>                 <td>16:23:47</td>     <th>  Log-Likelihood:    </th> <td> -50.912</td>\n",
       "</tr>\n",
       "<tr>\n",
       "  <th>No. Observations:</th>      <td>    21</td>      <th>  AIC:               </th> <td>   105.8</td>\n",
       "</tr>\n",
       "<tr>\n",
       "  <th>Df Residuals:</th>          <td>    19</td>      <th>  BIC:               </th> <td>   107.9</td>\n",
       "</tr>\n",
       "<tr>\n",
       "  <th>Df Model:</th>              <td>     1</td>      <th>                     </th>     <td> </td>   \n",
       "</tr>\n",
       "<tr>\n",
       "  <th>Covariance Type:</th>      <td>nonrobust</td>    <th>                     </th>     <td> </td>   \n",
       "</tr>\n",
       "</table>\n",
       "<table class=\"simpletable\">\n",
       "<tr>\n",
       "            <td></td>              <th>coef</th>     <th>std err</th>      <th>t</th>      <th>P>|t|</th>  <th>[0.025</th>    <th>0.975]</th>  \n",
       "</tr>\n",
       "<tr>\n",
       "  <th>Intercept</th>            <td>    1.1597</td> <td>    2.455</td> <td>    0.472</td> <td> 0.642</td> <td>   -3.978</td> <td>    6.297</td>\n",
       "</tr>\n",
       "<tr>\n",
       "  <th>np.log(Sorting_Time)</th> <td>    9.0434</td> <td>    1.373</td> <td>    6.587</td> <td> 0.000</td> <td>    6.170</td> <td>   11.917</td>\n",
       "</tr>\n",
       "</table>\n",
       "<table class=\"simpletable\">\n",
       "<tr>\n",
       "  <th>Omnibus:</th>       <td> 5.552</td> <th>  Durbin-Watson:     </th> <td>   1.427</td>\n",
       "</tr>\n",
       "<tr>\n",
       "  <th>Prob(Omnibus):</th> <td> 0.062</td> <th>  Jarque-Bera (JB):  </th> <td>   3.481</td>\n",
       "</tr>\n",
       "<tr>\n",
       "  <th>Skew:</th>          <td> 0.946</td> <th>  Prob(JB):          </th> <td>   0.175</td>\n",
       "</tr>\n",
       "<tr>\n",
       "  <th>Kurtosis:</th>      <td> 3.628</td> <th>  Cond. No.          </th> <td>    9.08</td>\n",
       "</tr>\n",
       "</table><br/><br/>Notes:<br/>[1] Standard Errors assume that the covariance matrix of the errors is correctly specified."
      ],
      "text/plain": [
       "<class 'statsmodels.iolib.summary.Summary'>\n",
       "\"\"\"\n",
       "                            OLS Regression Results                            \n",
       "==============================================================================\n",
       "Dep. Variable:          Delivery_Time   R-squared:                       0.695\n",
       "Model:                            OLS   Adj. R-squared:                  0.679\n",
       "Method:                 Least Squares   F-statistic:                     43.39\n",
       "Date:                Mon, 24 Apr 2023   Prob (F-statistic):           2.64e-06\n",
       "Time:                        16:23:47   Log-Likelihood:                -50.912\n",
       "No. Observations:                  21   AIC:                             105.8\n",
       "Df Residuals:                      19   BIC:                             107.9\n",
       "Df Model:                           1                                         \n",
       "Covariance Type:            nonrobust                                         \n",
       "========================================================================================\n",
       "                           coef    std err          t      P>|t|      [0.025      0.975]\n",
       "----------------------------------------------------------------------------------------\n",
       "Intercept                1.1597      2.455      0.472      0.642      -3.978       6.297\n",
       "np.log(Sorting_Time)     9.0434      1.373      6.587      0.000       6.170      11.917\n",
       "==============================================================================\n",
       "Omnibus:                        5.552   Durbin-Watson:                   1.427\n",
       "Prob(Omnibus):                  0.062   Jarque-Bera (JB):                3.481\n",
       "Skew:                           0.946   Prob(JB):                        0.175\n",
       "Kurtosis:                       3.628   Cond. No.                         9.08\n",
       "==============================================================================\n",
       "\n",
       "Notes:\n",
       "[1] Standard Errors assume that the covariance matrix of the errors is correctly specified.\n",
       "\"\"\""
      ]
     },
     "execution_count": 88,
     "metadata": {},
     "output_type": "execute_result"
    }
   ],
   "source": [
    "model_log.summary()"
   ]
  },
  {
   "cell_type": "code",
   "execution_count": 89,
   "id": "7b78b4ea",
   "metadata": {
    "ExecuteTime": {
     "end_time": "2023-04-24T10:53:47.999030Z",
     "start_time": "2023-04-24T10:53:47.969099Z"
    }
   },
   "outputs": [
    {
     "data": {
      "text/plain": [
       "0    -0.982913\n",
       "1    -0.196517\n",
       "2     2.386695\n",
       "3     2.969906\n",
       "4     7.017087\n",
       "5    -2.013305\n",
       "6     0.242646\n",
       "7    -1.594889\n",
       "8    -4.082913\n",
       "9    -2.280094\n",
       "10   -0.134933\n",
       "11   -2.946517\n",
       "12   -2.077354\n",
       "13    0.405111\n",
       "14    0.935111\n",
       "15    1.183483\n",
       "16   -3.613305\n",
       "17   -0.647354\n",
       "18    0.571900\n",
       "19   -0.927354\n",
       "20    5.785504\n",
       "dtype: float64"
      ]
     },
     "execution_count": 89,
     "metadata": {},
     "output_type": "execute_result"
    }
   ],
   "source": [
    "model_log.resid"
   ]
  },
  {
   "cell_type": "code",
   "execution_count": 90,
   "id": "47165ea8",
   "metadata": {
    "ExecuteTime": {
     "end_time": "2023-04-24T10:53:48.315184Z",
     "start_time": "2023-04-24T10:53:48.284082Z"
    }
   },
   "outputs": [
    {
     "data": {
      "text/plain": [
       "0     21.982913\n",
       "1     13.696517\n",
       "2     17.363305\n",
       "3     21.030094\n",
       "4     21.982913\n",
       "5     17.363305\n",
       "6     18.757354\n",
       "7     11.094889\n",
       "8     21.982913\n",
       "9     21.030094\n",
       "10    19.964933\n",
       "11    13.696517\n",
       "12    18.757354\n",
       "13    11.094889\n",
       "14    11.094889\n",
       "15    13.696517\n",
       "16    17.363305\n",
       "17    18.757354\n",
       "18     7.428100\n",
       "19    18.757354\n",
       "20    15.714496\n",
       "dtype: float64"
      ]
     },
     "execution_count": 90,
     "metadata": {},
     "output_type": "execute_result"
    }
   ],
   "source": [
    "model_log_pred=model_log.predict(pd.DataFrame(delivery_time[\"Sorting_Time\"]))\n",
    "model_log_pred"
   ]
  },
  {
   "cell_type": "code",
   "execution_count": 91,
   "id": "f9ec4598",
   "metadata": {
    "ExecuteTime": {
     "end_time": "2023-04-24T10:53:48.914327Z",
     "start_time": "2023-04-24T10:53:48.502490Z"
    }
   },
   "outputs": [
    {
     "data": {
      "text/plain": [
       "[<matplotlib.lines.Line2D at 0x1fbe6954d00>]"
      ]
     },
     "execution_count": 91,
     "metadata": {},
     "output_type": "execute_result"
    },
    {
     "data": {
      "image/png": "[encoded data removed]",
      "text/plain": [
       "<Figure size 640x480 with 1 Axes>"
      ]
     },
     "metadata": {},
     "output_type": "display_data"
    }
   ],
   "source": [
    "plt.style.use('classic')\n",
    "plt.plot(delivery_time[\"Sorting_Time\"],model_log_pred,\"go\")"
   ]
  },
  {
   "cell_type": "code",
   "execution_count": 92,
   "id": "9ab7a0bb",
   "metadata": {
    "ExecuteTime": {
     "end_time": "2023-04-24T10:53:48.930982Z",
     "start_time": "2023-04-24T10:53:48.919667Z"
    }
   },
   "outputs": [
    {
     "data": {
      "text/plain": [
       "2.733171476682066"
      ]
     },
     "execution_count": 92,
     "metadata": {},
     "output_type": "execute_result"
    }
   ],
   "source": [
    "import numpy as np\n",
    "model_log_rmse=np.sqrt(np.mean((np.array(delivery_time[\"Delivery_Time\"])-np.array(model_log_pred))**2))\n",
    "model_log_rmse"
   ]
  },
  {
   "cell_type": "markdown",
   "id": "5aff77bb",
   "metadata": {},
   "source": [
    "But still we are not achieved our target R-sq value.\n",
    "Now, we use exponential transformation."
   ]
  },
  {
   "cell_type": "code",
   "execution_count": 93,
   "id": "aa712735",
   "metadata": {
    "ExecuteTime": {
     "end_time": "2023-04-24T10:53:49.230430Z",
     "start_time": "2023-04-24T10:53:49.189794Z"
    }
   },
   "outputs": [
    {
     "data": {
      "text/plain": [
       "<statsmodels.regression.linear_model.RegressionResultsWrapper at 0x1fbf8009100>"
      ]
     },
     "execution_count": 93,
     "metadata": {},
     "output_type": "execute_result"
    }
   ],
   "source": [
    "import statsmodels.formula.api as smf\n",
    "model_exp=smf.ols(\"np.log(Delivery_Time)~Sorting_Time\",data=delivery_time).fit()\n",
    "model_exp"
   ]
  },
  {
   "cell_type": "code",
   "execution_count": 94,
   "id": "bd3c3069",
   "metadata": {
    "ExecuteTime": {
     "end_time": "2023-04-24T10:53:49.447032Z",
     "start_time": "2023-04-24T10:53:49.420283Z"
    }
   },
   "outputs": [
    {
     "data": {
      "text/plain": [
       "Intercept       2.121372\n",
       "Sorting_Time    0.105552\n",
       "dtype: float64"
      ]
     },
     "execution_count": 94,
     "metadata": {},
     "output_type": "execute_result"
    }
   ],
   "source": [
    "model_exp.params"
   ]
  },
  {
   "cell_type": "code",
   "execution_count": 95,
   "id": "37754db5",
   "metadata": {
    "ExecuteTime": {
     "end_time": "2023-04-24T10:53:49.646571Z",
     "start_time": "2023-04-24T10:53:49.625482Z"
    }
   },
   "outputs": [
    {
     "data": {
      "text/plain": [
       "0.7109478980584187"
      ]
     },
     "execution_count": 95,
     "metadata": {},
     "output_type": "execute_result"
    }
   ],
   "source": [
    "model_exp.rsquared"
   ]
  },
  {
   "cell_type": "code",
   "execution_count": 96,
   "id": "24c653e5",
   "metadata": {
    "ExecuteTime": {
     "end_time": "2023-04-24T10:53:49.896120Z",
     "start_time": "2023-04-24T10:53:49.851907Z"
    }
   },
   "outputs": [
    {
     "data": {
      "text/html": [
       "<table class=\"simpletable\">\n",
       "<caption>OLS Regression Results</caption>\n",
       "<tr>\n",
       "  <th>Dep. Variable:</th>    <td>np.log(Delivery_Time)</td> <th>  R-squared:         </th> <td>   0.711</td>\n",
       "</tr>\n",
       "<tr>\n",
       "  <th>Model:</th>                     <td>OLS</td>          <th>  Adj. R-squared:    </th> <td>   0.696</td>\n",
       "</tr>\n",
       "<tr>\n",
       "  <th>Method:</th>               <td>Least Squares</td>     <th>  F-statistic:       </th> <td>   46.73</td>\n",
       "</tr>\n",
       "<tr>\n",
       "  <th>Date:</th>               <td>Mon, 24 Apr 2023</td>    <th>  Prob (F-statistic):</th> <td>1.59e-06</td>\n",
       "</tr>\n",
       "<tr>\n",
       "  <th>Time:</th>                   <td>16:23:49</td>        <th>  Log-Likelihood:    </th> <td>  7.7920</td>\n",
       "</tr>\n",
       "<tr>\n",
       "  <th>No. Observations:</th>        <td>    21</td>         <th>  AIC:               </th> <td>  -11.58</td>\n",
       "</tr>\n",
       "<tr>\n",
       "  <th>Df Residuals:</th>            <td>    19</td>         <th>  BIC:               </th> <td>  -9.495</td>\n",
       "</tr>\n",
       "<tr>\n",
       "  <th>Df Model:</th>                <td>     1</td>         <th>                     </th>     <td> </td>   \n",
       "</tr>\n",
       "<tr>\n",
       "  <th>Covariance Type:</th>        <td>nonrobust</td>       <th>                     </th>     <td> </td>   \n",
       "</tr>\n",
       "</table>\n",
       "<table class=\"simpletable\">\n",
       "<tr>\n",
       "        <td></td>          <th>coef</th>     <th>std err</th>      <th>t</th>      <th>P>|t|</th>  <th>[0.025</th>    <th>0.975]</th>  \n",
       "</tr>\n",
       "<tr>\n",
       "  <th>Intercept</th>    <td>    2.1214</td> <td>    0.103</td> <td>   20.601</td> <td> 0.000</td> <td>    1.906</td> <td>    2.337</td>\n",
       "</tr>\n",
       "<tr>\n",
       "  <th>Sorting_Time</th> <td>    0.1056</td> <td>    0.015</td> <td>    6.836</td> <td> 0.000</td> <td>    0.073</td> <td>    0.138</td>\n",
       "</tr>\n",
       "</table>\n",
       "<table class=\"simpletable\">\n",
       "<tr>\n",
       "  <th>Omnibus:</th>       <td> 1.238</td> <th>  Durbin-Watson:     </th> <td>   1.325</td>\n",
       "</tr>\n",
       "<tr>\n",
       "  <th>Prob(Omnibus):</th> <td> 0.538</td> <th>  Jarque-Bera (JB):  </th> <td>   0.544</td>\n",
       "</tr>\n",
       "<tr>\n",
       "  <th>Skew:</th>          <td> 0.393</td> <th>  Prob(JB):          </th> <td>   0.762</td>\n",
       "</tr>\n",
       "<tr>\n",
       "  <th>Kurtosis:</th>      <td> 3.067</td> <th>  Cond. No.          </th> <td>    18.3</td>\n",
       "</tr>\n",
       "</table><br/><br/>Notes:<br/>[1] Standard Errors assume that the covariance matrix of the errors is correctly specified."
      ],
      "text/plain": [
       "<class 'statsmodels.iolib.summary.Summary'>\n",
       "\"\"\"\n",
       "                              OLS Regression Results                             \n",
       "=================================================================================\n",
       "Dep. Variable:     np.log(Delivery_Time)   R-squared:                       0.711\n",
       "Model:                               OLS   Adj. R-squared:                  0.696\n",
       "Method:                    Least Squares   F-statistic:                     46.73\n",
       "Date:                   Mon, 24 Apr 2023   Prob (F-statistic):           1.59e-06\n",
       "Time:                           16:23:49   Log-Likelihood:                 7.7920\n",
       "No. Observations:                     21   AIC:                            -11.58\n",
       "Df Residuals:                         19   BIC:                            -9.495\n",
       "Df Model:                              1                                         \n",
       "Covariance Type:               nonrobust                                         \n",
       "================================================================================\n",
       "                   coef    std err          t      P>|t|      [0.025      0.975]\n",
       "--------------------------------------------------------------------------------\n",
       "Intercept        2.1214      0.103     20.601      0.000       1.906       2.337\n",
       "Sorting_Time     0.1056      0.015      6.836      0.000       0.073       0.138\n",
       "==============================================================================\n",
       "Omnibus:                        1.238   Durbin-Watson:                   1.325\n",
       "Prob(Omnibus):                  0.538   Jarque-Bera (JB):                0.544\n",
       "Skew:                           0.393   Prob(JB):                        0.762\n",
       "Kurtosis:                       3.067   Cond. No.                         18.3\n",
       "==============================================================================\n",
       "\n",
       "Notes:\n",
       "[1] Standard Errors assume that the covariance matrix of the errors is correctly specified.\n",
       "\"\"\""
      ]
     },
     "execution_count": 96,
     "metadata": {},
     "output_type": "execute_result"
    }
   ],
   "source": [
    "model_exp.summary()"
   ]
  },
  {
   "cell_type": "code",
   "execution_count": 97,
   "id": "3ec8d51c",
   "metadata": {
    "ExecuteTime": {
     "end_time": "2023-04-24T10:53:50.095852Z",
     "start_time": "2023-04-24T10:53:50.071019Z"
    }
   },
   "outputs": [
    {
     "data": {
      "text/plain": [
       "0    -0.132365\n",
       "1     0.059111\n",
       "2     0.228472\n",
       "3     0.106718\n",
       "4     0.190408\n",
       "5    -0.023566\n",
       "6     0.084206\n",
       "7    -0.186735\n",
       "8    -0.292087\n",
       "9    -0.140142\n",
       "10    0.021411\n",
       "11   -0.168672\n",
       "12   -0.046023\n",
       "13    0.004320\n",
       "14    0.049377\n",
       "15    0.156440\n",
       "16   -0.133643\n",
       "17    0.036231\n",
       "18   -0.253034\n",
       "19    0.020649\n",
       "20    0.418923\n",
       "dtype: float64"
      ]
     },
     "execution_count": 97,
     "metadata": {},
     "output_type": "execute_result"
    }
   ],
   "source": [
    "model_exp.resid"
   ]
  },
  {
   "cell_type": "code",
   "execution_count": 98,
   "id": "e5bf65ba",
   "metadata": {
    "ExecuteTime": {
     "end_time": "2023-04-24T10:53:50.312080Z",
     "start_time": "2023-04-24T10:53:50.283916Z"
    }
   },
   "outputs": [
    {
     "data": {
      "text/plain": [
       "0     3.176888\n",
       "1     2.543578\n",
       "2     2.754681\n",
       "3     3.071336\n",
       "4     3.176888\n",
       "5     2.754681\n",
       "6     2.860233\n",
       "7     2.438027\n",
       "8     3.176888\n",
       "9     3.071336\n",
       "10    2.965785\n",
       "11    2.543578\n",
       "12    2.860233\n",
       "13    2.438027\n",
       "14    2.438027\n",
       "15    2.543578\n",
       "16    2.754681\n",
       "17    2.860233\n",
       "18    2.332475\n",
       "19    2.860233\n",
       "20    2.649130\n",
       "dtype: float64"
      ]
     },
     "execution_count": 98,
     "metadata": {},
     "output_type": "execute_result"
    }
   ],
   "source": [
    "model_exp_pred=model_exp.predict(pd.DataFrame(delivery_time[\"Sorting_Time\"]))\n",
    "model_exp_pred"
   ]
  },
  {
   "cell_type": "code",
   "execution_count": 99,
   "id": "3058dec1",
   "metadata": {
    "ExecuteTime": {
     "end_time": "2023-04-24T10:53:50.561715Z",
     "start_time": "2023-04-24T10:53:50.537500Z"
    }
   },
   "outputs": [
    {
     "data": {
      "text/plain": [
       "0     23.972032\n",
       "1     12.725123\n",
       "2     15.716034\n",
       "3     21.570707\n",
       "4     23.972032\n",
       "5     15.716034\n",
       "6     17.465597\n",
       "7     11.450423\n",
       "8     23.972032\n",
       "9     21.570707\n",
       "10    19.409927\n",
       "11    12.725123\n",
       "12    17.465597\n",
       "13    11.450423\n",
       "14    11.450423\n",
       "15    12.725123\n",
       "16    15.716034\n",
       "17    17.465597\n",
       "18    10.303411\n",
       "19    17.465597\n",
       "20    14.141728\n",
       "dtype: float64"
      ]
     },
     "execution_count": 99,
     "metadata": {},
     "output_type": "execute_result"
    }
   ],
   "source": [
    "#As we have used log(Delivery_Time) in preparing model so we need to convert it back.\n",
    "model_exp_predict=np.exp(model_exp_pred)\n",
    "model_exp_predict"
   ]
  },
  {
   "cell_type": "code",
   "execution_count": 100,
   "id": "1ea89f6d",
   "metadata": {
    "ExecuteTime": {
     "end_time": "2023-04-24T10:53:50.811191Z",
     "start_time": "2023-04-24T10:53:50.797657Z"
    }
   },
   "outputs": [
    {
     "data": {
      "text/plain": [
       "2.940250323056201"
      ]
     },
     "execution_count": 100,
     "metadata": {},
     "output_type": "execute_result"
    }
   ],
   "source": [
    "model_exp_rmse=np.sqrt(np.mean((np.array(delivery_time[\"Delivery_Time\"]-np.array(model_exp_predict)))**2))\n",
    "model_exp_rmse"
   ]
  },
  {
   "cell_type": "code",
   "execution_count": 101,
   "id": "bf601e0e",
   "metadata": {
    "ExecuteTime": {
     "end_time": "2023-04-24T10:53:51.260537Z",
     "start_time": "2023-04-24T10:53:51.033793Z"
    }
   },
   "outputs": [
    {
     "name": "stdout",
     "output_type": "stream",
     "text": [
      "['Solarize_Light2', '_classic_test_patch', '_mpl-gallery', '_mpl-gallery-nogrid', 'bmh', 'classic', 'dark_background', 'fast', 'fivethirtyeight', 'ggplot', 'grayscale', 'seaborn', 'seaborn-bright', 'seaborn-colorblind', 'seaborn-dark', 'seaborn-dark-palette', 'seaborn-darkgrid', 'seaborn-deep', 'seaborn-muted', 'seaborn-notebook', 'seaborn-paper', 'seaborn-pastel', 'seaborn-poster', 'seaborn-talk', 'seaborn-ticks', 'seaborn-white', 'seaborn-whitegrid', 'tableau-colorblind10']\n"
     ]
    },
    {
     "data": {
      "image/png": "[encoded data removed]",
      "text/plain": [
       "<Figure size 640x480 with 1 Axes>"
      ]
     },
     "metadata": {},
     "output_type": "display_data"
    }
   ],
   "source": [
    "print(plt.style.available)\n",
    "plt.style.use('classic')\n",
    "plt.plot(model_exp_predict,\"go\")\n",
    "plt.show()"
   ]
  },
  {
   "cell_type": "code",
   "execution_count": 102,
   "id": "dc5a983c",
   "metadata": {
    "ExecuteTime": {
     "end_time": "2023-04-24T10:53:51.277086Z",
     "start_time": "2023-04-24T10:53:51.265817Z"
    }
   },
   "outputs": [
    {
     "data": {
      "text/plain": [
       "0     100\n",
       "1      16\n",
       "2      36\n",
       "3      81\n",
       "4     100\n",
       "5      36\n",
       "6      49\n",
       "7       9\n",
       "8     100\n",
       "9      81\n",
       "10     64\n",
       "11     16\n",
       "12     49\n",
       "13      9\n",
       "14      9\n",
       "15     16\n",
       "16     36\n",
       "17     49\n",
       "18      4\n",
       "19     49\n",
       "20     25\n",
       "Name: Sorting_Time_sq, dtype: int64"
      ]
     },
     "execution_count": 102,
     "metadata": {},
     "output_type": "execute_result"
    }
   ],
   "source": [
    "# But still not improve R-sq value.\n",
    "# So, now square transformation (quadratic model)\n",
    "delivery_time[\"Sorting_Time_sq\"]=delivery_time[\"Sorting_Time\"]*delivery_time[\"Sorting_Time\"]\n",
    "delivery_time[\"Sorting_Time_sq\"]"
   ]
  },
  {
   "cell_type": "code",
   "execution_count": 103,
   "id": "f09fd0b2",
   "metadata": {
    "ExecuteTime": {
     "end_time": "2023-04-24T10:53:51.726798Z",
     "start_time": "2023-04-24T10:53:51.513863Z"
    }
   },
   "outputs": [
    {
     "data": {
      "text/plain": [
       "<statsmodels.regression.linear_model.RegressionResultsWrapper at 0x1fbe69cacd0>"
      ]
     },
     "execution_count": 103,
     "metadata": {},
     "output_type": "execute_result"
    }
   ],
   "source": [
    "model_sq=smf.ols(\"np.log(Delivery_Time)~Sorting_Time+Sorting_Time_sq\",data=delivery_time).fit()\n",
    "model_sq"
   ]
  },
  {
   "cell_type": "code",
   "execution_count": 104,
   "id": "bdb42604",
   "metadata": {
    "ExecuteTime": {
     "end_time": "2023-04-24T10:53:51.859450Z",
     "start_time": "2023-04-24T10:53:51.814086Z"
    }
   },
   "outputs": [
    {
     "data": {
      "text/html": [
       "<table class=\"simpletable\">\n",
       "<caption>OLS Regression Results</caption>\n",
       "<tr>\n",
       "  <th>Dep. Variable:</th>    <td>np.log(Delivery_Time)</td> <th>  R-squared:         </th> <td>   0.765</td>\n",
       "</tr>\n",
       "<tr>\n",
       "  <th>Model:</th>                     <td>OLS</td>          <th>  Adj. R-squared:    </th> <td>   0.739</td>\n",
       "</tr>\n",
       "<tr>\n",
       "  <th>Method:</th>               <td>Least Squares</td>     <th>  F-statistic:       </th> <td>   29.28</td>\n",
       "</tr>\n",
       "<tr>\n",
       "  <th>Date:</th>               <td>Mon, 24 Apr 2023</td>    <th>  Prob (F-statistic):</th> <td>2.20e-06</td>\n",
       "</tr>\n",
       "<tr>\n",
       "  <th>Time:</th>                   <td>16:23:51</td>        <th>  Log-Likelihood:    </th> <td>  9.9597</td>\n",
       "</tr>\n",
       "<tr>\n",
       "  <th>No. Observations:</th>        <td>    21</td>         <th>  AIC:               </th> <td>  -13.92</td>\n",
       "</tr>\n",
       "<tr>\n",
       "  <th>Df Residuals:</th>            <td>    18</td>         <th>  BIC:               </th> <td>  -10.79</td>\n",
       "</tr>\n",
       "<tr>\n",
       "  <th>Df Model:</th>                <td>     2</td>         <th>                     </th>     <td> </td>   \n",
       "</tr>\n",
       "<tr>\n",
       "  <th>Covariance Type:</th>        <td>nonrobust</td>       <th>                     </th>     <td> </td>   \n",
       "</tr>\n",
       "</table>\n",
       "<table class=\"simpletable\">\n",
       "<tr>\n",
       "         <td></td>            <th>coef</th>     <th>std err</th>      <th>t</th>      <th>P>|t|</th>  <th>[0.025</th>    <th>0.975]</th>  \n",
       "</tr>\n",
       "<tr>\n",
       "  <th>Intercept</th>       <td>    1.6997</td> <td>    0.228</td> <td>    7.441</td> <td> 0.000</td> <td>    1.220</td> <td>    2.180</td>\n",
       "</tr>\n",
       "<tr>\n",
       "  <th>Sorting_Time</th>    <td>    0.2659</td> <td>    0.080</td> <td>    3.315</td> <td> 0.004</td> <td>    0.097</td> <td>    0.434</td>\n",
       "</tr>\n",
       "<tr>\n",
       "  <th>Sorting_Time_sq</th> <td>   -0.0128</td> <td>    0.006</td> <td>   -2.032</td> <td> 0.057</td> <td>   -0.026</td> <td>    0.000</td>\n",
       "</tr>\n",
       "</table>\n",
       "<table class=\"simpletable\">\n",
       "<tr>\n",
       "  <th>Omnibus:</th>       <td> 2.548</td> <th>  Durbin-Watson:     </th> <td>   1.369</td>\n",
       "</tr>\n",
       "<tr>\n",
       "  <th>Prob(Omnibus):</th> <td> 0.280</td> <th>  Jarque-Bera (JB):  </th> <td>   1.777</td>\n",
       "</tr>\n",
       "<tr>\n",
       "  <th>Skew:</th>          <td> 0.708</td> <th>  Prob(JB):          </th> <td>   0.411</td>\n",
       "</tr>\n",
       "<tr>\n",
       "  <th>Kurtosis:</th>      <td> 2.846</td> <th>  Cond. No.          </th> <td>    373.</td>\n",
       "</tr>\n",
       "</table><br/><br/>Notes:<br/>[1] Standard Errors assume that the covariance matrix of the errors is correctly specified."
      ],
      "text/plain": [
       "<class 'statsmodels.iolib.summary.Summary'>\n",
       "\"\"\"\n",
       "                              OLS Regression Results                             \n",
       "=================================================================================\n",
       "Dep. Variable:     np.log(Delivery_Time)   R-squared:                       0.765\n",
       "Model:                               OLS   Adj. R-squared:                  0.739\n",
       "Method:                    Least Squares   F-statistic:                     29.28\n",
       "Date:                   Mon, 24 Apr 2023   Prob (F-statistic):           2.20e-06\n",
       "Time:                           16:23:51   Log-Likelihood:                 9.9597\n",
       "No. Observations:                     21   AIC:                            -13.92\n",
       "Df Residuals:                         18   BIC:                            -10.79\n",
       "Df Model:                              2                                         \n",
       "Covariance Type:               nonrobust                                         \n",
       "===================================================================================\n",
       "                      coef    std err          t      P>|t|      [0.025      0.975]\n",
       "-----------------------------------------------------------------------------------\n",
       "Intercept           1.6997      0.228      7.441      0.000       1.220       2.180\n",
       "Sorting_Time        0.2659      0.080      3.315      0.004       0.097       0.434\n",
       "Sorting_Time_sq    -0.0128      0.006     -2.032      0.057      -0.026       0.000\n",
       "==============================================================================\n",
       "Omnibus:                        2.548   Durbin-Watson:                   1.369\n",
       "Prob(Omnibus):                  0.280   Jarque-Bera (JB):                1.777\n",
       "Skew:                           0.708   Prob(JB):                        0.411\n",
       "Kurtosis:                       2.846   Cond. No.                         373.\n",
       "==============================================================================\n",
       "\n",
       "Notes:\n",
       "[1] Standard Errors assume that the covariance matrix of the errors is correctly specified.\n",
       "\"\"\""
      ]
     },
     "execution_count": 104,
     "metadata": {},
     "output_type": "execute_result"
    }
   ],
   "source": [
    "model_sq.summary()"
   ]
  },
  {
   "cell_type": "code",
   "execution_count": 105,
   "id": "28c5ccc5",
   "metadata": {
    "ExecuteTime": {
     "end_time": "2023-04-24T10:53:52.061457Z",
     "start_time": "2023-04-24T10:53:52.048033Z"
    }
   },
   "outputs": [
    {
     "data": {
      "text/plain": [
       "Intercept          1.699704\n",
       "Sorting_Time       0.265922\n",
       "Sorting_Time_sq   -0.012841\n",
       "dtype: float64"
      ]
     },
     "execution_count": 105,
     "metadata": {},
     "output_type": "execute_result"
    }
   ],
   "source": [
    "model_sq.params"
   ]
  },
  {
   "cell_type": "code",
   "execution_count": 106,
   "id": "84049d49",
   "metadata": {
    "ExecuteTime": {
     "end_time": "2023-04-24T10:53:52.292766Z",
     "start_time": "2023-04-24T10:53:52.272859Z"
    }
   },
   "outputs": [
    {
     "data": {
      "text/plain": [
       "0.764866634295373"
      ]
     },
     "execution_count": 106,
     "metadata": {},
     "output_type": "execute_result"
    }
   ],
   "source": [
    "model_sq.rsquared"
   ]
  },
  {
   "cell_type": "code",
   "execution_count": 107,
   "id": "b35e4587",
   "metadata": {
    "ExecuteTime": {
     "end_time": "2023-04-24T10:53:52.525142Z",
     "start_time": "2023-04-24T10:53:52.496471Z"
    }
   },
   "outputs": [
    {
     "data": {
      "text/plain": [
       "0     3.074863\n",
       "1     2.557942\n",
       "2     2.832974\n",
       "3     3.052913\n",
       "4     3.074863\n",
       "5     2.832974\n",
       "6     2.931968\n",
       "7     2.381905\n",
       "8     3.074863\n",
       "9     3.052913\n",
       "10    3.005281\n",
       "11    2.557942\n",
       "12    2.931968\n",
       "13    2.381905\n",
       "14    2.381905\n",
       "15    2.557942\n",
       "16    2.832974\n",
       "17    2.931968\n",
       "18    2.180186\n",
       "19    2.931968\n",
       "20    2.708299\n",
       "dtype: float64"
      ]
     },
     "execution_count": 107,
     "metadata": {},
     "output_type": "execute_result"
    }
   ],
   "source": [
    "model_sq_pred=model_sq.predict(delivery_time)\n",
    "model_sq_pred"
   ]
  },
  {
   "cell_type": "code",
   "execution_count": 108,
   "id": "e6426b23",
   "metadata": {
    "ExecuteTime": {
     "end_time": "2023-04-24T10:53:52.792185Z",
     "start_time": "2023-04-24T10:53:52.765377Z"
    }
   },
   "outputs": [
    {
     "data": {
      "text/plain": [
       "0     21.646921\n",
       "1     12.909227\n",
       "2     16.995933\n",
       "3     21.176938\n",
       "4     21.646921\n",
       "5     16.995933\n",
       "6     18.764526\n",
       "7     10.825502\n",
       "8     21.646921\n",
       "9     21.176938\n",
       "10    20.191891\n",
       "11    12.909227\n",
       "12    18.764526\n",
       "13    10.825502\n",
       "14    10.825502\n",
       "15    12.909227\n",
       "16    16.995933\n",
       "17    18.764526\n",
       "18     8.847949\n",
       "19    18.764526\n",
       "20    15.003730\n",
       "dtype: float64"
      ]
     },
     "execution_count": 108,
     "metadata": {},
     "output_type": "execute_result"
    }
   ],
   "source": [
    "model_sq_predict=np.exp(model_sq_pred)\n",
    "model_sq_predict"
   ]
  },
  {
   "cell_type": "code",
   "execution_count": 109,
   "id": "0b542be0",
   "metadata": {
    "ExecuteTime": {
     "end_time": "2023-04-24T10:53:53.273433Z",
     "start_time": "2023-04-24T10:53:53.031592Z"
    }
   },
   "outputs": [
    {
     "data": {
      "text/plain": [
       "<matplotlib.collections.PathCollection at 0x1fbe6a24f70>"
      ]
     },
     "execution_count": 109,
     "metadata": {},
     "output_type": "execute_result"
    },
    {
     "data": {
      "image/png": "[encoded data removed]",
      "text/plain": [
       "<Figure size 640x480 with 1 Axes>"
      ]
     },
     "metadata": {},
     "output_type": "display_data"
    }
   ],
   "source": [
    "plt.style.use('classic')\n",
    "plt.scatter(delivery_time[\"Sorting_Time\"],delivery_time[\"Delivery_Time\"])"
   ]
  },
  {
   "cell_type": "code",
   "execution_count": 110,
   "id": "7ee96a70",
   "metadata": {
    "ExecuteTime": {
     "end_time": "2023-04-24T10:53:53.656730Z",
     "start_time": "2023-04-24T10:53:53.278024Z"
    }
   },
   "outputs": [
    {
     "data": {
      "text/plain": [
       "[<matplotlib.lines.Line2D at 0x1fbe6a9f1f0>]"
      ]
     },
     "execution_count": 110,
     "metadata": {},
     "output_type": "execute_result"
    },
    {
     "data": {
      "image/png": "[encoded data removed]",
      "text/plain": [
       "<Figure size 640x480 with 1 Axes>"
      ]
     },
     "metadata": {},
     "output_type": "display_data"
    }
   ],
   "source": [
    "plt.style.use('classic')\n",
    "plt.plot(delivery_time[\"Sorting_Time\"],model_sq_predict,\"bo\")"
   ]
  },
  {
   "cell_type": "code",
   "execution_count": 111,
   "id": "4224da54",
   "metadata": {
    "ExecuteTime": {
     "end_time": "2023-04-24T10:53:53.673286Z",
     "start_time": "2023-04-24T10:53:53.657659Z"
    }
   },
   "outputs": [
    {
     "data": {
      "text/plain": [
       "0    -0.030341\n",
       "1     0.044747\n",
       "2     0.150179\n",
       "3     0.125141\n",
       "4     0.292433\n",
       "5    -0.101859\n",
       "6     0.012471\n",
       "7    -0.130613\n",
       "8    -0.190063\n",
       "9    -0.121719\n",
       "10   -0.018085\n",
       "11   -0.183037\n",
       "12   -0.117758\n",
       "13    0.060442\n",
       "14    0.105499\n",
       "15    0.142076\n",
       "16   -0.211935\n",
       "17   -0.035504\n",
       "18   -0.100744\n",
       "19   -0.051086\n",
       "20    0.359754\n",
       "dtype: float64"
      ]
     },
     "execution_count": 111,
     "metadata": {},
     "output_type": "execute_result"
    }
   ],
   "source": [
    "model_sq.resid"
   ]
  },
  {
   "cell_type": "code",
   "execution_count": 112,
   "id": "128dd604",
   "metadata": {
    "ExecuteTime": {
     "end_time": "2023-04-24T10:53:54.105037Z",
     "start_time": "2023-04-24T10:53:53.814075Z"
    }
   },
   "outputs": [
    {
     "data": {
      "text/plain": [
       "(array([3., 5., 1., 4., 2., 2., 2., 0., 1., 1.]),\n",
       " array([-0.21193528, -0.15476634, -0.0975974 , -0.04042846,  0.01674048,\n",
       "         0.07390942,  0.13107836,  0.1882473 ,  0.24541624,  0.30258519,\n",
       "         0.35975413]),\n",
       " <BarContainer object of 10 artists>)"
      ]
     },
     "execution_count": 112,
     "metadata": {},
     "output_type": "execute_result"
    },
    {
     "data": {
      "image/png": "[encoded data removed]",
      "text/plain": [
       "<Figure size 640x480 with 1 Axes>"
      ]
     },
     "metadata": {},
     "output_type": "display_data"
    }
   ],
   "source": [
    "# If we want to see model developed is valid or not, concept call as model validation technique. \n",
    "plt.hist(model_sq.resid)"
   ]
  },
  {
   "cell_type": "markdown",
   "id": "9c609af9",
   "metadata": {
    "ExecuteTime": {
     "end_time": "2023-04-23T15:39:22.828103Z",
     "start_time": "2023-04-23T15:39:22.815172Z"
    }
   },
   "source": [
    "HERE, by using histogram of residuals ,got to know that mean value of residual is zero and variance is constant from the mean value.From this we can say that model developed is valid."
   ]
  },
  {
   "cell_type": "markdown",
   "id": "c6aa020b",
   "metadata": {},
   "source": [
    "# Conclusion:\n",
    " All the four models , in quadratic model we get R-sq value as 0.765 so we reached at our target i.e we get accuracy of model is 76.5%.\n",
    " Also, p-value for independent variables is less than alpha=0.05 so all independent variables are significant.\n",
    "Therefore, out of all 4 models, the last (Quadratic) model is having best R-sq value and it is having lowest error.\n",
    " Hence, this is the best model among the 4 models.\n",
    "\n"
   ]
  },
  {
   "cell_type": "markdown",
   "id": "c53e479c",
   "metadata": {},
   "source": [
    "# 2) Dataset: Salary_hike "
   ]
  },
  {
   "cell_type": "code",
   "execution_count": 113,
   "id": "5e288ff5",
   "metadata": {
    "ExecuteTime": {
     "end_time": "2023-04-24T10:53:54.861704Z",
     "start_time": "2023-04-24T10:53:54.825519Z"
    }
   },
   "outputs": [
    {
     "data": {
      "text/html": [
       "<div>\n",
       "<style scoped>\n",
       "    .dataframe tbody tr th:only-of-type {\n",
       "        vertical-align: middle;\n",
       "    }\n",
       "\n",
       "    .dataframe tbody tr th {\n",
       "        vertical-align: top;\n",
       "    }\n",
       "\n",
       "    .dataframe thead th {\n",
       "        text-align: right;\n",
       "    }\n",
       "</style>\n",
       "<table border=\"1\" class=\"dataframe\">\n",
       "  <thead>\n",
       "    <tr style=\"text-align: right;\">\n",
       "      <th></th>\n",
       "      <th>YearsExperience</th>\n",
       "      <th>Salary</th>\n",
       "    </tr>\n",
       "  </thead>\n",
       "  <tbody>\n",
       "    <tr>\n",
       "      <th>0</th>\n",
       "      <td>1.1</td>\n",
       "      <td>39343.0</td>\n",
       "    </tr>\n",
       "    <tr>\n",
       "      <th>1</th>\n",
       "      <td>1.3</td>\n",
       "      <td>46205.0</td>\n",
       "    </tr>\n",
       "    <tr>\n",
       "      <th>2</th>\n",
       "      <td>1.5</td>\n",
       "      <td>37731.0</td>\n",
       "    </tr>\n",
       "    <tr>\n",
       "      <th>3</th>\n",
       "      <td>2.0</td>\n",
       "      <td>43525.0</td>\n",
       "    </tr>\n",
       "    <tr>\n",
       "      <th>4</th>\n",
       "      <td>2.2</td>\n",
       "      <td>39891.0</td>\n",
       "    </tr>\n",
       "    <tr>\n",
       "      <th>5</th>\n",
       "      <td>2.9</td>\n",
       "      <td>56642.0</td>\n",
       "    </tr>\n",
       "    <tr>\n",
       "      <th>6</th>\n",
       "      <td>3.0</td>\n",
       "      <td>60150.0</td>\n",
       "    </tr>\n",
       "    <tr>\n",
       "      <th>7</th>\n",
       "      <td>3.2</td>\n",
       "      <td>54445.0</td>\n",
       "    </tr>\n",
       "    <tr>\n",
       "      <th>8</th>\n",
       "      <td>3.2</td>\n",
       "      <td>64445.0</td>\n",
       "    </tr>\n",
       "    <tr>\n",
       "      <th>9</th>\n",
       "      <td>3.7</td>\n",
       "      <td>57189.0</td>\n",
       "    </tr>\n",
       "    <tr>\n",
       "      <th>10</th>\n",
       "      <td>3.9</td>\n",
       "      <td>63218.0</td>\n",
       "    </tr>\n",
       "    <tr>\n",
       "      <th>11</th>\n",
       "      <td>4.0</td>\n",
       "      <td>55794.0</td>\n",
       "    </tr>\n",
       "    <tr>\n",
       "      <th>12</th>\n",
       "      <td>4.0</td>\n",
       "      <td>56957.0</td>\n",
       "    </tr>\n",
       "    <tr>\n",
       "      <th>13</th>\n",
       "      <td>4.1</td>\n",
       "      <td>57081.0</td>\n",
       "    </tr>\n",
       "    <tr>\n",
       "      <th>14</th>\n",
       "      <td>4.5</td>\n",
       "      <td>61111.0</td>\n",
       "    </tr>\n",
       "    <tr>\n",
       "      <th>15</th>\n",
       "      <td>4.9</td>\n",
       "      <td>67938.0</td>\n",
       "    </tr>\n",
       "    <tr>\n",
       "      <th>16</th>\n",
       "      <td>5.1</td>\n",
       "      <td>66029.0</td>\n",
       "    </tr>\n",
       "    <tr>\n",
       "      <th>17</th>\n",
       "      <td>5.3</td>\n",
       "      <td>83088.0</td>\n",
       "    </tr>\n",
       "    <tr>\n",
       "      <th>18</th>\n",
       "      <td>5.9</td>\n",
       "      <td>81363.0</td>\n",
       "    </tr>\n",
       "    <tr>\n",
       "      <th>19</th>\n",
       "      <td>6.0</td>\n",
       "      <td>93940.0</td>\n",
       "    </tr>\n",
       "    <tr>\n",
       "      <th>20</th>\n",
       "      <td>6.8</td>\n",
       "      <td>91738.0</td>\n",
       "    </tr>\n",
       "    <tr>\n",
       "      <th>21</th>\n",
       "      <td>7.1</td>\n",
       "      <td>98273.0</td>\n",
       "    </tr>\n",
       "    <tr>\n",
       "      <th>22</th>\n",
       "      <td>7.9</td>\n",
       "      <td>101302.0</td>\n",
       "    </tr>\n",
       "    <tr>\n",
       "      <th>23</th>\n",
       "      <td>8.2</td>\n",
       "      <td>113812.0</td>\n",
       "    </tr>\n",
       "    <tr>\n",
       "      <th>24</th>\n",
       "      <td>8.7</td>\n",
       "      <td>109431.0</td>\n",
       "    </tr>\n",
       "    <tr>\n",
       "      <th>25</th>\n",
       "      <td>9.0</td>\n",
       "      <td>105582.0</td>\n",
       "    </tr>\n",
       "    <tr>\n",
       "      <th>26</th>\n",
       "      <td>9.5</td>\n",
       "      <td>116969.0</td>\n",
       "    </tr>\n",
       "    <tr>\n",
       "      <th>27</th>\n",
       "      <td>9.6</td>\n",
       "      <td>112635.0</td>\n",
       "    </tr>\n",
       "    <tr>\n",
       "      <th>28</th>\n",
       "      <td>10.3</td>\n",
       "      <td>122391.0</td>\n",
       "    </tr>\n",
       "    <tr>\n",
       "      <th>29</th>\n",
       "      <td>10.5</td>\n",
       "      <td>121872.0</td>\n",
       "    </tr>\n",
       "  </tbody>\n",
       "</table>\n",
       "</div>"
      ],
      "text/plain": [
       "    YearsExperience    Salary\n",
       "0               1.1   39343.0\n",
       "1               1.3   46205.0\n",
       "2               1.5   37731.0\n",
       "3               2.0   43525.0\n",
       "4               2.2   39891.0\n",
       "5               2.9   56642.0\n",
       "6               3.0   60150.0\n",
       "7               3.2   54445.0\n",
       "8               3.2   64445.0\n",
       "9               3.7   57189.0\n",
       "10              3.9   63218.0\n",
       "11              4.0   55794.0\n",
       "12              4.0   56957.0\n",
       "13              4.1   57081.0\n",
       "14              4.5   61111.0\n",
       "15              4.9   67938.0\n",
       "16              5.1   66029.0\n",
       "17              5.3   83088.0\n",
       "18              5.9   81363.0\n",
       "19              6.0   93940.0\n",
       "20              6.8   91738.0\n",
       "21              7.1   98273.0\n",
       "22              7.9  101302.0\n",
       "23              8.2  113812.0\n",
       "24              8.7  109431.0\n",
       "25              9.0  105582.0\n",
       "26              9.5  116969.0\n",
       "27              9.6  112635.0\n",
       "28             10.3  122391.0\n",
       "29             10.5  121872.0"
      ]
     },
     "execution_count": 113,
     "metadata": {},
     "output_type": "execute_result"
    }
   ],
   "source": [
    "# importing datset\n",
    "import pandas as pd\n",
    "salary_hike=pd.read_csv(\"Salary_Data.csv\")\n",
    "salary_hike\n",
    "pd.set_option(\"Display.min_rows\",None)\n",
    "salary_hike"
   ]
  },
  {
   "cell_type": "code",
   "execution_count": 114,
   "id": "27397a82",
   "metadata": {
    "ExecuteTime": {
     "end_time": "2023-04-24T10:53:55.087852Z",
     "start_time": "2023-04-24T10:53:55.062651Z"
    }
   },
   "outputs": [],
   "source": [
    "#EDA"
   ]
  },
  {
   "cell_type": "code",
   "execution_count": 115,
   "id": "13a8e41a",
   "metadata": {
    "ExecuteTime": {
     "end_time": "2023-04-24T10:53:55.386273Z",
     "start_time": "2023-04-24T10:53:55.372040Z"
    }
   },
   "outputs": [
    {
     "data": {
      "text/plain": [
       "pandas.core.frame.DataFrame"
      ]
     },
     "execution_count": 115,
     "metadata": {},
     "output_type": "execute_result"
    }
   ],
   "source": [
    "type(salary_hike)"
   ]
  },
  {
   "cell_type": "code",
   "execution_count": 116,
   "id": "0f497e8c",
   "metadata": {
    "ExecuteTime": {
     "end_time": "2023-04-24T10:53:55.666645Z",
     "start_time": "2023-04-24T10:53:55.629474Z"
    }
   },
   "outputs": [
    {
     "data": {
      "text/html": [
       "<div>\n",
       "<style scoped>\n",
       "    .dataframe tbody tr th:only-of-type {\n",
       "        vertical-align: middle;\n",
       "    }\n",
       "\n",
       "    .dataframe tbody tr th {\n",
       "        vertical-align: top;\n",
       "    }\n",
       "\n",
       "    .dataframe thead th {\n",
       "        text-align: right;\n",
       "    }\n",
       "</style>\n",
       "<table border=\"1\" class=\"dataframe\">\n",
       "  <thead>\n",
       "    <tr style=\"text-align: right;\">\n",
       "      <th></th>\n",
       "      <th>YearsExperience</th>\n",
       "      <th>Salary</th>\n",
       "    </tr>\n",
       "  </thead>\n",
       "  <tbody>\n",
       "    <tr>\n",
       "      <th>count</th>\n",
       "      <td>30.000000</td>\n",
       "      <td>30.000000</td>\n",
       "    </tr>\n",
       "    <tr>\n",
       "      <th>mean</th>\n",
       "      <td>5.313333</td>\n",
       "      <td>76003.000000</td>\n",
       "    </tr>\n",
       "    <tr>\n",
       "      <th>std</th>\n",
       "      <td>2.837888</td>\n",
       "      <td>27414.429785</td>\n",
       "    </tr>\n",
       "    <tr>\n",
       "      <th>min</th>\n",
       "      <td>1.100000</td>\n",
       "      <td>37731.000000</td>\n",
       "    </tr>\n",
       "    <tr>\n",
       "      <th>25%</th>\n",
       "      <td>3.200000</td>\n",
       "      <td>56720.750000</td>\n",
       "    </tr>\n",
       "    <tr>\n",
       "      <th>50%</th>\n",
       "      <td>4.700000</td>\n",
       "      <td>65237.000000</td>\n",
       "    </tr>\n",
       "    <tr>\n",
       "      <th>75%</th>\n",
       "      <td>7.700000</td>\n",
       "      <td>100544.750000</td>\n",
       "    </tr>\n",
       "    <tr>\n",
       "      <th>max</th>\n",
       "      <td>10.500000</td>\n",
       "      <td>122391.000000</td>\n",
       "    </tr>\n",
       "  </tbody>\n",
       "</table>\n",
       "</div>"
      ],
      "text/plain": [
       "       YearsExperience         Salary\n",
       "count        30.000000      30.000000\n",
       "mean          5.313333   76003.000000\n",
       "std           2.837888   27414.429785\n",
       "min           1.100000   37731.000000\n",
       "25%           3.200000   56720.750000\n",
       "50%           4.700000   65237.000000\n",
       "75%           7.700000  100544.750000\n",
       "max          10.500000  122391.000000"
      ]
     },
     "execution_count": 116,
     "metadata": {},
     "output_type": "execute_result"
    }
   ],
   "source": [
    "salary_hike.describe()"
   ]
  },
  {
   "cell_type": "code",
   "execution_count": 117,
   "id": "10400309",
   "metadata": {
    "ExecuteTime": {
     "end_time": "2023-04-24T10:53:55.902429Z",
     "start_time": "2023-04-24T10:53:55.878906Z"
    }
   },
   "outputs": [
    {
     "name": "stdout",
     "output_type": "stream",
     "text": [
      "<class 'pandas.core.frame.DataFrame'>\n",
      "RangeIndex: 30 entries, 0 to 29\n",
      "Data columns (total 2 columns):\n",
      " #   Column           Non-Null Count  Dtype  \n",
      "---  ------           --------------  -----  \n",
      " 0   YearsExperience  30 non-null     float64\n",
      " 1   Salary           30 non-null     float64\n",
      "dtypes: float64(2)\n",
      "memory usage: 608.0 bytes\n"
     ]
    }
   ],
   "source": [
    "salary_hike.info()"
   ]
  },
  {
   "cell_type": "code",
   "execution_count": 118,
   "id": "2fb9d259",
   "metadata": {
    "ExecuteTime": {
     "end_time": "2023-04-24T10:53:56.186037Z",
     "start_time": "2023-04-24T10:53:56.173978Z"
    }
   },
   "outputs": [
    {
     "data": {
      "text/plain": [
       "(30, 2)"
      ]
     },
     "execution_count": 118,
     "metadata": {},
     "output_type": "execute_result"
    }
   ],
   "source": [
    "salary_hike.shape"
   ]
  },
  {
   "cell_type": "code",
   "execution_count": 119,
   "id": "8f21450b",
   "metadata": {
    "ExecuteTime": {
     "end_time": "2023-04-24T10:53:56.452285Z",
     "start_time": "2023-04-24T10:53:56.431536Z"
    }
   },
   "outputs": [
    {
     "data": {
      "text/plain": [
       "YearsExperience    float64\n",
       "Salary             float64\n",
       "dtype: object"
      ]
     },
     "execution_count": 119,
     "metadata": {},
     "output_type": "execute_result"
    }
   ],
   "source": [
    "salary_hike.dtypes"
   ]
  },
  {
   "cell_type": "code",
   "execution_count": 120,
   "id": "1f33c347",
   "metadata": {
    "ExecuteTime": {
     "end_time": "2023-04-24T10:53:56.718523Z",
     "start_time": "2023-04-24T10:53:56.703170Z"
    }
   },
   "outputs": [
    {
     "data": {
      "text/plain": [
       "YearsExperience    0\n",
       "Salary             0\n",
       "dtype: int64"
      ]
     },
     "execution_count": 120,
     "metadata": {},
     "output_type": "execute_result"
    }
   ],
   "source": [
    "salary_hike.isnull().sum()"
   ]
  },
  {
   "cell_type": "code",
   "execution_count": 121,
   "id": "203b90fa",
   "metadata": {
    "ExecuteTime": {
     "end_time": "2023-04-24T10:53:57.050547Z",
     "start_time": "2023-04-24T10:53:57.037642Z"
    }
   },
   "outputs": [
    {
     "data": {
      "text/plain": [
       "(0, 2)"
      ]
     },
     "execution_count": 121,
     "metadata": {},
     "output_type": "execute_result"
    }
   ],
   "source": [
    "salary_hike[salary_hike.duplicated()].shape"
   ]
  },
  {
   "cell_type": "code",
   "execution_count": 122,
   "id": "abbbc3cb",
   "metadata": {
    "ExecuteTime": {
     "end_time": "2023-04-24T10:53:57.833356Z",
     "start_time": "2023-04-24T10:53:57.801061Z"
    }
   },
   "outputs": [
    {
     "data": {
      "text/html": [
       "<div>\n",
       "<style scoped>\n",
       "    .dataframe tbody tr th:only-of-type {\n",
       "        vertical-align: middle;\n",
       "    }\n",
       "\n",
       "    .dataframe tbody tr th {\n",
       "        vertical-align: top;\n",
       "    }\n",
       "\n",
       "    .dataframe thead th {\n",
       "        text-align: right;\n",
       "    }\n",
       "</style>\n",
       "<table border=\"1\" class=\"dataframe\">\n",
       "  <thead>\n",
       "    <tr style=\"text-align: right;\">\n",
       "      <th></th>\n",
       "      <th>YearsExperience</th>\n",
       "      <th>Salary</th>\n",
       "    </tr>\n",
       "  </thead>\n",
       "  <tbody>\n",
       "  </tbody>\n",
       "</table>\n",
       "</div>"
      ],
      "text/plain": [
       "Empty DataFrame\n",
       "Columns: [YearsExperience, Salary]\n",
       "Index: []"
      ]
     },
     "execution_count": 122,
     "metadata": {},
     "output_type": "execute_result"
    }
   ],
   "source": [
    "salary_hike[salary_hike.duplicated()]"
   ]
  },
  {
   "cell_type": "code",
   "execution_count": 123,
   "id": "d32bb61d",
   "metadata": {
    "ExecuteTime": {
     "end_time": "2023-04-24T10:54:00.994232Z",
     "start_time": "2023-04-24T10:53:58.042139Z"
    }
   },
   "outputs": [
    {
     "data": {
      "text/plain": [
       "<seaborn.axisgrid.PairGrid at 0x1fbe69caa60>"
      ]
     },
     "execution_count": 123,
     "metadata": {},
     "output_type": "execute_result"
    },
    {
     "data": {
      "image/png": "[encoded data removed]",
      "text/plain": [
       "<Figure size 600x600 with 12 Axes>"
      ]
     },
     "metadata": {},
     "output_type": "display_data"
    }
   ],
   "source": [
    "#pairplot\n",
    "import seaborn as sns\n",
    "sns.pairplot(delivery_time)"
   ]
  },
  {
   "cell_type": "markdown",
   "id": "a1961fc7",
   "metadata": {},
   "source": [
    "Plotting the histogram of each numerical variable (in this case, all features), the main idea here is to visualize the data distribution for each feature. This method can bring fast insights as:\n",
    "\n",
    "-Check the kind of each feature distribution\n",
    "\n",
    "-Check data symmetry\n",
    "\n",
    "-Verify features frequency\n",
    "\n",
    "-Identify outliers"
   ]
  },
  {
   "cell_type": "code",
   "execution_count": 124,
   "id": "89973b42",
   "metadata": {
    "ExecuteTime": {
     "end_time": "2023-04-24T10:54:01.509645Z",
     "start_time": "2023-04-24T10:54:00.996436Z"
    }
   },
   "outputs": [
    {
     "data": {
      "image/png": "[encoded data removed]",
      "text/plain": [
       "<Figure size 240x240 with 2 Axes>"
      ]
     },
     "metadata": {},
     "output_type": "display_data"
    }
   ],
   "source": [
    "import seaborn as sns\n",
    "sns.set(style= 'dark', font_scale=1.5, rc= {'figure.figsize':(3,3)})\n",
    "ax = salary_hike.hist(bins=5, color= 'red')"
   ]
  },
  {
   "cell_type": "code",
   "execution_count": 125,
   "id": "91b24f5e",
   "metadata": {
    "ExecuteTime": {
     "end_time": "2023-04-24T10:54:01.859677Z",
     "start_time": "2023-04-24T10:54:01.513400Z"
    }
   },
   "outputs": [
    {
     "data": {
      "image/png": "[encoded data removed]",
      "text/plain": [
       "<Figure size 800x400 with 2 Axes>"
      ]
     },
     "metadata": {},
     "output_type": "display_data"
    }
   ],
   "source": [
    "# Plotting boxplot which helps in vizualizing the outliers\n",
    "import matplotlib.pyplot as plt\n",
    "outlier = salary_hike.copy() \n",
    "fig, axes=plt.subplots(2,1, figsize=(10,5),sharex=False,sharey=False)\n",
    "sns.boxplot(x='Salary',data=outlier,palette='flare',ax=axes[0])\n",
    "sns.boxplot(x='YearsExperience',data=outlier,palette='crest',ax=axes[1])\n",
    "plt.tight_layout(pad=1)"
   ]
  },
  {
   "cell_type": "code",
   "execution_count": 126,
   "id": "eda173df",
   "metadata": {
    "ExecuteTime": {
     "end_time": "2023-04-24T10:54:02.176582Z",
     "start_time": "2023-04-24T10:54:01.862948Z"
    }
   },
   "outputs": [
    {
     "data": {
      "image/png": "[encoded data removed]",
      "text/plain": [
       "<Figure size 400x400 with 2 Axes>"
      ]
     },
     "metadata": {},
     "output_type": "display_data"
    }
   ],
   "source": [
    "# correlation heatmap\n",
    "f,ax = plt.subplots(figsize=(5,5))\n",
    "sns.heatmap(salary_hike.corr(), annot=True, linewidths =.5, fmt ='.1f',ax=ax)\n",
    "plt.show()"
   ]
  },
  {
   "cell_type": "code",
   "execution_count": 127,
   "id": "80d85650",
   "metadata": {
    "ExecuteTime": {
     "end_time": "2023-04-24T10:54:02.524727Z",
     "start_time": "2023-04-24T10:54:02.180980Z"
    }
   },
   "outputs": [
    {
     "data": {
      "image/png": "[encoded data removed]",
      "text/plain": [
       "<Figure size 240x240 with 1 Axes>"
      ]
     },
     "metadata": {},
     "output_type": "display_data"
    }
   ],
   "source": [
    "# scatter plot \n",
    "import matplotlib.pyplot as plt\n",
    "plt.style.use('Solarize_Light2')\n",
    "plt.plot(salary_hike[\"YearsExperience\"],salary_hike[\"Salary\"],\"go\")\n",
    "plt.xlabel(\"Salary\")\n",
    "plt.ylabel(\"YearsExperience\")\n",
    "plt.title(\"scatter plot\")\n",
    "plt.show()"
   ]
  },
  {
   "cell_type": "markdown",
   "id": "7d9e725b",
   "metadata": {
    "ExecuteTime": {
     "end_time": "2023-04-23T18:34:54.892823Z",
     "start_time": "2023-04-23T18:34:54.868123Z"
    }
   },
   "source": [
    "here,we can see there is positive correlation and linear association betwen two variables Salary and YearsExperience. \n",
    " Also they are directly proportional to each other i.e as YearsExperience increases Salary is also increases."
   ]
  },
  {
   "cell_type": "code",
   "execution_count": 128,
   "id": "6cbe5e00",
   "metadata": {
    "ExecuteTime": {
     "end_time": "2023-04-24T10:54:02.556110Z",
     "start_time": "2023-04-24T10:54:02.528097Z"
    }
   },
   "outputs": [
    {
     "data": {
      "text/html": [
       "<div>\n",
       "<style scoped>\n",
       "    .dataframe tbody tr th:only-of-type {\n",
       "        vertical-align: middle;\n",
       "    }\n",
       "\n",
       "    .dataframe tbody tr th {\n",
       "        vertical-align: top;\n",
       "    }\n",
       "\n",
       "    .dataframe thead th {\n",
       "        text-align: right;\n",
       "    }\n",
       "</style>\n",
       "<table border=\"1\" class=\"dataframe\">\n",
       "  <thead>\n",
       "    <tr style=\"text-align: right;\">\n",
       "      <th></th>\n",
       "      <th>YearsExperience</th>\n",
       "      <th>Salary</th>\n",
       "    </tr>\n",
       "  </thead>\n",
       "  <tbody>\n",
       "    <tr>\n",
       "      <th>YearsExperience</th>\n",
       "      <td>1.000000</td>\n",
       "      <td>0.978242</td>\n",
       "    </tr>\n",
       "    <tr>\n",
       "      <th>Salary</th>\n",
       "      <td>0.978242</td>\n",
       "      <td>1.000000</td>\n",
       "    </tr>\n",
       "  </tbody>\n",
       "</table>\n",
       "</div>"
      ],
      "text/plain": [
       "                 YearsExperience    Salary\n",
       "YearsExperience         1.000000  0.978242\n",
       "Salary                  0.978242  1.000000"
      ]
     },
     "execution_count": 128,
     "metadata": {},
     "output_type": "execute_result"
    }
   ],
   "source": [
    "# correlation\n",
    "salary_hike.corr()"
   ]
  },
  {
   "cell_type": "markdown",
   "id": "eaebcf98",
   "metadata": {},
   "source": [
    " here, correlation value is 0.978242 so there is very strong correlation."
   ]
  },
  {
   "cell_type": "code",
   "execution_count": 129,
   "id": "b7aab076",
   "metadata": {
    "ExecuteTime": {
     "end_time": "2023-04-24T10:54:02.623274Z",
     "start_time": "2023-04-24T10:54:02.564891Z"
    }
   },
   "outputs": [
    {
     "data": {
      "text/plain": [
       "<statsmodels.regression.linear_model.RegressionResultsWrapper at 0x1fbf655c520>"
      ]
     },
     "execution_count": 129,
     "metadata": {},
     "output_type": "execute_result"
    }
   ],
   "source": [
    "# linear model fitting \n",
    "import statsmodels.formula.api as smf\n",
    "linear_model1=smf.ols(\"Salary~YearsExperience\",data=salary_hike).fit()\n",
    "linear_model1"
   ]
  },
  {
   "cell_type": "code",
   "execution_count": 130,
   "id": "129b1f5d",
   "metadata": {
    "ExecuteTime": {
     "end_time": "2023-04-24T10:54:02.654229Z",
     "start_time": "2023-04-24T10:54:02.630470Z"
    }
   },
   "outputs": [
    {
     "data": {
      "text/plain": [
       "Intercept          25792.200199\n",
       "YearsExperience     9449.962321\n",
       "dtype: float64"
      ]
     },
     "execution_count": 130,
     "metadata": {},
     "output_type": "execute_result"
    }
   ],
   "source": [
    "linear_model1.params"
   ]
  },
  {
   "cell_type": "code",
   "execution_count": 131,
   "id": "233ede5d",
   "metadata": {
    "ExecuteTime": {
     "end_time": "2023-04-24T10:54:02.685252Z",
     "start_time": "2023-04-24T10:54:02.658780Z"
    }
   },
   "outputs": [
    {
     "data": {
      "text/plain": [
       "0.9569566641435086"
      ]
     },
     "execution_count": 131,
     "metadata": {},
     "output_type": "execute_result"
    }
   ],
   "source": [
    "linear_model1.rsquared"
   ]
  },
  {
   "cell_type": "code",
   "execution_count": 132,
   "id": "d5ab0f95",
   "metadata": {
    "ExecuteTime": {
     "end_time": "2023-04-24T10:54:02.742105Z",
     "start_time": "2023-04-24T10:54:02.692294Z"
    }
   },
   "outputs": [
    {
     "data": {
      "text/html": [
       "<table class=\"simpletable\">\n",
       "<caption>OLS Regression Results</caption>\n",
       "<tr>\n",
       "  <th>Dep. Variable:</th>         <td>Salary</td>      <th>  R-squared:         </th> <td>   0.957</td>\n",
       "</tr>\n",
       "<tr>\n",
       "  <th>Model:</th>                   <td>OLS</td>       <th>  Adj. R-squared:    </th> <td>   0.955</td>\n",
       "</tr>\n",
       "<tr>\n",
       "  <th>Method:</th>             <td>Least Squares</td>  <th>  F-statistic:       </th> <td>   622.5</td>\n",
       "</tr>\n",
       "<tr>\n",
       "  <th>Date:</th>             <td>Mon, 24 Apr 2023</td> <th>  Prob (F-statistic):</th> <td>1.14e-20</td>\n",
       "</tr>\n",
       "<tr>\n",
       "  <th>Time:</th>                 <td>16:24:02</td>     <th>  Log-Likelihood:    </th> <td> -301.44</td>\n",
       "</tr>\n",
       "<tr>\n",
       "  <th>No. Observations:</th>      <td>    30</td>      <th>  AIC:               </th> <td>   606.9</td>\n",
       "</tr>\n",
       "<tr>\n",
       "  <th>Df Residuals:</th>          <td>    28</td>      <th>  BIC:               </th> <td>   609.7</td>\n",
       "</tr>\n",
       "<tr>\n",
       "  <th>Df Model:</th>              <td>     1</td>      <th>                     </th>     <td> </td>   \n",
       "</tr>\n",
       "<tr>\n",
       "  <th>Covariance Type:</th>      <td>nonrobust</td>    <th>                     </th>     <td> </td>   \n",
       "</tr>\n",
       "</table>\n",
       "<table class=\"simpletable\">\n",
       "<tr>\n",
       "         <td></td>            <th>coef</th>     <th>std err</th>      <th>t</th>      <th>P>|t|</th>  <th>[0.025</th>    <th>0.975]</th>  \n",
       "</tr>\n",
       "<tr>\n",
       "  <th>Intercept</th>       <td> 2.579e+04</td> <td> 2273.053</td> <td>   11.347</td> <td> 0.000</td> <td> 2.11e+04</td> <td> 3.04e+04</td>\n",
       "</tr>\n",
       "<tr>\n",
       "  <th>YearsExperience</th> <td> 9449.9623</td> <td>  378.755</td> <td>   24.950</td> <td> 0.000</td> <td> 8674.119</td> <td> 1.02e+04</td>\n",
       "</tr>\n",
       "</table>\n",
       "<table class=\"simpletable\">\n",
       "<tr>\n",
       "  <th>Omnibus:</th>       <td> 2.140</td> <th>  Durbin-Watson:     </th> <td>   1.648</td>\n",
       "</tr>\n",
       "<tr>\n",
       "  <th>Prob(Omnibus):</th> <td> 0.343</td> <th>  Jarque-Bera (JB):  </th> <td>   1.569</td>\n",
       "</tr>\n",
       "<tr>\n",
       "  <th>Skew:</th>          <td> 0.363</td> <th>  Prob(JB):          </th> <td>   0.456</td>\n",
       "</tr>\n",
       "<tr>\n",
       "  <th>Kurtosis:</th>      <td> 2.147</td> <th>  Cond. No.          </th> <td>    13.2</td>\n",
       "</tr>\n",
       "</table><br/><br/>Notes:<br/>[1] Standard Errors assume that the covariance matrix of the errors is correctly specified."
      ],
      "text/plain": [
       "<class 'statsmodels.iolib.summary.Summary'>\n",
       "\"\"\"\n",
       "                            OLS Regression Results                            \n",
       "==============================================================================\n",
       "Dep. Variable:                 Salary   R-squared:                       0.957\n",
       "Model:                            OLS   Adj. R-squared:                  0.955\n",
       "Method:                 Least Squares   F-statistic:                     622.5\n",
       "Date:                Mon, 24 Apr 2023   Prob (F-statistic):           1.14e-20\n",
       "Time:                        16:24:02   Log-Likelihood:                -301.44\n",
       "No. Observations:                  30   AIC:                             606.9\n",
       "Df Residuals:                      28   BIC:                             609.7\n",
       "Df Model:                           1                                         \n",
       "Covariance Type:            nonrobust                                         \n",
       "===================================================================================\n",
       "                      coef    std err          t      P>|t|      [0.025      0.975]\n",
       "-----------------------------------------------------------------------------------\n",
       "Intercept        2.579e+04   2273.053     11.347      0.000    2.11e+04    3.04e+04\n",
       "YearsExperience  9449.9623    378.755     24.950      0.000    8674.119    1.02e+04\n",
       "==============================================================================\n",
       "Omnibus:                        2.140   Durbin-Watson:                   1.648\n",
       "Prob(Omnibus):                  0.343   Jarque-Bera (JB):                1.569\n",
       "Skew:                           0.363   Prob(JB):                        0.456\n",
       "Kurtosis:                       2.147   Cond. No.                         13.2\n",
       "==============================================================================\n",
       "\n",
       "Notes:\n",
       "[1] Standard Errors assume that the covariance matrix of the errors is correctly specified.\n",
       "\"\"\""
      ]
     },
     "execution_count": 132,
     "metadata": {},
     "output_type": "execute_result"
    }
   ],
   "source": [
    "linear_model1.summary()"
   ]
  },
  {
   "cell_type": "markdown",
   "id": "721ae206",
   "metadata": {},
   "source": [
    " here R-sq value is 0.957 i.e 95%"
   ]
  },
  {
   "cell_type": "code",
   "execution_count": 133,
   "id": "3c1795e3",
   "metadata": {
    "ExecuteTime": {
     "end_time": "2023-04-24T10:54:02.773900Z",
     "start_time": "2023-04-24T10:54:02.744339Z"
    }
   },
   "outputs": [
    {
     "data": {
      "text/plain": [
       "0      3155.841248\n",
       "1      8127.848783\n",
       "2     -2236.143681\n",
       "3     -1167.124842\n",
       "4     -6691.117306\n",
       "5      3444.909069\n",
       "6      6007.912837\n",
       "7     -1587.079627\n",
       "8      8412.920373\n",
       "9     -3568.060788\n",
       "10      570.946748\n",
       "11    -7798.049484\n",
       "12    -6635.049484\n",
       "13    -7456.045717\n",
       "14    -7206.030645\n",
       "15    -4159.015574\n",
       "16    -7958.008038\n",
       "17     7210.999498\n",
       "18     -183.977895\n",
       "19    11448.025873\n",
       "20     1686.056015\n",
       "21     5386.067319\n",
       "22      855.097462\n",
       "23    10530.108765\n",
       "24     1424.127605\n",
       "25    -5259.861092\n",
       "26     1402.157748\n",
       "27    -3876.838485\n",
       "28     -735.812110\n",
       "29    -3144.804574\n",
       "dtype: float64"
      ]
     },
     "execution_count": 133,
     "metadata": {},
     "output_type": "execute_result"
    }
   ],
   "source": [
    "# checking error / residuals in the model\n",
    "linear_model1.resid"
   ]
  },
  {
   "cell_type": "code",
   "execution_count": 134,
   "id": "8957fa0d",
   "metadata": {
    "ExecuteTime": {
     "end_time": "2023-04-24T10:54:02.807429Z",
     "start_time": "2023-04-24T10:54:02.780165Z"
    }
   },
   "outputs": [],
   "source": [
    "# Giving all the errors.\n",
    "# we know,\n",
    "# error= AV-PV"
   ]
  },
  {
   "cell_type": "code",
   "execution_count": 135,
   "id": "d29c3cd2",
   "metadata": {
    "ExecuteTime": {
     "end_time": "2023-04-24T10:54:02.858513Z",
     "start_time": "2023-04-24T10:54:02.816057Z"
    }
   },
   "outputs": [
    {
     "data": {
      "text/plain": [
       "0      36187.158752\n",
       "1      38077.151217\n",
       "2      39967.143681\n",
       "3      44692.124842\n",
       "4      46582.117306\n",
       "5      53197.090931\n",
       "6      54142.087163\n",
       "7      56032.079627\n",
       "8      56032.079627\n",
       "9      60757.060788\n",
       "10     62647.053252\n",
       "11     63592.049484\n",
       "12     63592.049484\n",
       "13     64537.045717\n",
       "14     68317.030645\n",
       "15     72097.015574\n",
       "16     73987.008038\n",
       "17     75877.000502\n",
       "18     81546.977895\n",
       "19     82491.974127\n",
       "20     90051.943985\n",
       "21     92886.932681\n",
       "22    100446.902538\n",
       "23    103281.891235\n",
       "24    108006.872395\n",
       "25    110841.861092\n",
       "26    115566.842252\n",
       "27    116511.838485\n",
       "28    123126.812110\n",
       "29    125016.804574\n",
       "dtype: float64"
      ]
     },
     "execution_count": 135,
     "metadata": {},
     "output_type": "execute_result"
    }
   ],
   "source": [
    "# Predicted value finding \n",
    "linear_model_pred1=linear_model1.predict(pd.DataFrame(salary_hike[\"YearsExperience\"]))\n",
    "linear_model_pred1"
   ]
  },
  {
   "cell_type": "code",
   "execution_count": 136,
   "id": "220c34e7",
   "metadata": {
    "ExecuteTime": {
     "end_time": "2023-04-24T10:54:03.222052Z",
     "start_time": "2023-04-24T10:54:02.866021Z"
    }
   },
   "outputs": [
    {
     "data": {
      "text/plain": [
       "[<matplotlib.lines.Line2D at 0x1fbf645ed00>]"
      ]
     },
     "execution_count": 136,
     "metadata": {},
     "output_type": "execute_result"
    },
    {
     "data": {
      "image/png": "[encoded data removed]",
      "text/plain": [
       "<Figure size 240x240 with 1 Axes>"
      ]
     },
     "metadata": {},
     "output_type": "display_data"
    }
   ],
   "source": [
    "# scatter plot of predicted datapoints\n",
    "plt.style.use('_classic_test_patch')\n",
    "plt.plot(salary_hike[\"YearsExperience\"],linear_model_pred1,\"go\")"
   ]
  },
  {
   "cell_type": "code",
   "execution_count": 137,
   "id": "e9081a29",
   "metadata": {
    "ExecuteTime": {
     "end_time": "2023-04-24T10:54:03.253044Z",
     "start_time": "2023-04-24T10:54:03.231079Z"
    }
   },
   "outputs": [
    {
     "data": {
      "text/plain": [
       "5592.043608760662"
      ]
     },
     "execution_count": 137,
     "metadata": {},
     "output_type": "execute_result"
    }
   ],
   "source": [
    "# Now, to finding total error, use RMSE (root mean square error)\n",
    "import numpy as np\n",
    "linear_model_rmse1=np.sqrt(np.mean((np.array(salary_hike[\"Salary\"])-np.array(linear_model_pred1))**2))\n",
    "linear_model_rmse1"
   ]
  },
  {
   "cell_type": "code",
   "execution_count": 138,
   "id": "8dfaad43",
   "metadata": {
    "ExecuteTime": {
     "end_time": "2023-04-24T10:54:03.321935Z",
     "start_time": "2023-04-24T10:54:03.263608Z"
    }
   },
   "outputs": [],
   "source": [
    "# now i am applying transformation.\n",
    "# Using log transformation, doing same things that was done in above linear model."
   ]
  },
  {
   "cell_type": "code",
   "execution_count": 139,
   "id": "811a2217",
   "metadata": {
    "ExecuteTime": {
     "end_time": "2023-04-24T10:54:03.357871Z",
     "start_time": "2023-04-24T10:54:03.325135Z"
    }
   },
   "outputs": [
    {
     "data": {
      "text/plain": [
       "<statsmodels.regression.linear_model.RegressionResultsWrapper at 0x1fbf1acccd0>"
      ]
     },
     "execution_count": 139,
     "metadata": {},
     "output_type": "execute_result"
    }
   ],
   "source": [
    "# log transformation model\n",
    "model_log1=smf.ols(\"Salary~np.log(YearsExperience)\",data=salary_hike).fit()\n",
    "model_log1"
   ]
  },
  {
   "cell_type": "code",
   "execution_count": 140,
   "id": "f752d393",
   "metadata": {
    "ExecuteTime": {
     "end_time": "2023-04-24T10:54:03.390182Z",
     "start_time": "2023-04-24T10:54:03.360904Z"
    }
   },
   "outputs": [
    {
     "data": {
      "text/plain": [
       "Intercept                  14927.97177\n",
       "np.log(YearsExperience)    40581.98796\n",
       "dtype: float64"
      ]
     },
     "execution_count": 140,
     "metadata": {},
     "output_type": "execute_result"
    }
   ],
   "source": [
    "model_log1.params"
   ]
  },
  {
   "cell_type": "code",
   "execution_count": 141,
   "id": "20f56399",
   "metadata": {
    "ExecuteTime": {
     "end_time": "2023-04-24T10:54:03.542298Z",
     "start_time": "2023-04-24T10:54:03.529746Z"
    }
   },
   "outputs": [
    {
     "data": {
      "text/plain": [
       "0.8538888828756969"
      ]
     },
     "execution_count": 141,
     "metadata": {},
     "output_type": "execute_result"
    }
   ],
   "source": [
    "model_log1.rsquared"
   ]
  },
  {
   "cell_type": "code",
   "execution_count": 142,
   "id": "cb619c5a",
   "metadata": {
    "ExecuteTime": {
     "end_time": "2023-04-24T10:54:03.790413Z",
     "start_time": "2023-04-24T10:54:03.747902Z"
    }
   },
   "outputs": [
    {
     "data": {
      "text/html": [
       "<table class=\"simpletable\">\n",
       "<caption>OLS Regression Results</caption>\n",
       "<tr>\n",
       "  <th>Dep. Variable:</th>         <td>Salary</td>      <th>  R-squared:         </th> <td>   0.854</td>\n",
       "</tr>\n",
       "<tr>\n",
       "  <th>Model:</th>                   <td>OLS</td>       <th>  Adj. R-squared:    </th> <td>   0.849</td>\n",
       "</tr>\n",
       "<tr>\n",
       "  <th>Method:</th>             <td>Least Squares</td>  <th>  F-statistic:       </th> <td>   163.6</td>\n",
       "</tr>\n",
       "<tr>\n",
       "  <th>Date:</th>             <td>Mon, 24 Apr 2023</td> <th>  Prob (F-statistic):</th> <td>3.25e-13</td>\n",
       "</tr>\n",
       "<tr>\n",
       "  <th>Time:</th>                 <td>16:24:03</td>     <th>  Log-Likelihood:    </th> <td> -319.77</td>\n",
       "</tr>\n",
       "<tr>\n",
       "  <th>No. Observations:</th>      <td>    30</td>      <th>  AIC:               </th> <td>   643.5</td>\n",
       "</tr>\n",
       "<tr>\n",
       "  <th>Df Residuals:</th>          <td>    28</td>      <th>  BIC:               </th> <td>   646.3</td>\n",
       "</tr>\n",
       "<tr>\n",
       "  <th>Df Model:</th>              <td>     1</td>      <th>                     </th>     <td> </td>   \n",
       "</tr>\n",
       "<tr>\n",
       "  <th>Covariance Type:</th>      <td>nonrobust</td>    <th>                     </th>     <td> </td>   \n",
       "</tr>\n",
       "</table>\n",
       "<table class=\"simpletable\">\n",
       "<tr>\n",
       "             <td></td>                <th>coef</th>     <th>std err</th>      <th>t</th>      <th>P>|t|</th>  <th>[0.025</th>    <th>0.975]</th>  \n",
       "</tr>\n",
       "<tr>\n",
       "  <th>Intercept</th>               <td> 1.493e+04</td> <td> 5156.226</td> <td>    2.895</td> <td> 0.007</td> <td> 4365.921</td> <td> 2.55e+04</td>\n",
       "</tr>\n",
       "<tr>\n",
       "  <th>np.log(YearsExperience)</th> <td> 4.058e+04</td> <td> 3172.453</td> <td>   12.792</td> <td> 0.000</td> <td> 3.41e+04</td> <td> 4.71e+04</td>\n",
       "</tr>\n",
       "</table>\n",
       "<table class=\"simpletable\">\n",
       "<tr>\n",
       "  <th>Omnibus:</th>       <td> 1.094</td> <th>  Durbin-Watson:     </th> <td>   0.512</td>\n",
       "</tr>\n",
       "<tr>\n",
       "  <th>Prob(Omnibus):</th> <td> 0.579</td> <th>  Jarque-Bera (JB):  </th> <td>   0.908</td>\n",
       "</tr>\n",
       "<tr>\n",
       "  <th>Skew:</th>          <td> 0.156</td> <th>  Prob(JB):          </th> <td>   0.635</td>\n",
       "</tr>\n",
       "<tr>\n",
       "  <th>Kurtosis:</th>      <td> 2.207</td> <th>  Cond. No.          </th> <td>    5.76</td>\n",
       "</tr>\n",
       "</table><br/><br/>Notes:<br/>[1] Standard Errors assume that the covariance matrix of the errors is correctly specified."
      ],
      "text/plain": [
       "<class 'statsmodels.iolib.summary.Summary'>\n",
       "\"\"\"\n",
       "                            OLS Regression Results                            \n",
       "==============================================================================\n",
       "Dep. Variable:                 Salary   R-squared:                       0.854\n",
       "Model:                            OLS   Adj. R-squared:                  0.849\n",
       "Method:                 Least Squares   F-statistic:                     163.6\n",
       "Date:                Mon, 24 Apr 2023   Prob (F-statistic):           3.25e-13\n",
       "Time:                        16:24:03   Log-Likelihood:                -319.77\n",
       "No. Observations:                  30   AIC:                             643.5\n",
       "Df Residuals:                      28   BIC:                             646.3\n",
       "Df Model:                           1                                         \n",
       "Covariance Type:            nonrobust                                         \n",
       "===========================================================================================\n",
       "                              coef    std err          t      P>|t|      [0.025      0.975]\n",
       "-------------------------------------------------------------------------------------------\n",
       "Intercept                1.493e+04   5156.226      2.895      0.007    4365.921    2.55e+04\n",
       "np.log(YearsExperience)  4.058e+04   3172.453     12.792      0.000    3.41e+04    4.71e+04\n",
       "==============================================================================\n",
       "Omnibus:                        1.094   Durbin-Watson:                   0.512\n",
       "Prob(Omnibus):                  0.579   Jarque-Bera (JB):                0.908\n",
       "Skew:                           0.156   Prob(JB):                        0.635\n",
       "Kurtosis:                       2.207   Cond. No.                         5.76\n",
       "==============================================================================\n",
       "\n",
       "Notes:\n",
       "[1] Standard Errors assume that the covariance matrix of the errors is correctly specified.\n",
       "\"\"\""
      ]
     },
     "execution_count": 142,
     "metadata": {},
     "output_type": "execute_result"
    }
   ],
   "source": [
    "model_log1.summary()"
   ]
  },
  {
   "cell_type": "code",
   "execution_count": 143,
   "id": "7955e392",
   "metadata": {
    "ExecuteTime": {
     "end_time": "2023-04-24T10:54:04.189779Z",
     "start_time": "2023-04-24T10:54:04.168554Z"
    }
   },
   "outputs": [
    {
     "data": {
      "text/plain": [
       "0     20547.151661\n",
       "1     20629.764808\n",
       "2      6348.448095\n",
       "3       467.737694\n",
       "4     -7034.138875\n",
       "5     -1494.050079\n",
       "6       638.157559\n",
       "7     -7685.943929\n",
       "8      2314.056071\n",
       "9    -10833.718504\n",
       "10    -6941.105863\n",
       "11   -15392.552842\n",
       "12   -14229.552842\n",
       "13   -15107.628149\n",
       "14   -14855.422577\n",
       "15   -11484.295729\n",
       "16   -15016.791737\n",
       "17      481.170118\n",
       "18    -5596.066704\n",
       "19     6298.867023\n",
       "20     -982.502137\n",
       "21     3800.485304\n",
       "22     2496.628610\n",
       "23    13494.081316\n",
       "24     6711.079249\n",
       "25     1486.286888\n",
       "26    10679.131565\n",
       "27     5920.185400\n",
       "28    12819.992753\n",
       "29    11520.545855\n",
       "dtype: float64"
      ]
     },
     "execution_count": 143,
     "metadata": {},
     "output_type": "execute_result"
    }
   ],
   "source": [
    "model_log1.resid"
   ]
  },
  {
   "cell_type": "code",
   "execution_count": 144,
   "id": "cdd55824",
   "metadata": {
    "ExecuteTime": {
     "end_time": "2023-04-24T10:54:04.422679Z",
     "start_time": "2023-04-24T10:54:04.407017Z"
    }
   },
   "outputs": [
    {
     "data": {
      "text/plain": [
       "0      18795.848339\n",
       "1      25575.235192\n",
       "2      31382.551905\n",
       "3      43057.262306\n",
       "4      46925.138875\n",
       "5      58136.050079\n",
       "6      59511.842441\n",
       "7      62130.943929\n",
       "8      62130.943929\n",
       "9      68022.718504\n",
       "10     70159.105863\n",
       "11     71186.552842\n",
       "12     71186.552842\n",
       "13     72188.628149\n",
       "14     75966.422577\n",
       "15     79422.295729\n",
       "16     81045.791737\n",
       "17     82606.829882\n",
       "18     86959.066704\n",
       "19     87641.132977\n",
       "20     92720.502137\n",
       "21     94472.514696\n",
       "22     98805.371390\n",
       "23    100317.918684\n",
       "24    102719.920751\n",
       "25    104095.713112\n",
       "26    106289.868435\n",
       "27    106714.814600\n",
       "28    109571.007247\n",
       "29    110351.454145\n",
       "dtype: float64"
      ]
     },
     "execution_count": 144,
     "metadata": {},
     "output_type": "execute_result"
    }
   ],
   "source": [
    "model_log_pred1=model_log1.predict(pd.DataFrame(salary_hike[\"YearsExperience\"]))\n",
    "model_log_pred1"
   ]
  },
  {
   "cell_type": "code",
   "execution_count": 145,
   "id": "9081c22e",
   "metadata": {
    "ExecuteTime": {
     "end_time": "2023-04-24T10:54:05.037757Z",
     "start_time": "2023-04-24T10:54:04.663757Z"
    }
   },
   "outputs": [
    {
     "data": {
      "text/plain": [
       "[<matplotlib.lines.Line2D at 0x1fbf62dc9d0>]"
      ]
     },
     "execution_count": 145,
     "metadata": {},
     "output_type": "execute_result"
    },
    {
     "data": {
      "image/png": "[encoded data removed]",
      "text/plain": [
       "<Figure size 640x480 with 1 Axes>"
      ]
     },
     "metadata": {},
     "output_type": "display_data"
    }
   ],
   "source": [
    "plt.style.use('classic')\n",
    "plt.plot(salary_hike[\"YearsExperience\"],model_log_pred1,\"go\")"
   ]
  },
  {
   "cell_type": "code",
   "execution_count": 146,
   "id": "61996041",
   "metadata": {
    "ExecuteTime": {
     "end_time": "2023-04-24T10:54:05.070015Z",
     "start_time": "2023-04-24T10:54:05.042816Z"
    }
   },
   "outputs": [
    {
     "data": {
      "text/plain": [
       "10302.893706228308"
      ]
     },
     "execution_count": 146,
     "metadata": {},
     "output_type": "execute_result"
    }
   ],
   "source": [
    "import numpy as np\n",
    "model_log_rmse1=np.sqrt(np.mean((np.array(salary_hike[\"Salary\"])-np.array(model_log_pred1))**2))\n",
    "model_log_rmse1"
   ]
  },
  {
   "cell_type": "code",
   "execution_count": 147,
   "id": "b56efca7",
   "metadata": {
    "ExecuteTime": {
     "end_time": "2023-04-24T10:54:05.120646Z",
     "start_time": "2023-04-24T10:54:05.108831Z"
    }
   },
   "outputs": [],
   "source": [
    "# Now, we use exponential transformation."
   ]
  },
  {
   "cell_type": "code",
   "execution_count": 148,
   "id": "88dc9ab2",
   "metadata": {
    "ExecuteTime": {
     "end_time": "2023-04-24T10:54:05.386679Z",
     "start_time": "2023-04-24T10:54:05.347506Z"
    }
   },
   "outputs": [
    {
     "data": {
      "text/plain": [
       "<statsmodels.regression.linear_model.RegressionResultsWrapper at 0x1fbf1793850>"
      ]
     },
     "execution_count": 148,
     "metadata": {},
     "output_type": "execute_result"
    }
   ],
   "source": [
    "import statsmodels.formula.api as smf\n",
    "model_exp1=smf.ols(\"np.log(Salary)~YearsExperience\",data=salary_hike).fit()\n",
    "model_exp1"
   ]
  },
  {
   "cell_type": "code",
   "execution_count": 149,
   "id": "5aa0cb5d",
   "metadata": {
    "ExecuteTime": {
     "end_time": "2023-04-24T10:54:05.620923Z",
     "start_time": "2023-04-24T10:54:05.594131Z"
    }
   },
   "outputs": [
    {
     "data": {
      "text/plain": [
       "Intercept          10.507402\n",
       "YearsExperience     0.125453\n",
       "dtype: float64"
      ]
     },
     "execution_count": 149,
     "metadata": {},
     "output_type": "execute_result"
    }
   ],
   "source": [
    "model_exp1.params"
   ]
  },
  {
   "cell_type": "code",
   "execution_count": 150,
   "id": "c11796f3",
   "metadata": {
    "ExecuteTime": {
     "end_time": "2023-04-24T10:54:05.837239Z",
     "start_time": "2023-04-24T10:54:05.808886Z"
    }
   },
   "outputs": [
    {
     "data": {
      "text/plain": [
       "0.9319671194084195"
      ]
     },
     "execution_count": 150,
     "metadata": {},
     "output_type": "execute_result"
    }
   ],
   "source": [
    "model_exp1.rsquared"
   ]
  },
  {
   "cell_type": "code",
   "execution_count": 151,
   "id": "d8edb098",
   "metadata": {
    "ExecuteTime": {
     "end_time": "2023-04-24T10:54:06.070145Z",
     "start_time": "2023-04-24T10:54:06.026970Z"
    }
   },
   "outputs": [
    {
     "data": {
      "text/html": [
       "<table class=\"simpletable\">\n",
       "<caption>OLS Regression Results</caption>\n",
       "<tr>\n",
       "  <th>Dep. Variable:</th>     <td>np.log(Salary)</td>  <th>  R-squared:         </th> <td>   0.932</td>\n",
       "</tr>\n",
       "<tr>\n",
       "  <th>Model:</th>                   <td>OLS</td>       <th>  Adj. R-squared:    </th> <td>   0.930</td>\n",
       "</tr>\n",
       "<tr>\n",
       "  <th>Method:</th>             <td>Least Squares</td>  <th>  F-statistic:       </th> <td>   383.6</td>\n",
       "</tr>\n",
       "<tr>\n",
       "  <th>Date:</th>             <td>Mon, 24 Apr 2023</td> <th>  Prob (F-statistic):</th> <td>7.03e-18</td>\n",
       "</tr>\n",
       "<tr>\n",
       "  <th>Time:</th>                 <td>16:24:06</td>     <th>  Log-Likelihood:    </th> <td>  28.183</td>\n",
       "</tr>\n",
       "<tr>\n",
       "  <th>No. Observations:</th>      <td>    30</td>      <th>  AIC:               </th> <td>  -52.37</td>\n",
       "</tr>\n",
       "<tr>\n",
       "  <th>Df Residuals:</th>          <td>    28</td>      <th>  BIC:               </th> <td>  -49.56</td>\n",
       "</tr>\n",
       "<tr>\n",
       "  <th>Df Model:</th>              <td>     1</td>      <th>                     </th>     <td> </td>   \n",
       "</tr>\n",
       "<tr>\n",
       "  <th>Covariance Type:</th>      <td>nonrobust</td>    <th>                     </th>     <td> </td>   \n",
       "</tr>\n",
       "</table>\n",
       "<table class=\"simpletable\">\n",
       "<tr>\n",
       "         <td></td>            <th>coef</th>     <th>std err</th>      <th>t</th>      <th>P>|t|</th>  <th>[0.025</th>    <th>0.975]</th>  \n",
       "</tr>\n",
       "<tr>\n",
       "  <th>Intercept</th>       <td>   10.5074</td> <td>    0.038</td> <td>  273.327</td> <td> 0.000</td> <td>   10.429</td> <td>   10.586</td>\n",
       "</tr>\n",
       "<tr>\n",
       "  <th>YearsExperience</th> <td>    0.1255</td> <td>    0.006</td> <td>   19.585</td> <td> 0.000</td> <td>    0.112</td> <td>    0.139</td>\n",
       "</tr>\n",
       "</table>\n",
       "<table class=\"simpletable\">\n",
       "<tr>\n",
       "  <th>Omnibus:</th>       <td> 0.826</td> <th>  Durbin-Watson:     </th> <td>   1.438</td>\n",
       "</tr>\n",
       "<tr>\n",
       "  <th>Prob(Omnibus):</th> <td> 0.661</td> <th>  Jarque-Bera (JB):  </th> <td>   0.812</td>\n",
       "</tr>\n",
       "<tr>\n",
       "  <th>Skew:</th>          <td> 0.187</td> <th>  Prob(JB):          </th> <td>   0.666</td>\n",
       "</tr>\n",
       "<tr>\n",
       "  <th>Kurtosis:</th>      <td> 2.286</td> <th>  Cond. No.          </th> <td>    13.2</td>\n",
       "</tr>\n",
       "</table><br/><br/>Notes:<br/>[1] Standard Errors assume that the covariance matrix of the errors is correctly specified."
      ],
      "text/plain": [
       "<class 'statsmodels.iolib.summary.Summary'>\n",
       "\"\"\"\n",
       "                            OLS Regression Results                            \n",
       "==============================================================================\n",
       "Dep. Variable:         np.log(Salary)   R-squared:                       0.932\n",
       "Model:                            OLS   Adj. R-squared:                  0.930\n",
       "Method:                 Least Squares   F-statistic:                     383.6\n",
       "Date:                Mon, 24 Apr 2023   Prob (F-statistic):           7.03e-18\n",
       "Time:                        16:24:06   Log-Likelihood:                 28.183\n",
       "No. Observations:                  30   AIC:                            -52.37\n",
       "Df Residuals:                      28   BIC:                            -49.56\n",
       "Df Model:                           1                                         \n",
       "Covariance Type:            nonrobust                                         \n",
       "===================================================================================\n",
       "                      coef    std err          t      P>|t|      [0.025      0.975]\n",
       "-----------------------------------------------------------------------------------\n",
       "Intercept          10.5074      0.038    273.327      0.000      10.429      10.586\n",
       "YearsExperience     0.1255      0.006     19.585      0.000       0.112       0.139\n",
       "==============================================================================\n",
       "Omnibus:                        0.826   Durbin-Watson:                   1.438\n",
       "Prob(Omnibus):                  0.661   Jarque-Bera (JB):                0.812\n",
       "Skew:                           0.187   Prob(JB):                        0.666\n",
       "Kurtosis:                       2.286   Cond. No.                         13.2\n",
       "==============================================================================\n",
       "\n",
       "Notes:\n",
       "[1] Standard Errors assume that the covariance matrix of the errors is correctly specified.\n",
       "\"\"\""
      ]
     },
     "execution_count": 151,
     "metadata": {},
     "output_type": "execute_result"
    }
   ],
   "source": [
    "model_exp1.summary()"
   ]
  },
  {
   "cell_type": "code",
   "execution_count": 152,
   "id": "cd2b4cc5",
   "metadata": {
    "ExecuteTime": {
     "end_time": "2023-04-24T10:54:06.303133Z",
     "start_time": "2023-04-24T10:54:06.277717Z"
    }
   },
   "outputs": [
    {
     "data": {
      "text/plain": [
       "0    -0.065327\n",
       "1     0.070353\n",
       "2    -0.157344\n",
       "3    -0.077217\n",
       "4    -0.189492\n",
       "5     0.073291\n",
       "6     0.120836\n",
       "7    -0.003905\n",
       "8     0.164716\n",
       "9    -0.017461\n",
       "10    0.057676\n",
       "11   -0.079792\n",
       "12   -0.059162\n",
       "13   -0.069532\n",
       "14   -0.051493\n",
       "15    0.004230\n",
       "16   -0.049362\n",
       "17    0.155353\n",
       "18    0.059102\n",
       "19    0.190292\n",
       "20    0.066210\n",
       "21    0.097387\n",
       "22    0.027382\n",
       "23    0.106188\n",
       "24    0.004207\n",
       "25   -0.069235\n",
       "26   -0.029540\n",
       "27   -0.079842\n",
       "28   -0.084591\n",
       "29   -0.113931\n",
       "dtype: float64"
      ]
     },
     "execution_count": 152,
     "metadata": {},
     "output_type": "execute_result"
    }
   ],
   "source": [
    "model_exp1.resid"
   ]
  },
  {
   "cell_type": "code",
   "execution_count": 153,
   "id": "8969a82a",
   "metadata": {
    "ExecuteTime": {
     "end_time": "2023-04-24T10:54:06.585864Z",
     "start_time": "2023-04-24T10:54:06.553511Z"
    }
   },
   "outputs": [
    {
     "data": {
      "text/plain": [
       "0     10.645400\n",
       "1     10.670491\n",
       "2     10.695581\n",
       "3     10.758308\n",
       "4     10.783398\n",
       "5     10.871215\n",
       "6     10.883761\n",
       "7     10.908851\n",
       "8     10.908851\n",
       "9     10.971578\n",
       "10    10.996668\n",
       "11    11.009213\n",
       "12    11.009213\n",
       "13    11.021759\n",
       "14    11.071940\n",
       "15    11.122121\n",
       "16    11.147212\n",
       "17    11.172302\n",
       "18    11.247574\n",
       "19    11.260119\n",
       "20    11.360482\n",
       "21    11.398117\n",
       "22    11.498480\n",
       "23    11.536116\n",
       "24    11.598842\n",
       "25    11.636478\n",
       "26    11.699204\n",
       "27    11.711750\n",
       "28    11.799567\n",
       "29    11.824657\n",
       "dtype: float64"
      ]
     },
     "execution_count": 153,
     "metadata": {},
     "output_type": "execute_result"
    }
   ],
   "source": [
    "model_exp_pred1=model_exp1.predict(pd.DataFrame(salary_hike[\"YearsExperience\"]))\n",
    "model_exp_pred1"
   ]
  },
  {
   "cell_type": "code",
   "execution_count": 154,
   "id": "479c9d7c",
   "metadata": {
    "ExecuteTime": {
     "end_time": "2023-04-24T10:54:06.952003Z",
     "start_time": "2023-04-24T10:54:06.938132Z"
    }
   },
   "outputs": [
    {
     "data": {
      "text/plain": [
       "0      41998.957468\n",
       "1      43066.066794\n",
       "2      44160.289228\n",
       "3      47019.029189\n",
       "4      48213.688474\n",
       "5      52639.142472\n",
       "6      53303.675386\n",
       "7      54658.014935\n",
       "8      54658.014935\n",
       "9      58196.330788\n",
       "10     59674.982903\n",
       "11     60428.338456\n",
       "12     60428.338456\n",
       "13     61191.204604\n",
       "14     64340.199291\n",
       "15     67651.246149\n",
       "16     69370.128712\n",
       "17     71132.684635\n",
       "18     76693.630780\n",
       "19     77661.835040\n",
       "20     85860.704208\n",
       "21     89153.725393\n",
       "22     98565.809591\n",
       "23    102346.110512\n",
       "24    108971.540758\n",
       "25    113150.933364\n",
       "26    120475.819601\n",
       "27    121996.743836\n",
       "28    133194.621344\n",
       "29    136578.829694\n",
       "dtype: float64"
      ]
     },
     "execution_count": 154,
     "metadata": {},
     "output_type": "execute_result"
    }
   ],
   "source": [
    "#As we have used log(Salary) in preparing model so we need to convert it back.\n",
    "model_exp_predict1=np.exp(model_exp_pred1)\n",
    "model_exp_predict1"
   ]
  },
  {
   "cell_type": "code",
   "execution_count": 155,
   "id": "109d6ad3",
   "metadata": {
    "ExecuteTime": {
     "end_time": "2023-04-24T10:54:07.218355Z",
     "start_time": "2023-04-24T10:54:07.191588Z"
    }
   },
   "outputs": [
    {
     "data": {
      "text/plain": [
       "7213.235076620129"
      ]
     },
     "execution_count": 155,
     "metadata": {},
     "output_type": "execute_result"
    }
   ],
   "source": [
    "model_exp_rmse1=np.sqrt(np.mean((np.array(salary_hike[\"Salary\"]-np.array(model_exp_predict1)))**2))\n",
    "model_exp_rmse1"
   ]
  },
  {
   "cell_type": "code",
   "execution_count": 156,
   "id": "883b507e",
   "metadata": {
    "ExecuteTime": {
     "end_time": "2023-04-24T10:54:07.717823Z",
     "start_time": "2023-04-24T10:54:07.476009Z"
    }
   },
   "outputs": [
    {
     "name": "stdout",
     "output_type": "stream",
     "text": [
      "['Solarize_Light2', '_classic_test_patch', '_mpl-gallery', '_mpl-gallery-nogrid', 'bmh', 'classic', 'dark_background', 'fast', 'fivethirtyeight', 'ggplot', 'grayscale', 'seaborn', 'seaborn-bright', 'seaborn-colorblind', 'seaborn-dark', 'seaborn-dark-palette', 'seaborn-darkgrid', 'seaborn-deep', 'seaborn-muted', 'seaborn-notebook', 'seaborn-paper', 'seaborn-pastel', 'seaborn-poster', 'seaborn-talk', 'seaborn-ticks', 'seaborn-white', 'seaborn-whitegrid', 'tableau-colorblind10']\n"
     ]
    },
    {
     "data": {
      "image/png": "[encoded data removed]",
      "text/plain": [
       "<Figure size 640x480 with 1 Axes>"
      ]
     },
     "metadata": {},
     "output_type": "display_data"
    }
   ],
   "source": [
    "print(plt.style.available)\n",
    "plt.style.use('classic')\n",
    "plt.plot(model_exp_predict1,\"go\")\n",
    "plt.show()"
   ]
  },
  {
   "cell_type": "code",
   "execution_count": 157,
   "id": "9fde538b",
   "metadata": {
    "ExecuteTime": {
     "end_time": "2023-04-24T10:54:07.817305Z",
     "start_time": "2023-04-24T10:54:07.787075Z"
    }
   },
   "outputs": [
    {
     "data": {
      "text/plain": [
       "0       1.21\n",
       "1       1.69\n",
       "2       2.25\n",
       "3       4.00\n",
       "4       4.84\n",
       "5       8.41\n",
       "6       9.00\n",
       "7      10.24\n",
       "8      10.24\n",
       "9      13.69\n",
       "10     15.21\n",
       "11     16.00\n",
       "12     16.00\n",
       "13     16.81\n",
       "14     20.25\n",
       "15     24.01\n",
       "16     26.01\n",
       "17     28.09\n",
       "18     34.81\n",
       "19     36.00\n",
       "20     46.24\n",
       "21     50.41\n",
       "22     62.41\n",
       "23     67.24\n",
       "24     75.69\n",
       "25     81.00\n",
       "26     90.25\n",
       "27     92.16\n",
       "28    106.09\n",
       "29    110.25\n",
       "Name: YearsExperience_sq, dtype: float64"
      ]
     },
     "execution_count": 157,
     "metadata": {},
     "output_type": "execute_result"
    }
   ],
   "source": [
    "# now square transformation (quadratic model)\n",
    "salary_hike[\"YearsExperience_sq\"]=salary_hike[\"YearsExperience\"]*salary_hike[\"YearsExperience\"]\n",
    "salary_hike[\"YearsExperience_sq\"]"
   ]
  },
  {
   "cell_type": "code",
   "execution_count": 158,
   "id": "14e4e6b8",
   "metadata": {
    "ExecuteTime": {
     "end_time": "2023-04-24T10:54:08.095957Z",
     "start_time": "2023-04-24T10:54:08.065796Z"
    }
   },
   "outputs": [
    {
     "data": {
      "text/plain": [
       "<statsmodels.regression.linear_model.RegressionResultsWrapper at 0x1fbf829f640>"
      ]
     },
     "execution_count": 158,
     "metadata": {},
     "output_type": "execute_result"
    }
   ],
   "source": [
    "model_sq1=smf.ols(\"np.log(Salary)~YearsExperience+YearsExperience_sq\",data=salary_hike).fit()\n",
    "model_sq1"
   ]
  },
  {
   "cell_type": "code",
   "execution_count": 159,
   "id": "5ddb71d9",
   "metadata": {
    "ExecuteTime": {
     "end_time": "2023-04-24T10:54:08.317229Z",
     "start_time": "2023-04-24T10:54:08.276295Z"
    }
   },
   "outputs": [
    {
     "data": {
      "text/html": [
       "<table class=\"simpletable\">\n",
       "<caption>OLS Regression Results</caption>\n",
       "<tr>\n",
       "  <th>Dep. Variable:</th>     <td>np.log(Salary)</td>  <th>  R-squared:         </th> <td>   0.949</td>\n",
       "</tr>\n",
       "<tr>\n",
       "  <th>Model:</th>                   <td>OLS</td>       <th>  Adj. R-squared:    </th> <td>   0.945</td>\n",
       "</tr>\n",
       "<tr>\n",
       "  <th>Method:</th>             <td>Least Squares</td>  <th>  F-statistic:       </th> <td>   249.2</td>\n",
       "</tr>\n",
       "<tr>\n",
       "  <th>Date:</th>             <td>Mon, 24 Apr 2023</td> <th>  Prob (F-statistic):</th> <td>3.95e-18</td>\n",
       "</tr>\n",
       "<tr>\n",
       "  <th>Time:</th>                 <td>16:24:08</td>     <th>  Log-Likelihood:    </th> <td>  32.391</td>\n",
       "</tr>\n",
       "<tr>\n",
       "  <th>No. Observations:</th>      <td>    30</td>      <th>  AIC:               </th> <td>  -58.78</td>\n",
       "</tr>\n",
       "<tr>\n",
       "  <th>Df Residuals:</th>          <td>    27</td>      <th>  BIC:               </th> <td>  -54.58</td>\n",
       "</tr>\n",
       "<tr>\n",
       "  <th>Df Model:</th>              <td>     2</td>      <th>                     </th>     <td> </td>   \n",
       "</tr>\n",
       "<tr>\n",
       "  <th>Covariance Type:</th>      <td>nonrobust</td>    <th>                     </th>     <td> </td>   \n",
       "</tr>\n",
       "</table>\n",
       "<table class=\"simpletable\">\n",
       "<tr>\n",
       "           <td></td>             <th>coef</th>     <th>std err</th>      <th>t</th>      <th>P>|t|</th>  <th>[0.025</th>    <th>0.975]</th>  \n",
       "</tr>\n",
       "<tr>\n",
       "  <th>Intercept</th>          <td>   10.3369</td> <td>    0.067</td> <td>  154.368</td> <td> 0.000</td> <td>   10.199</td> <td>   10.474</td>\n",
       "</tr>\n",
       "<tr>\n",
       "  <th>YearsExperience</th>    <td>    0.2024</td> <td>    0.027</td> <td>    7.601</td> <td> 0.000</td> <td>    0.148</td> <td>    0.257</td>\n",
       "</tr>\n",
       "<tr>\n",
       "  <th>YearsExperience_sq</th> <td>   -0.0066</td> <td>    0.002</td> <td>   -2.957</td> <td> 0.006</td> <td>   -0.011</td> <td>   -0.002</td>\n",
       "</tr>\n",
       "</table>\n",
       "<table class=\"simpletable\">\n",
       "<tr>\n",
       "  <th>Omnibus:</th>       <td> 1.099</td> <th>  Durbin-Watson:     </th> <td>   1.845</td>\n",
       "</tr>\n",
       "<tr>\n",
       "  <th>Prob(Omnibus):</th> <td> 0.577</td> <th>  Jarque-Bera (JB):  </th> <td>   1.002</td>\n",
       "</tr>\n",
       "<tr>\n",
       "  <th>Skew:</th>          <td> 0.260</td> <th>  Prob(JB):          </th> <td>   0.606</td>\n",
       "</tr>\n",
       "<tr>\n",
       "  <th>Kurtosis:</th>      <td> 2.271</td> <th>  Cond. No.          </th> <td>    223.</td>\n",
       "</tr>\n",
       "</table><br/><br/>Notes:<br/>[1] Standard Errors assume that the covariance matrix of the errors is correctly specified."
      ],
      "text/plain": [
       "<class 'statsmodels.iolib.summary.Summary'>\n",
       "\"\"\"\n",
       "                            OLS Regression Results                            \n",
       "==============================================================================\n",
       "Dep. Variable:         np.log(Salary)   R-squared:                       0.949\n",
       "Model:                            OLS   Adj. R-squared:                  0.945\n",
       "Method:                 Least Squares   F-statistic:                     249.2\n",
       "Date:                Mon, 24 Apr 2023   Prob (F-statistic):           3.95e-18\n",
       "Time:                        16:24:08   Log-Likelihood:                 32.391\n",
       "No. Observations:                  30   AIC:                            -58.78\n",
       "Df Residuals:                      27   BIC:                            -54.58\n",
       "Df Model:                           2                                         \n",
       "Covariance Type:            nonrobust                                         \n",
       "======================================================================================\n",
       "                         coef    std err          t      P>|t|      [0.025      0.975]\n",
       "--------------------------------------------------------------------------------------\n",
       "Intercept             10.3369      0.067    154.368      0.000      10.199      10.474\n",
       "YearsExperience        0.2024      0.027      7.601      0.000       0.148       0.257\n",
       "YearsExperience_sq    -0.0066      0.002     -2.957      0.006      -0.011      -0.002\n",
       "==============================================================================\n",
       "Omnibus:                        1.099   Durbin-Watson:                   1.845\n",
       "Prob(Omnibus):                  0.577   Jarque-Bera (JB):                1.002\n",
       "Skew:                           0.260   Prob(JB):                        0.606\n",
       "Kurtosis:                       2.271   Cond. No.                         223.\n",
       "==============================================================================\n",
       "\n",
       "Notes:\n",
       "[1] Standard Errors assume that the covariance matrix of the errors is correctly specified.\n",
       "\"\"\""
      ]
     },
     "execution_count": 159,
     "metadata": {},
     "output_type": "execute_result"
    }
   ],
   "source": [
    "model_sq1.summary()"
   ]
  },
  {
   "cell_type": "code",
   "execution_count": 160,
   "id": "b3b4c8dd",
   "metadata": {
    "ExecuteTime": {
     "end_time": "2023-04-24T10:54:08.765800Z",
     "start_time": "2023-04-24T10:54:08.738788Z"
    }
   },
   "outputs": [
    {
     "data": {
      "text/plain": [
       "Intercept             10.336852\n",
       "YearsExperience        0.202382\n",
       "YearsExperience_sq    -0.006614\n",
       "dtype: float64"
      ]
     },
     "execution_count": 160,
     "metadata": {},
     "output_type": "execute_result"
    }
   ],
   "source": [
    "model_sq1.params"
   ]
  },
  {
   "cell_type": "code",
   "execution_count": 161,
   "id": "6da117b1",
   "metadata": {
    "ExecuteTime": {
     "end_time": "2023-04-24T10:54:09.327918Z",
     "start_time": "2023-04-24T10:54:09.299254Z"
    }
   },
   "outputs": [
    {
     "data": {
      "text/plain": [
       "0.948610863848735"
      ]
     },
     "execution_count": 161,
     "metadata": {},
     "output_type": "execute_result"
    }
   ],
   "source": [
    "model_sq1.rsquared"
   ]
  },
  {
   "cell_type": "code",
   "execution_count": 162,
   "id": "116a0543",
   "metadata": {
    "ExecuteTime": {
     "end_time": "2023-04-24T10:54:09.731022Z",
     "start_time": "2023-04-24T10:54:09.700407Z"
    }
   },
   "outputs": [
    {
     "data": {
      "text/plain": [
       "0     10.551469\n",
       "1     10.588771\n",
       "2     10.625544\n",
       "3     10.715161\n",
       "4     10.750082\n",
       "5     10.868138\n",
       "6     10.884475\n",
       "7     10.916750\n",
       "8     10.916750\n",
       "9     10.995124\n",
       "10    11.025548\n",
       "11    11.040561\n",
       "12    11.040561\n",
       "13    11.055443\n",
       "14    11.113645\n",
       "15    11.169730\n",
       "16    11.196980\n",
       "17    11.223700\n",
       "18    11.300686\n",
       "19    11.313054\n",
       "20    11.407237\n",
       "21    11.440373\n",
       "22    11.522915\n",
       "23    11.551686\n",
       "24    11.596993\n",
       "25    11.622589\n",
       "26    11.662605\n",
       "27    11.670211\n",
       "28    11.719752\n",
       "29    11.732716\n",
       "dtype: float64"
      ]
     },
     "execution_count": 162,
     "metadata": {},
     "output_type": "execute_result"
    }
   ],
   "source": [
    "model_sq_pred1=model_sq1.predict(salary_hike)\n",
    "model_sq_pred1"
   ]
  },
  {
   "cell_type": "code",
   "execution_count": 163,
   "id": "7a31dea1",
   "metadata": {
    "ExecuteTime": {
     "end_time": "2023-04-24T10:54:10.080339Z",
     "start_time": "2023-04-24T10:54:10.047264Z"
    }
   },
   "outputs": [
    {
     "data": {
      "text/plain": [
       "0      38233.559684\n",
       "1      39686.674746\n",
       "2      41173.227466\n",
       "3      45033.440973\n",
       "4      46633.832589\n",
       "5      52477.426306\n",
       "6      53341.747319\n",
       "7      55091.465477\n",
       "8      55091.465477\n",
       "9      59582.917523\n",
       "10     61423.509899\n",
       "11     62352.647026\n",
       "12     62352.647026\n",
       "13     63287.467325\n",
       "14     67080.231957\n",
       "15     70949.981000\n",
       "16     72909.896294\n",
       "17     74884.321575\n",
       "18     80877.084894\n",
       "19     81883.588147\n",
       "20     89970.445587\n",
       "21     93001.652359\n",
       "22    101003.996109\n",
       "23    103952.199275\n",
       "24    108770.218622\n",
       "25    111590.303652\n",
       "26    116146.198447\n",
       "27    117033.009807\n",
       "28    122976.902760\n",
       "29    124581.554019\n",
       "dtype: float64"
      ]
     },
     "execution_count": 163,
     "metadata": {},
     "output_type": "execute_result"
    }
   ],
   "source": [
    "model_sq_predict1=np.exp(model_sq_pred1)\n",
    "model_sq_predict1"
   ]
  },
  {
   "cell_type": "code",
   "execution_count": 164,
   "id": "4e713dfb",
   "metadata": {
    "ExecuteTime": {
     "end_time": "2023-04-24T10:54:10.563124Z",
     "start_time": "2023-04-24T10:54:10.288327Z"
    }
   },
   "outputs": [
    {
     "data": {
      "text/plain": [
       "<matplotlib.collections.PathCollection at 0x1fbf65fa9a0>"
      ]
     },
     "execution_count": 164,
     "metadata": {},
     "output_type": "execute_result"
    },
    {
     "data": {
      "image/png": "[encoded data removed]",
      "text/plain": [
       "<Figure size 640x480 with 1 Axes>"
      ]
     },
     "metadata": {},
     "output_type": "display_data"
    }
   ],
   "source": [
    "plt.style.use('classic')\n",
    "plt.scatter(salary_hike[\"YearsExperience\"],salary_hike[\"Salary\"])"
   ]
  },
  {
   "cell_type": "code",
   "execution_count": 165,
   "id": "8f3283e9",
   "metadata": {
    "ExecuteTime": {
     "end_time": "2023-04-24T10:54:10.943068Z",
     "start_time": "2023-04-24T10:54:10.583598Z"
    }
   },
   "outputs": [
    {
     "data": {
      "text/plain": [
       "[<matplotlib.lines.Line2D at 0x1fbf51b1790>]"
      ]
     },
     "execution_count": 165,
     "metadata": {},
     "output_type": "execute_result"
    },
    {
     "data": {
      "image/png": "[encoded data removed]",
      "text/plain": [
       "<Figure size 640x480 with 1 Axes>"
      ]
     },
     "metadata": {},
     "output_type": "display_data"
    }
   ],
   "source": [
    "plt.style.use('classic')\n",
    "plt.plot(salary_hike[\"YearsExperience\"],model_sq_predict1,\"bo\")"
   ]
  },
  {
   "cell_type": "code",
   "execution_count": 166,
   "id": "65099881",
   "metadata": {
    "ExecuteTime": {
     "end_time": "2023-04-24T10:54:10.974689Z",
     "start_time": "2023-04-24T10:54:10.949535Z"
    }
   },
   "outputs": [
    {
     "data": {
      "text/plain": [
       "0     0.028604\n",
       "1     0.152073\n",
       "2    -0.087306\n",
       "3    -0.034070\n",
       "4    -0.156176\n",
       "5     0.076368\n",
       "6     0.120122\n",
       "7    -0.011804\n",
       "8     0.156817\n",
       "9    -0.041007\n",
       "10    0.028796\n",
       "11   -0.111140\n",
       "12   -0.090510\n",
       "13   -0.103216\n",
       "14   -0.093198\n",
       "15   -0.043380\n",
       "16   -0.099130\n",
       "17    0.103956\n",
       "18    0.005990\n",
       "19    0.137358\n",
       "20    0.019455\n",
       "21    0.055132\n",
       "22    0.002946\n",
       "23    0.090617\n",
       "24    0.006057\n",
       "25   -0.055346\n",
       "26    0.007059\n",
       "27   -0.038304\n",
       "28   -0.004776\n",
       "29   -0.021989\n",
       "dtype: float64"
      ]
     },
     "execution_count": 166,
     "metadata": {},
     "output_type": "execute_result"
    }
   ],
   "source": [
    "model_sq1.resid"
   ]
  },
  {
   "cell_type": "code",
   "execution_count": 167,
   "id": "5e7e8a22",
   "metadata": {
    "ExecuteTime": {
     "end_time": "2023-04-24T10:54:11.478126Z",
     "start_time": "2023-04-24T10:54:11.170522Z"
    }
   },
   "outputs": [
    {
     "data": {
      "text/plain": [
       "(array([1., 3., 3., 5., 3., 7., 1., 2., 2., 3.]),\n",
       " array([-0.15617556, -0.12487627, -0.09357698, -0.06227769, -0.0309784 ,\n",
       "         0.00032088,  0.03162017,  0.06291946,  0.09421875,  0.12551804,\n",
       "         0.15681733]),\n",
       " <BarContainer object of 10 artists>)"
      ]
     },
     "execution_count": 167,
     "metadata": {},
     "output_type": "execute_result"
    },
    {
     "data": {
      "image/png": "[encoded data removed]",
      "text/plain": [
       "<Figure size 640x480 with 1 Axes>"
      ]
     },
     "metadata": {},
     "output_type": "display_data"
    }
   ],
   "source": [
    "# If we want to see model developed is valid or not, concept call as model validation technique. \n",
    "plt.hist(model_sq1.resid)"
   ]
  },
  {
   "cell_type": "markdown",
   "id": "a1d16b8f",
   "metadata": {},
   "source": [
    "HERE, by using histogram of residuals ,got to know that mean value of residual is zero and variance is constant from the mean value.From this we can say that model developed is valid."
   ]
  },
  {
   "cell_type": "markdown",
   "id": "93b101fe",
   "metadata": {
    "ExecuteTime": {
     "end_time": "2023-04-23T19:07:46.116117Z",
     "start_time": "2023-04-23T19:07:46.095244Z"
    }
   },
   "source": [
    "Conclusion:\n",
    "All the four models , in linear model we get R-sq value as 0.957 i.e we get accuracy of model is 95.7%.\n",
    "Also, p-value for independent variables is 0.0000 i.e less than alpha=0.05 so all independent variables are significant.\n",
    "Therefore, out of all 4 models, the linear model is having best R-sq value and it is having lowest error.\n",
    "Hence, this is the best model among the 4 models."
   ]
  }
 ],
 "metadata": {
  "kernelspec": {
   "display_name": "Python 3 (ipykernel)",
   "language": "python",
   "name": "python3"
  },
  "language_info": {
   "codemirror_mode": {
    "name": "ipython",
    "version": 3
   },
   "file_extension": ".py",
   "mimetype": "text/x-python",
   "name": "python",
   "nbconvert_exporter": "python",
   "pygments_lexer": "ipython3",
   "version": "3.9.12"
  }
 },
 "nbformat": 4,
 "nbformat_minor": 5
}
