{
 "cells": [
  {
   "cell_type": "markdown",
   "id": "ebc76f73",
   "metadata": {},
   "source": [
    "# Q7) Calculate Mean, Median, Mode, Variance, Standard Deviation, Range &     comment about the values / draw inferences, for the given dataset\n",
    "-\tFor Points,Score,Weigh>\n"
   ]
  },
  {
   "cell_type": "code",
   "execution_count": 62,
   "id": "571b270d",
   "metadata": {
    "ExecuteTime": {
     "end_time": "2022-09-16T10:41:04.411672Z",
     "start_time": "2022-09-16T10:40:55.099310Z"
    }
   },
   "outputs": [],
   "source": [
    "# importing pandas library\n",
    "import pandas as pd"
   ]
  },
  {
   "cell_type": "code",
   "execution_count": 63,
   "id": "7cf04853",
   "metadata": {
    "ExecuteTime": {
     "end_time": "2022-09-16T10:41:04.813374Z",
     "start_time": "2022-09-16T10:41:04.425073Z"
    },
    "scrolled": true
   },
   "outputs": [
    {
     "data": {
      "text/html": [
       "<div>\n",
       "<style scoped>\n",
       "    .dataframe tbody tr th:only-of-type {\n",
       "        vertical-align: middle;\n",
       "    }\n",
       "\n",
       "    .dataframe tbody tr th {\n",
       "        vertical-align: top;\n",
       "    }\n",
       "\n",
       "    .dataframe thead th {\n",
       "        text-align: right;\n",
       "    }\n",
       "</style>\n",
       "<table border=\"1\" class=\"dataframe\">\n",
       "  <thead>\n",
       "    <tr style=\"text-align: right;\">\n",
       "      <th></th>\n",
       "      <th>Unnamed: 0</th>\n",
       "      <th>Points</th>\n",
       "      <th>Score</th>\n",
       "      <th>Weigh</th>\n",
       "    </tr>\n",
       "  </thead>\n",
       "  <tbody>\n",
       "    <tr>\n",
       "      <th>0</th>\n",
       "      <td>Mazda RX4</td>\n",
       "      <td>3.90</td>\n",
       "      <td>2.620</td>\n",
       "      <td>16.46</td>\n",
       "    </tr>\n",
       "    <tr>\n",
       "      <th>1</th>\n",
       "      <td>Mazda RX4 Wag</td>\n",
       "      <td>3.90</td>\n",
       "      <td>2.875</td>\n",
       "      <td>17.02</td>\n",
       "    </tr>\n",
       "    <tr>\n",
       "      <th>2</th>\n",
       "      <td>Datsun 710</td>\n",
       "      <td>3.85</td>\n",
       "      <td>2.320</td>\n",
       "      <td>18.61</td>\n",
       "    </tr>\n",
       "    <tr>\n",
       "      <th>3</th>\n",
       "      <td>Hornet 4 Drive</td>\n",
       "      <td>3.08</td>\n",
       "      <td>3.215</td>\n",
       "      <td>19.44</td>\n",
       "    </tr>\n",
       "    <tr>\n",
       "      <th>4</th>\n",
       "      <td>Hornet Sportabout</td>\n",
       "      <td>3.15</td>\n",
       "      <td>3.440</td>\n",
       "      <td>17.02</td>\n",
       "    </tr>\n",
       "    <tr>\n",
       "      <th>5</th>\n",
       "      <td>Valiant</td>\n",
       "      <td>2.76</td>\n",
       "      <td>3.460</td>\n",
       "      <td>20.22</td>\n",
       "    </tr>\n",
       "    <tr>\n",
       "      <th>6</th>\n",
       "      <td>Duster 360</td>\n",
       "      <td>3.21</td>\n",
       "      <td>3.570</td>\n",
       "      <td>15.84</td>\n",
       "    </tr>\n",
       "    <tr>\n",
       "      <th>7</th>\n",
       "      <td>Merc 240D</td>\n",
       "      <td>3.69</td>\n",
       "      <td>3.190</td>\n",
       "      <td>20.00</td>\n",
       "    </tr>\n",
       "    <tr>\n",
       "      <th>8</th>\n",
       "      <td>Merc 230</td>\n",
       "      <td>3.92</td>\n",
       "      <td>3.150</td>\n",
       "      <td>22.90</td>\n",
       "    </tr>\n",
       "    <tr>\n",
       "      <th>9</th>\n",
       "      <td>Merc 280</td>\n",
       "      <td>3.92</td>\n",
       "      <td>3.440</td>\n",
       "      <td>18.30</td>\n",
       "    </tr>\n",
       "    <tr>\n",
       "      <th>10</th>\n",
       "      <td>Merc 280C</td>\n",
       "      <td>3.92</td>\n",
       "      <td>3.440</td>\n",
       "      <td>18.90</td>\n",
       "    </tr>\n",
       "    <tr>\n",
       "      <th>11</th>\n",
       "      <td>Merc 450SE</td>\n",
       "      <td>3.07</td>\n",
       "      <td>4.070</td>\n",
       "      <td>17.40</td>\n",
       "    </tr>\n",
       "    <tr>\n",
       "      <th>12</th>\n",
       "      <td>Merc 450SL</td>\n",
       "      <td>3.07</td>\n",
       "      <td>3.730</td>\n",
       "      <td>17.60</td>\n",
       "    </tr>\n",
       "    <tr>\n",
       "      <th>13</th>\n",
       "      <td>Merc 450SLC</td>\n",
       "      <td>3.07</td>\n",
       "      <td>3.780</td>\n",
       "      <td>18.00</td>\n",
       "    </tr>\n",
       "    <tr>\n",
       "      <th>14</th>\n",
       "      <td>Cadillac Fleetwood</td>\n",
       "      <td>2.93</td>\n",
       "      <td>5.250</td>\n",
       "      <td>17.98</td>\n",
       "    </tr>\n",
       "    <tr>\n",
       "      <th>15</th>\n",
       "      <td>Lincoln Continental</td>\n",
       "      <td>3.00</td>\n",
       "      <td>5.424</td>\n",
       "      <td>17.82</td>\n",
       "    </tr>\n",
       "    <tr>\n",
       "      <th>16</th>\n",
       "      <td>Chrysler Imperial</td>\n",
       "      <td>3.23</td>\n",
       "      <td>5.345</td>\n",
       "      <td>17.42</td>\n",
       "    </tr>\n",
       "    <tr>\n",
       "      <th>17</th>\n",
       "      <td>Fiat 128</td>\n",
       "      <td>4.08</td>\n",
       "      <td>2.200</td>\n",
       "      <td>19.47</td>\n",
       "    </tr>\n",
       "    <tr>\n",
       "      <th>18</th>\n",
       "      <td>Honda Civic</td>\n",
       "      <td>4.93</td>\n",
       "      <td>1.615</td>\n",
       "      <td>18.52</td>\n",
       "    </tr>\n",
       "    <tr>\n",
       "      <th>19</th>\n",
       "      <td>Toyota Corolla</td>\n",
       "      <td>4.22</td>\n",
       "      <td>1.835</td>\n",
       "      <td>19.90</td>\n",
       "    </tr>\n",
       "    <tr>\n",
       "      <th>20</th>\n",
       "      <td>Toyota Corona</td>\n",
       "      <td>3.70</td>\n",
       "      <td>2.465</td>\n",
       "      <td>20.01</td>\n",
       "    </tr>\n",
       "    <tr>\n",
       "      <th>21</th>\n",
       "      <td>Dodge Challenger</td>\n",
       "      <td>2.76</td>\n",
       "      <td>3.520</td>\n",
       "      <td>16.87</td>\n",
       "    </tr>\n",
       "    <tr>\n",
       "      <th>22</th>\n",
       "      <td>AMC Javelin</td>\n",
       "      <td>3.15</td>\n",
       "      <td>3.435</td>\n",
       "      <td>17.30</td>\n",
       "    </tr>\n",
       "    <tr>\n",
       "      <th>23</th>\n",
       "      <td>Camaro Z28</td>\n",
       "      <td>3.73</td>\n",
       "      <td>3.840</td>\n",
       "      <td>15.41</td>\n",
       "    </tr>\n",
       "    <tr>\n",
       "      <th>24</th>\n",
       "      <td>Pontiac Firebird</td>\n",
       "      <td>3.08</td>\n",
       "      <td>3.845</td>\n",
       "      <td>17.05</td>\n",
       "    </tr>\n",
       "    <tr>\n",
       "      <th>25</th>\n",
       "      <td>Fiat X1-9</td>\n",
       "      <td>4.08</td>\n",
       "      <td>1.935</td>\n",
       "      <td>18.90</td>\n",
       "    </tr>\n",
       "    <tr>\n",
       "      <th>26</th>\n",
       "      <td>Porsche 914-2</td>\n",
       "      <td>4.43</td>\n",
       "      <td>2.140</td>\n",
       "      <td>16.70</td>\n",
       "    </tr>\n",
       "    <tr>\n",
       "      <th>27</th>\n",
       "      <td>Lotus Europa</td>\n",
       "      <td>3.77</td>\n",
       "      <td>1.513</td>\n",
       "      <td>16.90</td>\n",
       "    </tr>\n",
       "    <tr>\n",
       "      <th>28</th>\n",
       "      <td>Ford Pantera L</td>\n",
       "      <td>4.22</td>\n",
       "      <td>3.170</td>\n",
       "      <td>14.50</td>\n",
       "    </tr>\n",
       "    <tr>\n",
       "      <th>29</th>\n",
       "      <td>Ferrari Dino</td>\n",
       "      <td>3.62</td>\n",
       "      <td>2.770</td>\n",
       "      <td>15.50</td>\n",
       "    </tr>\n",
       "    <tr>\n",
       "      <th>30</th>\n",
       "      <td>Maserati Bora</td>\n",
       "      <td>3.54</td>\n",
       "      <td>3.570</td>\n",
       "      <td>14.60</td>\n",
       "    </tr>\n",
       "    <tr>\n",
       "      <th>31</th>\n",
       "      <td>Volvo 142E</td>\n",
       "      <td>4.11</td>\n",
       "      <td>2.780</td>\n",
       "      <td>18.60</td>\n",
       "    </tr>\n",
       "  </tbody>\n",
       "</table>\n",
       "</div>"
      ],
      "text/plain": [
       "             Unnamed: 0  Points  Score  Weigh\n",
       "0             Mazda RX4    3.90  2.620  16.46\n",
       "1         Mazda RX4 Wag    3.90  2.875  17.02\n",
       "2            Datsun 710    3.85  2.320  18.61\n",
       "3        Hornet 4 Drive    3.08  3.215  19.44\n",
       "4     Hornet Sportabout    3.15  3.440  17.02\n",
       "5               Valiant    2.76  3.460  20.22\n",
       "6            Duster 360    3.21  3.570  15.84\n",
       "7             Merc 240D    3.69  3.190  20.00\n",
       "8              Merc 230    3.92  3.150  22.90\n",
       "9              Merc 280    3.92  3.440  18.30\n",
       "10            Merc 280C    3.92  3.440  18.90\n",
       "11           Merc 450SE    3.07  4.070  17.40\n",
       "12           Merc 450SL    3.07  3.730  17.60\n",
       "13          Merc 450SLC    3.07  3.780  18.00\n",
       "14   Cadillac Fleetwood    2.93  5.250  17.98\n",
       "15  Lincoln Continental    3.00  5.424  17.82\n",
       "16    Chrysler Imperial    3.23  5.345  17.42\n",
       "17             Fiat 128    4.08  2.200  19.47\n",
       "18          Honda Civic    4.93  1.615  18.52\n",
       "19       Toyota Corolla    4.22  1.835  19.90\n",
       "20        Toyota Corona    3.70  2.465  20.01\n",
       "21     Dodge Challenger    2.76  3.520  16.87\n",
       "22          AMC Javelin    3.15  3.435  17.30\n",
       "23           Camaro Z28    3.73  3.840  15.41\n",
       "24     Pontiac Firebird    3.08  3.845  17.05\n",
       "25            Fiat X1-9    4.08  1.935  18.90\n",
       "26        Porsche 914-2    4.43  2.140  16.70\n",
       "27         Lotus Europa    3.77  1.513  16.90\n",
       "28       Ford Pantera L    4.22  3.170  14.50\n",
       "29         Ferrari Dino    3.62  2.770  15.50\n",
       "30        Maserati Bora    3.54  3.570  14.60\n",
       "31           Volvo 142E    4.11  2.780  18.60"
      ]
     },
     "execution_count": 63,
     "metadata": {},
     "output_type": "execute_result"
    }
   ],
   "source": [
    "# to read dataset\n",
    "dataset=pd.read_csv('Q7.csv')\n",
    "dataset"
   ]
  },
  {
   "cell_type": "code",
   "execution_count": 64,
   "id": "5ad03d86",
   "metadata": {
    "ExecuteTime": {
     "end_time": "2022-09-16T10:41:04.963019Z",
     "start_time": "2022-09-16T10:41:04.815372Z"
    }
   },
   "outputs": [
    {
     "data": {
      "text/html": [
       "<div>\n",
       "<style scoped>\n",
       "    .dataframe tbody tr th:only-of-type {\n",
       "        vertical-align: middle;\n",
       "    }\n",
       "\n",
       "    .dataframe tbody tr th {\n",
       "        vertical-align: top;\n",
       "    }\n",
       "\n",
       "    .dataframe thead th {\n",
       "        text-align: right;\n",
       "    }\n",
       "</style>\n",
       "<table border=\"1\" class=\"dataframe\">\n",
       "  <thead>\n",
       "    <tr style=\"text-align: right;\">\n",
       "      <th></th>\n",
       "      <th>Points</th>\n",
       "      <th>Score</th>\n",
       "      <th>Weigh</th>\n",
       "    </tr>\n",
       "  </thead>\n",
       "  <tbody>\n",
       "    <tr>\n",
       "      <th>count</th>\n",
       "      <td>32.000000</td>\n",
       "      <td>32.000000</td>\n",
       "      <td>32.000000</td>\n",
       "    </tr>\n",
       "    <tr>\n",
       "      <th>mean</th>\n",
       "      <td>3.596563</td>\n",
       "      <td>3.217250</td>\n",
       "      <td>17.848750</td>\n",
       "    </tr>\n",
       "    <tr>\n",
       "      <th>std</th>\n",
       "      <td>0.534679</td>\n",
       "      <td>0.978457</td>\n",
       "      <td>1.786943</td>\n",
       "    </tr>\n",
       "    <tr>\n",
       "      <th>min</th>\n",
       "      <td>2.760000</td>\n",
       "      <td>1.513000</td>\n",
       "      <td>14.500000</td>\n",
       "    </tr>\n",
       "    <tr>\n",
       "      <th>25%</th>\n",
       "      <td>3.080000</td>\n",
       "      <td>2.581250</td>\n",
       "      <td>16.892500</td>\n",
       "    </tr>\n",
       "    <tr>\n",
       "      <th>50%</th>\n",
       "      <td>3.695000</td>\n",
       "      <td>3.325000</td>\n",
       "      <td>17.710000</td>\n",
       "    </tr>\n",
       "    <tr>\n",
       "      <th>75%</th>\n",
       "      <td>3.920000</td>\n",
       "      <td>3.610000</td>\n",
       "      <td>18.900000</td>\n",
       "    </tr>\n",
       "    <tr>\n",
       "      <th>max</th>\n",
       "      <td>4.930000</td>\n",
       "      <td>5.424000</td>\n",
       "      <td>22.900000</td>\n",
       "    </tr>\n",
       "  </tbody>\n",
       "</table>\n",
       "</div>"
      ],
      "text/plain": [
       "          Points      Score      Weigh\n",
       "count  32.000000  32.000000  32.000000\n",
       "mean    3.596563   3.217250  17.848750\n",
       "std     0.534679   0.978457   1.786943\n",
       "min     2.760000   1.513000  14.500000\n",
       "25%     3.080000   2.581250  16.892500\n",
       "50%     3.695000   3.325000  17.710000\n",
       "75%     3.920000   3.610000  18.900000\n",
       "max     4.930000   5.424000  22.900000"
      ]
     },
     "execution_count": 64,
     "metadata": {},
     "output_type": "execute_result"
    }
   ],
   "source": [
    "dataset.describe()"
   ]
  },
  {
   "cell_type": "markdown",
   "id": "3e93177c",
   "metadata": {},
   "source": [
    "# to get mean values"
   ]
  },
  {
   "cell_type": "code",
   "execution_count": 65,
   "id": "9806649e",
   "metadata": {
    "ExecuteTime": {
     "end_time": "2022-09-16T10:41:04.994383Z",
     "start_time": "2022-09-16T10:41:04.968088Z"
    }
   },
   "outputs": [
    {
     "data": {
      "text/plain": [
       "3.5965625000000006"
      ]
     },
     "execution_count": 65,
     "metadata": {},
     "output_type": "execute_result"
    }
   ],
   "source": [
    "dataset['Points'].mean()"
   ]
  },
  {
   "cell_type": "code",
   "execution_count": 66,
   "id": "22a21356",
   "metadata": {
    "ExecuteTime": {
     "end_time": "2022-09-16T10:41:12.645840Z",
     "start_time": "2022-09-16T10:41:05.005194Z"
    }
   },
   "outputs": [
    {
     "data": {
      "text/plain": [
       "Points     3.596563\n",
       "Score      3.217250\n",
       "Weigh     17.848750\n",
       "dtype: float64"
      ]
     },
     "execution_count": 66,
     "metadata": {},
     "output_type": "execute_result"
    }
   ],
   "source": [
    "# to avoid warnings\n",
    "import warnings\n",
    "warnings.filterwarnings('ignore')\n",
    "dataset.mean()"
   ]
  },
  {
   "cell_type": "markdown",
   "id": "2a48ee6f",
   "metadata": {},
   "source": [
    "# to get median values"
   ]
  },
  {
   "cell_type": "code",
   "execution_count": 67,
   "id": "5671b24e",
   "metadata": {
    "ExecuteTime": {
     "end_time": "2022-09-16T10:41:12.751552Z",
     "start_time": "2022-09-16T10:41:12.656133Z"
    }
   },
   "outputs": [
    {
     "data": {
      "text/plain": [
       "Points     3.695\n",
       "Score      3.325\n",
       "Weigh     17.710\n",
       "dtype: float64"
      ]
     },
     "execution_count": 67,
     "metadata": {},
     "output_type": "execute_result"
    }
   ],
   "source": [
    "dataset.median()"
   ]
  },
  {
   "cell_type": "markdown",
   "id": "163fa281",
   "metadata": {},
   "source": [
    "# to get mode values"
   ]
  },
  {
   "cell_type": "code",
   "execution_count": 68,
   "id": "801c8295",
   "metadata": {
    "ExecuteTime": {
     "end_time": "2022-09-16T10:41:12.829470Z",
     "start_time": "2022-09-16T10:41:12.755797Z"
    }
   },
   "outputs": [
    {
     "data": {
      "text/plain": [
       "0    3.07\n",
       "1    3.92\n",
       "Name: Points, dtype: float64"
      ]
     },
     "execution_count": 68,
     "metadata": {},
     "output_type": "execute_result"
    }
   ],
   "source": [
    "dataset[\"Points\"].mode()"
   ]
  },
  {
   "cell_type": "code",
   "execution_count": 69,
   "id": "768afcc0",
   "metadata": {
    "ExecuteTime": {
     "end_time": "2022-09-16T10:41:12.895704Z",
     "start_time": "2022-09-16T10:41:12.834205Z"
    }
   },
   "outputs": [
    {
     "data": {
      "text/plain": [
       "0    3.44\n",
       "Name: Score, dtype: float64"
      ]
     },
     "execution_count": 69,
     "metadata": {},
     "output_type": "execute_result"
    }
   ],
   "source": [
    "dataset[\"Score\"].mode()"
   ]
  },
  {
   "cell_type": "code",
   "execution_count": 70,
   "id": "dc8559a0",
   "metadata": {
    "ExecuteTime": {
     "end_time": "2022-09-16T10:41:12.983572Z",
     "start_time": "2022-09-16T10:41:12.898246Z"
    }
   },
   "outputs": [
    {
     "data": {
      "text/plain": [
       "0    17.02\n",
       "1    18.90\n",
       "Name: Weigh, dtype: float64"
      ]
     },
     "execution_count": 70,
     "metadata": {},
     "output_type": "execute_result"
    }
   ],
   "source": [
    "dataset[\"Weigh\"].mode()"
   ]
  },
  {
   "cell_type": "markdown",
   "id": "8c3a4409",
   "metadata": {},
   "source": [
    "# variances\n"
   ]
  },
  {
   "cell_type": "code",
   "execution_count": 71,
   "id": "c4a4d8e5",
   "metadata": {
    "ExecuteTime": {
     "end_time": "2022-09-16T10:41:13.065132Z",
     "start_time": "2022-09-16T10:41:12.984569Z"
    }
   },
   "outputs": [
    {
     "data": {
      "text/plain": [
       "Points    0.285881\n",
       "Score     0.957379\n",
       "Weigh     3.193166\n",
       "dtype: float64"
      ]
     },
     "execution_count": 71,
     "metadata": {},
     "output_type": "execute_result"
    }
   ],
   "source": [
    "dataset.var()"
   ]
  },
  {
   "cell_type": "markdown",
   "id": "92dc0ea3",
   "metadata": {},
   "source": [
    "# Standard deviations"
   ]
  },
  {
   "cell_type": "code",
   "execution_count": 72,
   "id": "02a83526",
   "metadata": {
    "ExecuteTime": {
     "end_time": "2022-09-16T10:41:13.150064Z",
     "start_time": "2022-09-16T10:41:13.069146Z"
    }
   },
   "outputs": [
    {
     "data": {
      "text/plain": [
       "Points    0.534679\n",
       "Score     0.978457\n",
       "Weigh     1.786943\n",
       "dtype: float64"
      ]
     },
     "execution_count": 72,
     "metadata": {},
     "output_type": "execute_result"
    }
   ],
   "source": [
    "dataset.std()"
   ]
  },
  {
   "cell_type": "markdown",
   "id": "634dac71",
   "metadata": {},
   "source": [
    "# range (min & max)"
   ]
  },
  {
   "cell_type": "code",
   "execution_count": 73,
   "id": "8e92bb37",
   "metadata": {
    "ExecuteTime": {
     "end_time": "2022-09-16T10:41:13.182606Z",
     "start_time": "2022-09-16T10:41:13.152059Z"
    }
   },
   "outputs": [
    {
     "data": {
      "text/plain": [
       "Unnamed: 0    AMC Javelin\n",
       "Points               2.76\n",
       "Score               1.513\n",
       "Weigh                14.5\n",
       "dtype: object"
      ]
     },
     "execution_count": 73,
     "metadata": {},
     "output_type": "execute_result"
    }
   ],
   "source": [
    "dataset.min()"
   ]
  },
  {
   "cell_type": "code",
   "execution_count": 74,
   "id": "705ca69a",
   "metadata": {
    "ExecuteTime": {
     "end_time": "2022-09-16T10:41:13.266294Z",
     "start_time": "2022-09-16T10:41:13.190295Z"
    }
   },
   "outputs": [
    {
     "data": {
      "text/plain": [
       "Unnamed: 0    Volvo 142E\n",
       "Points              4.93\n",
       "Score              5.424\n",
       "Weigh               22.9\n",
       "dtype: object"
      ]
     },
     "execution_count": 74,
     "metadata": {},
     "output_type": "execute_result"
    }
   ],
   "source": [
    "dataset.max()"
   ]
  },
  {
   "cell_type": "markdown",
   "id": "5c32d132",
   "metadata": {},
   "source": [
    "# Q12)  Below are the scores obtained by a student in tests \n",
    "34,36,36,38,38,39,39,40,40,41,41,41,41,42,42,45,49,56\n",
    "1)\tFind mean, median, variance, standard deviation.\n",
    "2)\tWhat can we say about the student marks? \n"
   ]
  },
  {
   "cell_type": "code",
   "execution_count": 75,
   "id": "ac6157a9",
   "metadata": {
    "ExecuteTime": {
     "end_time": "2022-09-16T10:41:13.349643Z",
     "start_time": "2022-09-16T10:41:13.267292Z"
    }
   },
   "outputs": [],
   "source": [
    "# importing libraries\n",
    "import pandas as pd\n",
    "import numpy as np"
   ]
  },
  {
   "cell_type": "code",
   "execution_count": 76,
   "id": "65eb341e",
   "metadata": {
    "ExecuteTime": {
     "end_time": "2022-09-16T10:41:13.482603Z",
     "start_time": "2022-09-16T10:41:13.350682Z"
    }
   },
   "outputs": [
    {
     "data": {
      "text/html": [
       "<div>\n",
       "<style scoped>\n",
       "    .dataframe tbody tr th:only-of-type {\n",
       "        vertical-align: middle;\n",
       "    }\n",
       "\n",
       "    .dataframe tbody tr th {\n",
       "        vertical-align: top;\n",
       "    }\n",
       "\n",
       "    .dataframe thead th {\n",
       "        text-align: right;\n",
       "    }\n",
       "</style>\n",
       "<table border=\"1\" class=\"dataframe\">\n",
       "  <thead>\n",
       "    <tr style=\"text-align: right;\">\n",
       "      <th></th>\n",
       "      <th>score</th>\n",
       "    </tr>\n",
       "  </thead>\n",
       "  <tbody>\n",
       "    <tr>\n",
       "      <th>0</th>\n",
       "      <td>34</td>\n",
       "    </tr>\n",
       "    <tr>\n",
       "      <th>1</th>\n",
       "      <td>36</td>\n",
       "    </tr>\n",
       "    <tr>\n",
       "      <th>2</th>\n",
       "      <td>36</td>\n",
       "    </tr>\n",
       "    <tr>\n",
       "      <th>3</th>\n",
       "      <td>38</td>\n",
       "    </tr>\n",
       "    <tr>\n",
       "      <th>4</th>\n",
       "      <td>38</td>\n",
       "    </tr>\n",
       "    <tr>\n",
       "      <th>5</th>\n",
       "      <td>39</td>\n",
       "    </tr>\n",
       "    <tr>\n",
       "      <th>6</th>\n",
       "      <td>39</td>\n",
       "    </tr>\n",
       "    <tr>\n",
       "      <th>7</th>\n",
       "      <td>40</td>\n",
       "    </tr>\n",
       "    <tr>\n",
       "      <th>8</th>\n",
       "      <td>40</td>\n",
       "    </tr>\n",
       "    <tr>\n",
       "      <th>9</th>\n",
       "      <td>41</td>\n",
       "    </tr>\n",
       "    <tr>\n",
       "      <th>10</th>\n",
       "      <td>41</td>\n",
       "    </tr>\n",
       "    <tr>\n",
       "      <th>11</th>\n",
       "      <td>41</td>\n",
       "    </tr>\n",
       "    <tr>\n",
       "      <th>12</th>\n",
       "      <td>41</td>\n",
       "    </tr>\n",
       "    <tr>\n",
       "      <th>13</th>\n",
       "      <td>42</td>\n",
       "    </tr>\n",
       "    <tr>\n",
       "      <th>14</th>\n",
       "      <td>42</td>\n",
       "    </tr>\n",
       "    <tr>\n",
       "      <th>15</th>\n",
       "      <td>45</td>\n",
       "    </tr>\n",
       "    <tr>\n",
       "      <th>16</th>\n",
       "      <td>49</td>\n",
       "    </tr>\n",
       "    <tr>\n",
       "      <th>17</th>\n",
       "      <td>56</td>\n",
       "    </tr>\n",
       "  </tbody>\n",
       "</table>\n",
       "</div>"
      ],
      "text/plain": [
       "    score\n",
       "0      34\n",
       "1      36\n",
       "2      36\n",
       "3      38\n",
       "4      38\n",
       "5      39\n",
       "6      39\n",
       "7      40\n",
       "8      40\n",
       "9      41\n",
       "10     41\n",
       "11     41\n",
       "12     41\n",
       "13     42\n",
       "14     42\n",
       "15     45\n",
       "16     49\n",
       "17     56"
      ]
     },
     "execution_count": 76,
     "metadata": {},
     "output_type": "execute_result"
    }
   ],
   "source": [
    "# dataframe\n",
    "scores=pd.DataFrame({\"score\":[34,36,36,38,38,39,39,40,40,41,41,41,41,42,42,45,49,56]})\n",
    "scores"
   ]
  },
  {
   "cell_type": "code",
   "execution_count": 77,
   "id": "e61af835",
   "metadata": {
    "ExecuteTime": {
     "end_time": "2022-09-16T10:41:13.565017Z",
     "start_time": "2022-09-16T10:41:13.489307Z"
    }
   },
   "outputs": [
    {
     "data": {
      "text/plain": [
       "score    41.0\n",
       "dtype: float64"
      ]
     },
     "execution_count": 77,
     "metadata": {},
     "output_type": "execute_result"
    }
   ],
   "source": [
    "# mean\n",
    "scores.mean()"
   ]
  },
  {
   "cell_type": "code",
   "execution_count": 78,
   "id": "05d0f6f9",
   "metadata": {
    "ExecuteTime": {
     "end_time": "2022-09-16T10:41:13.665825Z",
     "start_time": "2022-09-16T10:41:13.565984Z"
    }
   },
   "outputs": [
    {
     "data": {
      "text/plain": [
       "score    40.5\n",
       "dtype: float64"
      ]
     },
     "execution_count": 78,
     "metadata": {},
     "output_type": "execute_result"
    }
   ],
   "source": [
    "# median\n",
    "scores.median()"
   ]
  },
  {
   "cell_type": "code",
   "execution_count": 79,
   "id": "f49f6b14",
   "metadata": {
    "ExecuteTime": {
     "end_time": "2022-09-16T10:41:13.749069Z",
     "start_time": "2022-09-16T10:41:13.669414Z"
    }
   },
   "outputs": [
    {
     "data": {
      "text/plain": [
       "score    25.529412\n",
       "dtype: float64"
      ]
     },
     "execution_count": 79,
     "metadata": {},
     "output_type": "execute_result"
    }
   ],
   "source": [
    "# variance\n",
    "scores.var()"
   ]
  },
  {
   "cell_type": "code",
   "execution_count": 80,
   "id": "c3d993ac",
   "metadata": {
    "ExecuteTime": {
     "end_time": "2022-09-16T10:41:13.831166Z",
     "start_time": "2022-09-16T10:41:13.750091Z"
    }
   },
   "outputs": [
    {
     "data": {
      "text/plain": [
       "score    5.052664\n",
       "dtype: float64"
      ]
     },
     "execution_count": 80,
     "metadata": {},
     "output_type": "execute_result"
    }
   ],
   "source": [
    "# standard deviation\n",
    "scores.std()"
   ]
  },
  {
   "cell_type": "markdown",
   "id": "dfc9cbd8",
   "metadata": {},
   "source": [
    "# Q20) Calculate probability from the given dataset for the below cases\n",
    "Data _set: Cars.csv\n",
    "Calculate the probability of MPG  of Cars for the below cases.\n",
    "       MPG <- Cars$MPG\n",
    "a.\tP(MPG>38)\n",
    "b.\tP(MPG<40)\n",
    "c.    P (20<MPG<50)\n"
   ]
  },
  {
   "cell_type": "code",
   "execution_count": 81,
   "id": "5579160a",
   "metadata": {
    "ExecuteTime": {
     "end_time": "2022-09-16T10:41:13.898878Z",
     "start_time": "2022-09-16T10:41:13.833199Z"
    }
   },
   "outputs": [],
   "source": [
    "import pandas as pd\n",
    "from scipy import stats"
   ]
  },
  {
   "cell_type": "code",
   "execution_count": 82,
   "id": "55edfc39",
   "metadata": {
    "ExecuteTime": {
     "end_time": "2022-09-16T10:41:14.114972Z",
     "start_time": "2022-09-16T10:41:13.900876Z"
    }
   },
   "outputs": [
    {
     "data": {
      "text/html": [
       "<div>\n",
       "<style scoped>\n",
       "    .dataframe tbody tr th:only-of-type {\n",
       "        vertical-align: middle;\n",
       "    }\n",
       "\n",
       "    .dataframe tbody tr th {\n",
       "        vertical-align: top;\n",
       "    }\n",
       "\n",
       "    .dataframe thead th {\n",
       "        text-align: right;\n",
       "    }\n",
       "</style>\n",
       "<table border=\"1\" class=\"dataframe\">\n",
       "  <thead>\n",
       "    <tr style=\"text-align: right;\">\n",
       "      <th></th>\n",
       "      <th>HP</th>\n",
       "      <th>MPG</th>\n",
       "      <th>VOL</th>\n",
       "      <th>SP</th>\n",
       "      <th>WT</th>\n",
       "    </tr>\n",
       "  </thead>\n",
       "  <tbody>\n",
       "    <tr>\n",
       "      <th>0</th>\n",
       "      <td>49</td>\n",
       "      <td>53.700681</td>\n",
       "      <td>89</td>\n",
       "      <td>104.185353</td>\n",
       "      <td>28.762059</td>\n",
       "    </tr>\n",
       "    <tr>\n",
       "      <th>1</th>\n",
       "      <td>55</td>\n",
       "      <td>50.013401</td>\n",
       "      <td>92</td>\n",
       "      <td>105.461264</td>\n",
       "      <td>30.466833</td>\n",
       "    </tr>\n",
       "    <tr>\n",
       "      <th>2</th>\n",
       "      <td>55</td>\n",
       "      <td>50.013401</td>\n",
       "      <td>92</td>\n",
       "      <td>105.461264</td>\n",
       "      <td>30.193597</td>\n",
       "    </tr>\n",
       "    <tr>\n",
       "      <th>3</th>\n",
       "      <td>70</td>\n",
       "      <td>45.696322</td>\n",
       "      <td>92</td>\n",
       "      <td>113.461264</td>\n",
       "      <td>30.632114</td>\n",
       "    </tr>\n",
       "    <tr>\n",
       "      <th>4</th>\n",
       "      <td>53</td>\n",
       "      <td>50.504232</td>\n",
       "      <td>92</td>\n",
       "      <td>104.461264</td>\n",
       "      <td>29.889149</td>\n",
       "    </tr>\n",
       "    <tr>\n",
       "      <th>...</th>\n",
       "      <td>...</td>\n",
       "      <td>...</td>\n",
       "      <td>...</td>\n",
       "      <td>...</td>\n",
       "      <td>...</td>\n",
       "    </tr>\n",
       "    <tr>\n",
       "      <th>76</th>\n",
       "      <td>322</td>\n",
       "      <td>36.900000</td>\n",
       "      <td>50</td>\n",
       "      <td>169.598513</td>\n",
       "      <td>16.132947</td>\n",
       "    </tr>\n",
       "    <tr>\n",
       "      <th>77</th>\n",
       "      <td>238</td>\n",
       "      <td>19.197888</td>\n",
       "      <td>115</td>\n",
       "      <td>150.576579</td>\n",
       "      <td>37.923113</td>\n",
       "    </tr>\n",
       "    <tr>\n",
       "      <th>78</th>\n",
       "      <td>263</td>\n",
       "      <td>34.000000</td>\n",
       "      <td>50</td>\n",
       "      <td>151.598513</td>\n",
       "      <td>15.769625</td>\n",
       "    </tr>\n",
       "    <tr>\n",
       "      <th>79</th>\n",
       "      <td>295</td>\n",
       "      <td>19.833733</td>\n",
       "      <td>119</td>\n",
       "      <td>167.944460</td>\n",
       "      <td>39.423099</td>\n",
       "    </tr>\n",
       "    <tr>\n",
       "      <th>80</th>\n",
       "      <td>236</td>\n",
       "      <td>12.101263</td>\n",
       "      <td>107</td>\n",
       "      <td>139.840817</td>\n",
       "      <td>34.948615</td>\n",
       "    </tr>\n",
       "  </tbody>\n",
       "</table>\n",
       "<p>81 rows × 5 columns</p>\n",
       "</div>"
      ],
      "text/plain": [
       "     HP        MPG  VOL          SP         WT\n",
       "0    49  53.700681   89  104.185353  28.762059\n",
       "1    55  50.013401   92  105.461264  30.466833\n",
       "2    55  50.013401   92  105.461264  30.193597\n",
       "3    70  45.696322   92  113.461264  30.632114\n",
       "4    53  50.504232   92  104.461264  29.889149\n",
       "..  ...        ...  ...         ...        ...\n",
       "76  322  36.900000   50  169.598513  16.132947\n",
       "77  238  19.197888  115  150.576579  37.923113\n",
       "78  263  34.000000   50  151.598513  15.769625\n",
       "79  295  19.833733  119  167.944460  39.423099\n",
       "80  236  12.101263  107  139.840817  34.948615\n",
       "\n",
       "[81 rows x 5 columns]"
      ]
     },
     "execution_count": 82,
     "metadata": {},
     "output_type": "execute_result"
    }
   ],
   "source": [
    "data=pd.read_csv(\"Cars.csv\")\n",
    "data"
   ]
  },
  {
   "cell_type": "code",
   "execution_count": 83,
   "id": "ddb54175",
   "metadata": {
    "ExecuteTime": {
     "end_time": "2022-09-16T10:41:14.131357Z",
     "start_time": "2022-09-16T10:41:14.121685Z"
    }
   },
   "outputs": [],
   "source": [
    "# finding mean and standard deviation for MPG"
   ]
  },
  {
   "cell_type": "code",
   "execution_count": 84,
   "id": "d639d6bb",
   "metadata": {
    "ExecuteTime": {
     "end_time": "2022-09-16T10:41:14.212724Z",
     "start_time": "2022-09-16T10:41:14.133350Z"
    }
   },
   "outputs": [
    {
     "data": {
      "text/plain": [
       "34.4221"
      ]
     },
     "execution_count": 84,
     "metadata": {},
     "output_type": "execute_result"
    }
   ],
   "source": [
    "round(data[\"MPG\"].mean(),4)"
   ]
  },
  {
   "cell_type": "code",
   "execution_count": 85,
   "id": "50a84d2b",
   "metadata": {
    "ExecuteTime": {
     "end_time": "2022-09-16T10:41:14.297813Z",
     "start_time": "2022-09-16T10:41:14.221407Z"
    }
   },
   "outputs": [
    {
     "data": {
      "text/plain": [
       "9.1314"
      ]
     },
     "execution_count": 85,
     "metadata": {},
     "output_type": "execute_result"
    }
   ],
   "source": [
    "round(data[\"MPG\"].std(),4)"
   ]
  },
  {
   "cell_type": "code",
   "execution_count": 86,
   "id": "ef057b42",
   "metadata": {
    "ExecuteTime": {
     "end_time": "2022-09-16T10:41:14.464338Z",
     "start_time": "2022-09-16T10:41:14.300333Z"
    }
   },
   "outputs": [
    {
     "data": {
      "text/plain": [
       "0.34759419806499703"
      ]
     },
     "execution_count": 86,
     "metadata": {},
     "output_type": "execute_result"
    }
   ],
   "source": [
    "# a. P(MPG>38)=?\n",
    "1-stats.norm.cdf(38,34.4221,9.1314)"
   ]
  },
  {
   "cell_type": "code",
   "execution_count": 87,
   "id": "baf283e9",
   "metadata": {
    "ExecuteTime": {
     "end_time": "2022-09-16T10:41:14.565154Z",
     "start_time": "2022-09-16T10:41:14.466353Z"
    }
   },
   "outputs": [
    {
     "data": {
      "text/plain": [
       "0.7293499868728933"
      ]
     },
     "execution_count": 87,
     "metadata": {},
     "output_type": "execute_result"
    }
   ],
   "source": [
    "#  b. P(MPG<40) =?\n",
    "stats.norm.cdf(40,34.4221,9.1314)"
   ]
  },
  {
   "cell_type": "code",
   "execution_count": 88,
   "id": "ec7968fd",
   "metadata": {
    "ExecuteTime": {
     "end_time": "2022-09-16T10:41:14.629807Z",
     "start_time": "2022-09-16T10:41:14.572279Z"
    }
   },
   "outputs": [
    {
     "data": {
      "text/plain": [
       "0.8988706389453319"
      ]
     },
     "execution_count": 88,
     "metadata": {},
     "output_type": "execute_result"
    }
   ],
   "source": [
    "# c. P (20<MPG<50)=?\n",
    "stats.norm.cdf(50,34.4221,9.1314)-stats.norm.cdf(20,34.4221,9.1314)"
   ]
  },
  {
   "cell_type": "markdown",
   "id": "c2f4b5b1",
   "metadata": {
    "ExecuteTime": {
     "end_time": "2022-09-10T15:20:36.776480Z",
     "start_time": "2022-09-10T15:20:36.706201Z"
    }
   },
   "source": [
    "# Q21) Check whether the data follows normal distribution\n",
    "a)\tCheck whether the MPG of Cars follows Normal Distribution \n",
    "        Dataset: Cars.csv\n",
    "\n",
    "\n",
    "b)\tCheck Whether the Adipose Tissue (AT) and Waist Circumference(Waist)  from wc-at data set  follows Normal Distribution \n",
    "       Dataset: wc-at.csv\n"
   ]
  },
  {
   "cell_type": "code",
   "execution_count": 89,
   "id": "649a33c4",
   "metadata": {
    "ExecuteTime": {
     "end_time": "2022-09-16T10:41:21.465486Z",
     "start_time": "2022-09-16T10:41:14.641276Z"
    }
   },
   "outputs": [],
   "source": [
    "# importing libraries\n",
    "import pandas as pd\n",
    "import numpy as np\n",
    "import matplotlib.pyplot as plt\n",
    "import seaborn as sns"
   ]
  },
  {
   "cell_type": "code",
   "execution_count": 90,
   "id": "9d97f12a",
   "metadata": {
    "ExecuteTime": {
     "end_time": "2022-09-16T10:41:21.514719Z",
     "start_time": "2022-09-16T10:41:21.480371Z"
    }
   },
   "outputs": [
    {
     "data": {
      "text/plain": [
       "' a)\\tCheck whether the MPG of Cars follows Normal Distribution \\n        Dataset: Cars.csv'"
      ]
     },
     "execution_count": 90,
     "metadata": {},
     "output_type": "execute_result"
    }
   ],
   "source": [
    "''' a)\tCheck whether the MPG of Cars follows Normal Distribution \n",
    "        Dataset: Cars.csv'''"
   ]
  },
  {
   "cell_type": "code",
   "execution_count": 91,
   "id": "cdc2a671",
   "metadata": {
    "ExecuteTime": {
     "end_time": "2022-09-16T10:41:21.616864Z",
     "start_time": "2022-09-16T10:41:21.526013Z"
    }
   },
   "outputs": [
    {
     "data": {
      "text/html": [
       "<div>\n",
       "<style scoped>\n",
       "    .dataframe tbody tr th:only-of-type {\n",
       "        vertical-align: middle;\n",
       "    }\n",
       "\n",
       "    .dataframe tbody tr th {\n",
       "        vertical-align: top;\n",
       "    }\n",
       "\n",
       "    .dataframe thead th {\n",
       "        text-align: right;\n",
       "    }\n",
       "</style>\n",
       "<table border=\"1\" class=\"dataframe\">\n",
       "  <thead>\n",
       "    <tr style=\"text-align: right;\">\n",
       "      <th></th>\n",
       "      <th>HP</th>\n",
       "      <th>MPG</th>\n",
       "      <th>VOL</th>\n",
       "      <th>SP</th>\n",
       "      <th>WT</th>\n",
       "    </tr>\n",
       "  </thead>\n",
       "  <tbody>\n",
       "    <tr>\n",
       "      <th>0</th>\n",
       "      <td>49</td>\n",
       "      <td>53.700681</td>\n",
       "      <td>89</td>\n",
       "      <td>104.185353</td>\n",
       "      <td>28.762059</td>\n",
       "    </tr>\n",
       "    <tr>\n",
       "      <th>1</th>\n",
       "      <td>55</td>\n",
       "      <td>50.013401</td>\n",
       "      <td>92</td>\n",
       "      <td>105.461264</td>\n",
       "      <td>30.466833</td>\n",
       "    </tr>\n",
       "    <tr>\n",
       "      <th>2</th>\n",
       "      <td>55</td>\n",
       "      <td>50.013401</td>\n",
       "      <td>92</td>\n",
       "      <td>105.461264</td>\n",
       "      <td>30.193597</td>\n",
       "    </tr>\n",
       "    <tr>\n",
       "      <th>3</th>\n",
       "      <td>70</td>\n",
       "      <td>45.696322</td>\n",
       "      <td>92</td>\n",
       "      <td>113.461264</td>\n",
       "      <td>30.632114</td>\n",
       "    </tr>\n",
       "    <tr>\n",
       "      <th>4</th>\n",
       "      <td>53</td>\n",
       "      <td>50.504232</td>\n",
       "      <td>92</td>\n",
       "      <td>104.461264</td>\n",
       "      <td>29.889149</td>\n",
       "    </tr>\n",
       "    <tr>\n",
       "      <th>...</th>\n",
       "      <td>...</td>\n",
       "      <td>...</td>\n",
       "      <td>...</td>\n",
       "      <td>...</td>\n",
       "      <td>...</td>\n",
       "    </tr>\n",
       "    <tr>\n",
       "      <th>76</th>\n",
       "      <td>322</td>\n",
       "      <td>36.900000</td>\n",
       "      <td>50</td>\n",
       "      <td>169.598513</td>\n",
       "      <td>16.132947</td>\n",
       "    </tr>\n",
       "    <tr>\n",
       "      <th>77</th>\n",
       "      <td>238</td>\n",
       "      <td>19.197888</td>\n",
       "      <td>115</td>\n",
       "      <td>150.576579</td>\n",
       "      <td>37.923113</td>\n",
       "    </tr>\n",
       "    <tr>\n",
       "      <th>78</th>\n",
       "      <td>263</td>\n",
       "      <td>34.000000</td>\n",
       "      <td>50</td>\n",
       "      <td>151.598513</td>\n",
       "      <td>15.769625</td>\n",
       "    </tr>\n",
       "    <tr>\n",
       "      <th>79</th>\n",
       "      <td>295</td>\n",
       "      <td>19.833733</td>\n",
       "      <td>119</td>\n",
       "      <td>167.944460</td>\n",
       "      <td>39.423099</td>\n",
       "    </tr>\n",
       "    <tr>\n",
       "      <th>80</th>\n",
       "      <td>236</td>\n",
       "      <td>12.101263</td>\n",
       "      <td>107</td>\n",
       "      <td>139.840817</td>\n",
       "      <td>34.948615</td>\n",
       "    </tr>\n",
       "  </tbody>\n",
       "</table>\n",
       "<p>81 rows × 5 columns</p>\n",
       "</div>"
      ],
      "text/plain": [
       "     HP        MPG  VOL          SP         WT\n",
       "0    49  53.700681   89  104.185353  28.762059\n",
       "1    55  50.013401   92  105.461264  30.466833\n",
       "2    55  50.013401   92  105.461264  30.193597\n",
       "3    70  45.696322   92  113.461264  30.632114\n",
       "4    53  50.504232   92  104.461264  29.889149\n",
       "..  ...        ...  ...         ...        ...\n",
       "76  322  36.900000   50  169.598513  16.132947\n",
       "77  238  19.197888  115  150.576579  37.923113\n",
       "78  263  34.000000   50  151.598513  15.769625\n",
       "79  295  19.833733  119  167.944460  39.423099\n",
       "80  236  12.101263  107  139.840817  34.948615\n",
       "\n",
       "[81 rows x 5 columns]"
      ]
     },
     "execution_count": 91,
     "metadata": {},
     "output_type": "execute_result"
    }
   ],
   "source": [
    "Cars=pd.read_csv(\"Cars.csv\")\n",
    "Cars"
   ]
  },
  {
   "cell_type": "code",
   "execution_count": 92,
   "id": "23e27b01",
   "metadata": {
    "ExecuteTime": {
     "end_time": "2022-09-16T10:41:23.549974Z",
     "start_time": "2022-09-16T10:41:21.621308Z"
    }
   },
   "outputs": [
    {
     "data": {
      "image/png": "[encoded data removed]",
      "text/plain": [
       "<Figure size 432x288 with 1 Axes>"
      ]
     },
     "metadata": {
      "needs_background": "light"
     },
     "output_type": "display_data"
    }
   ],
   "source": [
    "plt.boxplot(Cars[\"MPG\"])\n",
    "plt.show()"
   ]
  },
  {
   "cell_type": "code",
   "execution_count": 93,
   "id": "644ef396",
   "metadata": {
    "ExecuteTime": {
     "end_time": "2022-09-16T10:41:23.599646Z",
     "start_time": "2022-09-16T10:41:23.558892Z"
    }
   },
   "outputs": [
    {
     "data": {
      "text/plain": [
       "-0.1779"
      ]
     },
     "execution_count": 93,
     "metadata": {},
     "output_type": "execute_result"
    }
   ],
   "source": [
    "round(Cars[\"MPG\"].skew(),4)"
   ]
  },
  {
   "cell_type": "code",
   "execution_count": 94,
   "id": "ed8d2dd3",
   "metadata": {
    "ExecuteTime": {
     "end_time": "2022-09-16T10:41:23.694959Z",
     "start_time": "2022-09-16T10:41:23.600650Z"
    }
   },
   "outputs": [
    {
     "data": {
      "text/plain": [
       "-0.6117"
      ]
     },
     "execution_count": 94,
     "metadata": {},
     "output_type": "execute_result"
    }
   ],
   "source": [
    "round(Cars[\"MPG\"].kurt(),4)"
   ]
  },
  {
   "cell_type": "code",
   "execution_count": 95,
   "id": "8c92a01a",
   "metadata": {
    "ExecuteTime": {
     "end_time": "2022-09-16T10:41:23.797603Z",
     "start_time": "2022-09-16T10:41:23.705766Z"
    }
   },
   "outputs": [
    {
     "data": {
      "text/plain": [
       "34.4221"
      ]
     },
     "execution_count": 95,
     "metadata": {},
     "output_type": "execute_result"
    }
   ],
   "source": [
    "round(Cars[\"MPG\"].mean(),4)"
   ]
  },
  {
   "cell_type": "code",
   "execution_count": 96,
   "id": "a3cb5e2d",
   "metadata": {
    "ExecuteTime": {
     "end_time": "2022-09-16T10:41:23.866847Z",
     "start_time": "2022-09-16T10:41:23.805788Z"
    }
   },
   "outputs": [
    {
     "data": {
      "text/plain": [
       "35.1527"
      ]
     },
     "execution_count": 96,
     "metadata": {},
     "output_type": "execute_result"
    }
   ],
   "source": [
    "round(Cars[\"MPG\"].median(),4)"
   ]
  },
  {
   "cell_type": "code",
   "execution_count": 97,
   "id": "b296dfa2",
   "metadata": {
    "ExecuteTime": {
     "end_time": "2022-09-16T10:41:23.965777Z",
     "start_time": "2022-09-16T10:41:23.874943Z"
    }
   },
   "outputs": [
    {
     "data": {
      "text/plain": [
       "0    29.6299\n",
       "Name: MPG, dtype: float64"
      ]
     },
     "execution_count": 97,
     "metadata": {},
     "output_type": "execute_result"
    }
   ],
   "source": [
    "round(Cars[\"MPG\"].mode(),4)"
   ]
  },
  {
   "cell_type": "code",
   "execution_count": 98,
   "id": "73f4fdb6",
   "metadata": {
    "ExecuteTime": {
     "end_time": "2022-09-16T10:41:24.048501Z",
     "start_time": "2022-09-16T10:41:23.968955Z"
    }
   },
   "outputs": [
    {
     "data": {
      "text/plain": [
       "'b)\\tCheck Whether the Adipose Tissue (AT) and Waist Circumference(Waist)  from wc-at data set  follows Normal Distribution \\n       Dataset: wc-at.csv'"
      ]
     },
     "execution_count": 98,
     "metadata": {},
     "output_type": "execute_result"
    }
   ],
   "source": [
    "'''b)\tCheck Whether the Adipose Tissue (AT) and Waist Circumference(Waist)  from wc-at data set  follows Normal Distribution \n",
    "       Dataset: wc-at.csv'''\n"
   ]
  },
  {
   "cell_type": "code",
   "execution_count": 99,
   "id": "d48ac694",
   "metadata": {
    "ExecuteTime": {
     "end_time": "2022-09-16T10:41:24.198974Z",
     "start_time": "2022-09-16T10:41:24.052717Z"
    }
   },
   "outputs": [
    {
     "data": {
      "text/html": [
       "<div>\n",
       "<style scoped>\n",
       "    .dataframe tbody tr th:only-of-type {\n",
       "        vertical-align: middle;\n",
       "    }\n",
       "\n",
       "    .dataframe tbody tr th {\n",
       "        vertical-align: top;\n",
       "    }\n",
       "\n",
       "    .dataframe thead th {\n",
       "        text-align: right;\n",
       "    }\n",
       "</style>\n",
       "<table border=\"1\" class=\"dataframe\">\n",
       "  <thead>\n",
       "    <tr style=\"text-align: right;\">\n",
       "      <th></th>\n",
       "      <th>Waist</th>\n",
       "      <th>AT</th>\n",
       "    </tr>\n",
       "  </thead>\n",
       "  <tbody>\n",
       "    <tr>\n",
       "      <th>0</th>\n",
       "      <td>74.75</td>\n",
       "      <td>25.72</td>\n",
       "    </tr>\n",
       "    <tr>\n",
       "      <th>1</th>\n",
       "      <td>72.60</td>\n",
       "      <td>25.89</td>\n",
       "    </tr>\n",
       "    <tr>\n",
       "      <th>2</th>\n",
       "      <td>81.80</td>\n",
       "      <td>42.60</td>\n",
       "    </tr>\n",
       "    <tr>\n",
       "      <th>3</th>\n",
       "      <td>83.95</td>\n",
       "      <td>42.80</td>\n",
       "    </tr>\n",
       "    <tr>\n",
       "      <th>4</th>\n",
       "      <td>74.65</td>\n",
       "      <td>29.84</td>\n",
       "    </tr>\n",
       "    <tr>\n",
       "      <th>...</th>\n",
       "      <td>...</td>\n",
       "      <td>...</td>\n",
       "    </tr>\n",
       "    <tr>\n",
       "      <th>104</th>\n",
       "      <td>100.10</td>\n",
       "      <td>124.00</td>\n",
       "    </tr>\n",
       "    <tr>\n",
       "      <th>105</th>\n",
       "      <td>93.30</td>\n",
       "      <td>62.20</td>\n",
       "    </tr>\n",
       "    <tr>\n",
       "      <th>106</th>\n",
       "      <td>101.80</td>\n",
       "      <td>133.00</td>\n",
       "    </tr>\n",
       "    <tr>\n",
       "      <th>107</th>\n",
       "      <td>107.90</td>\n",
       "      <td>208.00</td>\n",
       "    </tr>\n",
       "    <tr>\n",
       "      <th>108</th>\n",
       "      <td>108.50</td>\n",
       "      <td>208.00</td>\n",
       "    </tr>\n",
       "  </tbody>\n",
       "</table>\n",
       "<p>109 rows × 2 columns</p>\n",
       "</div>"
      ],
      "text/plain": [
       "      Waist      AT\n",
       "0     74.75   25.72\n",
       "1     72.60   25.89\n",
       "2     81.80   42.60\n",
       "3     83.95   42.80\n",
       "4     74.65   29.84\n",
       "..      ...     ...\n",
       "104  100.10  124.00\n",
       "105   93.30   62.20\n",
       "106  101.80  133.00\n",
       "107  107.90  208.00\n",
       "108  108.50  208.00\n",
       "\n",
       "[109 rows x 2 columns]"
      ]
     },
     "execution_count": 99,
     "metadata": {},
     "output_type": "execute_result"
    }
   ],
   "source": [
    "wc=pd.read_csv(\"wc-at.csv\")\n",
    "wc"
   ]
  },
  {
   "cell_type": "code",
   "execution_count": 100,
   "id": "2188c618",
   "metadata": {
    "ExecuteTime": {
     "end_time": "2022-09-16T10:41:25.563105Z",
     "start_time": "2022-09-16T10:41:24.201138Z"
    }
   },
   "outputs": [
    {
     "data": {
      "text/plain": [
       "<AxesSubplot:xlabel='Waist', ylabel='Density'>"
      ]
     },
     "execution_count": 100,
     "metadata": {},
     "output_type": "execute_result"
    },
    {
     "data": {
      "image/png": "[encoded data removed]",
      "text/plain": [
       "<Figure size 432x288 with 1 Axes>"
      ]
     },
     "metadata": {
      "needs_background": "light"
     },
     "output_type": "display_data"
    }
   ],
   "source": [
    "sns.distplot(wc[\"Waist\"])"
   ]
  },
  {
   "cell_type": "code",
   "execution_count": 101,
   "id": "fe3d2975",
   "metadata": {
    "ExecuteTime": {
     "end_time": "2022-09-16T10:41:25.979446Z",
     "start_time": "2022-09-16T10:41:25.566520Z"
    }
   },
   "outputs": [
    {
     "data": {
      "image/png": "[encoded data removed]",
      "text/plain": [
       "<Figure size 432x288 with 1 Axes>"
      ]
     },
     "metadata": {
      "needs_background": "light"
     },
     "output_type": "display_data"
    }
   ],
   "source": [
    "sns.distplot(wc[\"AT\"])\n",
    "import warnings\n",
    "warnings.filterwarnings(\"ignore\")"
   ]
  },
  {
   "cell_type": "code",
   "execution_count": 102,
   "id": "3ba539ab",
   "metadata": {
    "ExecuteTime": {
     "end_time": "2022-09-16T10:41:26.200722Z",
     "start_time": "2022-09-16T10:41:25.981443Z"
    }
   },
   "outputs": [
    {
     "data": {
      "image/png": "[encoded data removed]",
      "text/plain": [
       "<Figure size 432x288 with 1 Axes>"
      ]
     },
     "metadata": {
      "needs_background": "light"
     },
     "output_type": "display_data"
    }
   ],
   "source": [
    "plt.boxplot(wc[\"Waist\"])\n",
    "plt.show()"
   ]
  },
  {
   "cell_type": "code",
   "execution_count": 103,
   "id": "e7f6e842",
   "metadata": {
    "ExecuteTime": {
     "end_time": "2022-09-16T10:41:26.378811Z",
     "start_time": "2022-09-16T10:41:26.201721Z"
    }
   },
   "outputs": [
    {
     "data": {
      "image/png": "[encoded data removed]",
      "text/plain": [
       "<Figure size 432x288 with 1 Axes>"
      ]
     },
     "metadata": {
      "needs_background": "light"
     },
     "output_type": "display_data"
    }
   ],
   "source": [
    "plt.boxplot(wc[\"AT\"])\n",
    "plt.show()"
   ]
  },
  {
   "cell_type": "code",
   "execution_count": 104,
   "id": "7a450777",
   "metadata": {
    "ExecuteTime": {
     "end_time": "2022-09-16T10:41:26.394568Z",
     "start_time": "2022-09-16T10:41:26.382490Z"
    }
   },
   "outputs": [
    {
     "data": {
      "text/plain": [
       "0.1341"
      ]
     },
     "execution_count": 104,
     "metadata": {},
     "output_type": "execute_result"
    }
   ],
   "source": [
    "round(wc[\"Waist\"].skew(),4)"
   ]
  },
  {
   "cell_type": "code",
   "execution_count": 105,
   "id": "345f2254",
   "metadata": {
    "ExecuteTime": {
     "end_time": "2022-09-16T10:41:26.478534Z",
     "start_time": "2022-09-16T10:41:26.399557Z"
    }
   },
   "outputs": [
    {
     "data": {
      "text/plain": [
       "0.5849"
      ]
     },
     "execution_count": 105,
     "metadata": {},
     "output_type": "execute_result"
    }
   ],
   "source": [
    "round(wc[\"AT\"].skew(),4)"
   ]
  },
  {
   "cell_type": "code",
   "execution_count": 106,
   "id": "5102ae37",
   "metadata": {
    "ExecuteTime": {
     "end_time": "2022-09-16T10:41:26.561851Z",
     "start_time": "2022-09-16T10:41:26.480529Z"
    }
   },
   "outputs": [
    {
     "data": {
      "text/plain": [
       "-1.1027"
      ]
     },
     "execution_count": 106,
     "metadata": {},
     "output_type": "execute_result"
    }
   ],
   "source": [
    "round(wc[\"Waist\"].kurt(),4)"
   ]
  },
  {
   "cell_type": "code",
   "execution_count": 107,
   "id": "7730b752",
   "metadata": {
    "ExecuteTime": {
     "end_time": "2022-09-16T10:41:26.627559Z",
     "start_time": "2022-09-16T10:41:26.565626Z"
    }
   },
   "outputs": [
    {
     "data": {
      "text/plain": [
       "-0.2856"
      ]
     },
     "execution_count": 107,
     "metadata": {},
     "output_type": "execute_result"
    }
   ],
   "source": [
    "round(wc[\"AT\"].kurt(),4)"
   ]
  },
  {
   "cell_type": "code",
   "execution_count": 108,
   "id": "fb1db871",
   "metadata": {
    "ExecuteTime": {
     "end_time": "2022-09-16T10:41:26.711410Z",
     "start_time": "2022-09-16T10:41:26.631187Z"
    }
   },
   "outputs": [
    {
     "data": {
      "text/plain": [
       "91.9018"
      ]
     },
     "execution_count": 108,
     "metadata": {},
     "output_type": "execute_result"
    }
   ],
   "source": [
    "round(wc[\"Waist\"].mean(),4)"
   ]
  },
  {
   "cell_type": "code",
   "execution_count": 109,
   "id": "f60c4395",
   "metadata": {
    "ExecuteTime": {
     "end_time": "2022-09-16T10:41:26.810107Z",
     "start_time": "2022-09-16T10:41:26.712405Z"
    }
   },
   "outputs": [
    {
     "data": {
      "text/plain": [
       "90.8"
      ]
     },
     "execution_count": 109,
     "metadata": {},
     "output_type": "execute_result"
    }
   ],
   "source": [
    "round(wc[\"Waist\"].median(),4)"
   ]
  },
  {
   "cell_type": "code",
   "execution_count": 110,
   "id": "c2e61f60",
   "metadata": {
    "ExecuteTime": {
     "end_time": "2022-09-16T10:41:26.911130Z",
     "start_time": "2022-09-16T10:41:26.816077Z"
    }
   },
   "outputs": [
    {
     "data": {
      "text/plain": [
       "0     94.5\n",
       "1    106.0\n",
       "2    108.5\n",
       "Name: Waist, dtype: float64"
      ]
     },
     "execution_count": 110,
     "metadata": {},
     "output_type": "execute_result"
    }
   ],
   "source": [
    "round(wc[\"Waist\"].mode(),4)"
   ]
  },
  {
   "cell_type": "code",
   "execution_count": 111,
   "id": "60f0aefc",
   "metadata": {
    "ExecuteTime": {
     "end_time": "2022-09-16T10:41:26.991749Z",
     "start_time": "2022-09-16T10:41:26.920227Z"
    }
   },
   "outputs": [
    {
     "data": {
      "text/plain": [
       "101.894"
      ]
     },
     "execution_count": 111,
     "metadata": {},
     "output_type": "execute_result"
    }
   ],
   "source": [
    "round(wc[\"AT\"].mean(),4)"
   ]
  },
  {
   "cell_type": "code",
   "execution_count": 112,
   "id": "188ec2d2",
   "metadata": {
    "ExecuteTime": {
     "end_time": "2022-09-16T10:41:27.060841Z",
     "start_time": "2022-09-16T10:41:26.997003Z"
    }
   },
   "outputs": [
    {
     "data": {
      "text/plain": [
       "96.54"
      ]
     },
     "execution_count": 112,
     "metadata": {},
     "output_type": "execute_result"
    }
   ],
   "source": [
    "round(wc[\"AT\"].median(),4)"
   ]
  },
  {
   "cell_type": "code",
   "execution_count": 113,
   "id": "4f003829",
   "metadata": {
    "ExecuteTime": {
     "end_time": "2022-09-16T10:41:27.127537Z",
     "start_time": "2022-09-16T10:41:27.065212Z"
    }
   },
   "outputs": [
    {
     "data": {
      "text/plain": [
       "0    121.0\n",
       "1    123.0\n",
       "Name: AT, dtype: float64"
      ]
     },
     "execution_count": 113,
     "metadata": {},
     "output_type": "execute_result"
    }
   ],
   "source": [
    "round(wc[\"AT\"].mode(),4)"
   ]
  },
  {
   "cell_type": "markdown",
   "id": "84f490ff",
   "metadata": {},
   "source": [
    " '''Q11)  Suppose we want to estimate the average weight of an adult male in   \n",
    " Mexico. We draw a random sample of 2,000 men from a population of 3,000,000 men\n",
    " and weigh them. We find that the average person in our sample weighs 200 pounds, and \n",
    " the standard deviation of the sample is 30 pounds. Calculate 94%,98%,96% confidence interval?'''"
   ]
  },
  {
   "cell_type": "code",
   "execution_count": 114,
   "id": "7d0126da",
   "metadata": {
    "ExecuteTime": {
     "end_time": "2022-09-16T10:41:27.210893Z",
     "start_time": "2022-09-16T10:41:27.129530Z"
    }
   },
   "outputs": [],
   "source": [
    "n= 2000 \n",
    "sample_mean= 200 \n",
    "sample_sd= 30"
   ]
  },
  {
   "cell_type": "code",
   "execution_count": 115,
   "id": "e07c239c",
   "metadata": {
    "ExecuteTime": {
     "end_time": "2022-09-16T10:41:27.291136Z",
     "start_time": "2022-09-16T10:41:27.212890Z"
    }
   },
   "outputs": [
    {
     "data": {
      "text/plain": [
       "' here, population standard deviation is unknown therefore \\nwe calculating CI using the t-score\\nCI=stats.t.interval(confidence interval level, df=n-1, sample mean, sample sd/sqrt(n))'"
      ]
     },
     "execution_count": 115,
     "metadata": {},
     "output_type": "execute_result"
    }
   ],
   "source": [
    "''' here, population standard deviation is unknown therefore \n",
    "we calculating CI using the t-score\n",
    "CI=stats.t.interval(confidence interval level, df=n-1, sample mean, sample sd/sqrt(n))'''"
   ]
  },
  {
   "cell_type": "code",
   "execution_count": 116,
   "id": "7c671b2d",
   "metadata": {
    "ExecuteTime": {
     "end_time": "2022-09-16T10:41:27.410358Z",
     "start_time": "2022-09-16T10:41:27.298573Z"
    }
   },
   "outputs": [],
   "source": [
    "from scipy import stats\n",
    "import numpy as np"
   ]
  },
  {
   "cell_type": "code",
   "execution_count": 117,
   "id": "59374136",
   "metadata": {
    "ExecuteTime": {
     "end_time": "2022-09-16T10:41:27.493610Z",
     "start_time": "2022-09-16T10:41:27.412396Z"
    }
   },
   "outputs": [
    {
     "name": "stdout",
     "output_type": "stream",
     "text": [
      "94% confidence interval is: [198.7376 201.2624]\n"
     ]
    }
   ],
   "source": [
    "# for 94 %\n",
    "CI=stats.t.interval(0.94,1999,200,0.6708203932)\n",
    "CI\n",
    "print(\"94% confidence interval is:\",np.round(CI,4))"
   ]
  },
  {
   "cell_type": "code",
   "execution_count": 118,
   "id": "0a73d3ca",
   "metadata": {
    "ExecuteTime": {
     "end_time": "2022-09-16T10:41:27.554777Z",
     "start_time": "2022-09-16T10:41:27.494604Z"
    }
   },
   "outputs": [
    {
     "name": "stdout",
     "output_type": "stream",
     "text": [
      "98% confidence interval is: [198.4382 201.5618]\n"
     ]
    }
   ],
   "source": [
    "# for 98%\n",
    "CI1=stats.t.interval(0.98,1999,200,0.6708203932)\n",
    "CI1\n",
    "print(\"98% confidence interval is:\",np.round(CI1,4))"
   ]
  },
  {
   "cell_type": "code",
   "execution_count": 119,
   "id": "57abcb0f",
   "metadata": {
    "ExecuteTime": {
     "end_time": "2022-09-16T10:41:27.641123Z",
     "start_time": "2022-09-16T10:41:27.565373Z"
    }
   },
   "outputs": [
    {
     "name": "stdout",
     "output_type": "stream",
     "text": [
      "96% confidence interval is: [198.6214 201.3786]\n"
     ]
    }
   ],
   "source": [
    "# for 96%\n",
    "CI2=stats.t.interval(0.96,1999,200,0.6708203932)\n",
    "CI2\n",
    "print(\"96% confidence interval is:\",np.round(CI2,4))"
   ]
  },
  {
   "cell_type": "markdown",
   "id": "00bdc715",
   "metadata": {},
   "source": [
    "# Q22) Calculate the Z scores of  90% confidence interval,94% confidence interval, 60% confidence interval "
   ]
  },
  {
   "cell_type": "code",
   "execution_count": 120,
   "id": "6bc009b0",
   "metadata": {
    "ExecuteTime": {
     "end_time": "2022-09-16T10:41:27.706247Z",
     "start_time": "2022-09-16T10:41:27.648352Z"
    }
   },
   "outputs": [],
   "source": [
    "# zscore= stats.norm.ppf(confidence level)"
   ]
  },
  {
   "cell_type": "code",
   "execution_count": 121,
   "id": "006c5cc7",
   "metadata": {
    "ExecuteTime": {
     "end_time": "2022-09-16T10:41:27.773764Z",
     "start_time": "2022-09-16T10:41:27.712560Z"
    }
   },
   "outputs": [],
   "source": [
    "from scipy import stats\n",
    "import numpy as np"
   ]
  },
  {
   "cell_type": "code",
   "execution_count": 122,
   "id": "f8c7140b",
   "metadata": {
    "ExecuteTime": {
     "end_time": "2022-09-16T10:41:27.842873Z",
     "start_time": "2022-09-16T10:41:27.778287Z"
    }
   },
   "outputs": [
    {
     "data": {
      "text/plain": [
       "1.645"
      ]
     },
     "execution_count": 122,
     "metadata": {},
     "output_type": "execute_result"
    }
   ],
   "source": [
    "# finding z scores\n",
    "# for 90% CI\n",
    "np.round(stats.norm.ppf(0.95),3)"
   ]
  },
  {
   "cell_type": "code",
   "execution_count": 123,
   "id": "9dd26081",
   "metadata": {
    "ExecuteTime": {
     "end_time": "2022-09-16T10:41:27.922678Z",
     "start_time": "2022-09-16T10:41:27.847340Z"
    }
   },
   "outputs": [
    {
     "data": {
      "text/plain": [
       "1.881"
      ]
     },
     "execution_count": 123,
     "metadata": {},
     "output_type": "execute_result"
    }
   ],
   "source": [
    "# for 94% CI\n",
    "np.round(stats.norm.ppf(0.97),3)"
   ]
  },
  {
   "cell_type": "code",
   "execution_count": 124,
   "id": "895e8f2b",
   "metadata": {
    "ExecuteTime": {
     "end_time": "2022-09-16T10:41:27.986059Z",
     "start_time": "2022-09-16T10:41:27.930293Z"
    }
   },
   "outputs": [
    {
     "data": {
      "text/plain": [
       "0.8416212335729143"
      ]
     },
     "execution_count": 124,
     "metadata": {},
     "output_type": "execute_result"
    }
   ],
   "source": [
    "# for 60% CI\n",
    "stats.norm.ppf(0.8)"
   ]
  },
  {
   "cell_type": "markdown",
   "id": "c5b7ca11",
   "metadata": {},
   "source": [
    "# Q23) Calculate the t scores of 95% confidence interval, 96% confidence interval, 99% confidence interval for sample size of 25"
   ]
  },
  {
   "cell_type": "code",
   "execution_count": 125,
   "id": "3f700842",
   "metadata": {
    "ExecuteTime": {
     "end_time": "2022-09-16T10:41:28.190750Z",
     "start_time": "2022-09-16T10:41:27.993497Z"
    }
   },
   "outputs": [],
   "source": [
    "n=25"
   ]
  },
  {
   "cell_type": "code",
   "execution_count": 126,
   "id": "93cd7b48",
   "metadata": {
    "ExecuteTime": {
     "end_time": "2022-09-16T10:41:28.274980Z",
     "start_time": "2022-09-16T10:41:28.198231Z"
    }
   },
   "outputs": [],
   "source": [
    "import numpy as np\n",
    "from scipy import stats"
   ]
  },
  {
   "cell_type": "code",
   "execution_count": 127,
   "id": "48dec338",
   "metadata": {
    "ExecuteTime": {
     "end_time": "2022-09-16T10:41:28.358983Z",
     "start_time": "2022-09-16T10:41:28.281447Z"
    }
   },
   "outputs": [],
   "source": [
    "# tscore=stats.t.ppf(confidence level, degrees of freedom)"
   ]
  },
  {
   "cell_type": "code",
   "execution_count": 128,
   "id": "37464b4d",
   "metadata": {
    "ExecuteTime": {
     "end_time": "2022-09-16T10:41:28.457734Z",
     "start_time": "2022-09-16T10:41:28.366125Z"
    }
   },
   "outputs": [
    {
     "data": {
      "text/plain": [
       "2.064"
      ]
     },
     "execution_count": 128,
     "metadata": {},
     "output_type": "execute_result"
    }
   ],
   "source": [
    "# for 95%\n",
    "np.round(stats.t.ppf(0.975,24),3)"
   ]
  },
  {
   "cell_type": "code",
   "execution_count": 129,
   "id": "6d5e6b52",
   "metadata": {
    "ExecuteTime": {
     "end_time": "2022-09-16T10:41:28.558345Z",
     "start_time": "2022-09-16T10:41:28.473878Z"
    }
   },
   "outputs": [
    {
     "data": {
      "text/plain": [
       "2.172"
      ]
     },
     "execution_count": 129,
     "metadata": {},
     "output_type": "execute_result"
    }
   ],
   "source": [
    "# for 96%\n",
    "np.round(stats.t.ppf(0.98,24),3)"
   ]
  },
  {
   "cell_type": "code",
   "execution_count": 130,
   "id": "c4baf31f",
   "metadata": {
    "ExecuteTime": {
     "end_time": "2022-09-16T10:41:28.641732Z",
     "start_time": "2022-09-16T10:41:28.564679Z"
    }
   },
   "outputs": [
    {
     "data": {
      "text/plain": [
       "2.797"
      ]
     },
     "execution_count": 130,
     "metadata": {},
     "output_type": "execute_result"
    }
   ],
   "source": [
    "# for 99%\n",
    "np.round(stats.t.ppf(0.995,24),3)"
   ]
  }
 ],
 "metadata": {
  "kernelspec": {
   "display_name": "Python 3 (ipykernel)",
   "language": "python",
   "name": "python3"
  },
  "language_info": {
   "codemirror_mode": {
    "name": "ipython",
    "version": 3
   },
   "file_extension": ".py",
   "mimetype": "text/x-python",
   "name": "python",
   "nbconvert_exporter": "python",
   "pygments_lexer": "ipython3",
   "version": "3.9.12"
  }
 },
 "nbformat": 4,
 "nbformat_minor": 5
}
