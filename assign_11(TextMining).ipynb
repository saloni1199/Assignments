{
 "cells": [
  {
   "cell_type": "markdown",
   "id": "666701b3",
   "metadata": {},
   "source": [
    "# Problem 1"
   ]
  },
  {
   "cell_type": "markdown",
   "id": "2e619df4",
   "metadata": {},
   "source": [
    "# For Text Mining assignment\n",
    " \n",
    "\n",
    "# 1) Perform sentimental analysis on the Elon-musk tweets (Exlon-musk.csv)"
   ]
  },
  {
   "cell_type": "code",
   "execution_count": 1,
   "id": "ca364f39",
   "metadata": {
    "ExecuteTime": {
     "end_time": "2023-05-19T09:52:32.168342Z",
     "start_time": "2023-05-19T09:51:00.954676Z"
    }
   },
   "outputs": [],
   "source": [
    "import numpy as np\n",
    "import pandas as pd\n",
    "import string\n",
    "import spacy\n",
    "\n",
    "from matplotlib.pyplot import imread\n",
    "from matplotlib import pyplot as plt\n",
    "from wordcloud import WordCloud\n",
    "%matplotlib inline"
   ]
  },
  {
   "cell_type": "markdown",
   "id": "63639c3c",
   "metadata": {},
   "source": [
    "text mining:\n",
    "    \n",
    "    it is nothing but computational methodology which can be used for discovering new piece of information and knowledge from unstructured text data."
   ]
  },
  {
   "cell_type": "code",
   "execution_count": 7,
   "id": "93af5d33",
   "metadata": {
    "ExecuteTime": {
     "end_time": "2023-05-19T09:54:23.461249Z",
     "start_time": "2023-05-19T09:54:23.433412Z"
    }
   },
   "outputs": [],
   "source": [
    "data = pd.read_csv(\"Elon_musk.csv\",encoding=\"latin1\")\n",
    "data.iloc[:,1:2]\n",
    "import warnings\n",
    "warnings.filterwarnings('ignore')"
   ]
  },
  {
   "cell_type": "code",
   "execution_count": 8,
   "id": "6c6a2a66",
   "metadata": {
    "ExecuteTime": {
     "end_time": "2023-05-19T09:54:31.093978Z",
     "start_time": "2023-05-19T09:54:31.065523Z"
    }
   },
   "outputs": [
    {
     "data": {
      "text/plain": [
       "['@kunalb11 I\\x92m an alien',\n",
       " '@ID_AA_Carmack Ray tracing on Cyberpunk with HDR is next-level. Have you tried it?',\n",
       " '@joerogan @Spotify Great interview!',\n",
       " '@gtera27 Doge is underestimated',\n",
       " '@teslacn Congratulations Tesla China for amazing execution last year. Now on to the next for even more!!',\n",
       " 'Happy New Year of the Ox! https://t.co/9WFKMYu2oj',\n",
       " 'Frodo was the underdoge,\\nAll thought he would fail,\\nHimself most of all. https://t.co/zGxJFDzzrM',\n",
       " '@OwenSparks_ @flcnhvy @anonyx10 Haha thanks :)',\n",
       " '@flcnhvy @anonyx10 Indeed! Tweets definitely do not represent real-world time allocation.',\n",
       " 'The most entertaining outcome is the most likely',\n",
       " '@GiveDirectly Just sent some',\n",
       " 'Just agree to do Clubhouse with @kanyewest',\n",
       " 'https://t.co/3rWE9uHSTS',\n",
       " '@geoffkeighley @UnrealEngine It\\x92s getting real',\n",
       " 'Bought some Dogecoin for lil X, so he can be a toddler hodler',\n",
       " '@JoshManMode He definitely has issues, but the sentencing seems a bit high',\n",
       " '@freewalletorg Thanks for fixing',\n",
       " '@freewalletorg Please unlock my account',\n",
       " '@AstroJordy <U+0001F923><U+0001F923>',\n",
       " 'This is true power haha https://t.co/Fc9uhQSd7O']"
      ]
     },
     "execution_count": 8,
     "metadata": {},
     "output_type": "execute_result"
    }
   ],
   "source": [
    "data = [Text.strip() for Text in data.Text]\n",
    "data = [Text for Text in data if Text]\n",
    "data[0:20]"
   ]
  },
  {
   "cell_type": "code",
   "execution_count": 9,
   "id": "0a037f1c",
   "metadata": {
    "ExecuteTime": {
     "end_time": "2023-05-19T09:54:38.729267Z",
     "start_time": "2023-05-19T09:54:36.122463Z"
    }
   },
   "outputs": [
    {
     "data": {
      "text/html": [
       "<span class=\"tex2jax_ignore\"><div class=\"entities\" style=\"line-height: 2.5; direction: ltr\">@flcnhvy @anonyx10 Indeed! Tweets definitely do not represent real-world time allocation.</div></span>"
      ],
      "text/plain": [
       "<IPython.core.display.HTML object>"
      ]
     },
     "metadata": {},
     "output_type": "display_data"
    }
   ],
   "source": [
    "# Part of Speech Tagging\n",
    "nlp = spacy.load(\"en_core_web_sm\")\n",
    "\n",
    "one_data = data[8]\n",
    "doc_data = nlp(one_data)\n",
    "spacy.displacy.render(doc_data, style=\"ent\", jupyter=True)"
   ]
  },
  {
   "cell_type": "code",
   "execution_count": 10,
   "id": "eb9e522c",
   "metadata": {
    "ExecuteTime": {
     "end_time": "2023-05-19T09:54:41.026481Z",
     "start_time": "2023-05-19T09:54:41.005815Z"
    }
   },
   "outputs": [
    {
     "name": "stdout",
     "output_type": "stream",
     "text": [
      "@flcnhvy PROPN\n",
      "@anonyx10 PROPN\n",
      "Indeed ADV\n",
      "! PUNCT\n",
      "Tweets NOUN\n",
      "definitely ADV\n",
      "do AUX\n",
      "not PART\n",
      "represent VERB\n",
      "real ADJ\n",
      "- PUNCT\n",
      "world NOUN\n",
      "time NOUN\n",
      "allocation NOUN\n",
      ". PUNCT\n"
     ]
    }
   ],
   "source": [
    "for token in doc_data:\n",
    "    print(token, token.pos_)"
   ]
  },
  {
   "cell_type": "code",
   "execution_count": 11,
   "id": "eeb315de",
   "metadata": {
    "ExecuteTime": {
     "end_time": "2023-05-19T09:54:47.227351Z",
     "start_time": "2023-05-19T09:54:47.209786Z"
    }
   },
   "outputs": [
    {
     "name": "stdout",
     "output_type": "stream",
     "text": [
      "['Tweets', 'represent', 'world', 'time', 'allocation']\n"
     ]
    }
   ],
   "source": [
    "# Filtering Noun and verbs\n",
    "nouns_verbs = [token.text for token in doc_data if token.pos_ in (\"NOUN\",\"VERB\")]\n",
    "print(nouns_verbs[0:10])"
   ]
  },
  {
   "cell_type": "code",
   "execution_count": 12,
   "id": "f4fdea02",
   "metadata": {
    "ExecuteTime": {
     "end_time": "2023-05-19T09:55:00.081109Z",
     "start_time": "2023-05-19T09:54:50.364945Z"
    }
   },
   "outputs": [
    {
     "data": {
      "text/html": [
       "<div>\n",
       "<style scoped>\n",
       "    .dataframe tbody tr th:only-of-type {\n",
       "        vertical-align: middle;\n",
       "    }\n",
       "\n",
       "    .dataframe tbody tr th {\n",
       "        vertical-align: top;\n",
       "    }\n",
       "\n",
       "    .dataframe thead th {\n",
       "        text-align: right;\n",
       "    }\n",
       "</style>\n",
       "<table border=\"1\" class=\"dataframe\">\n",
       "  <thead>\n",
       "    <tr style=\"text-align: right;\">\n",
       "      <th></th>\n",
       "      <th>word</th>\n",
       "      <th>count</th>\n",
       "    </tr>\n",
       "  </thead>\n",
       "  <tbody>\n",
       "    <tr>\n",
       "      <th>0</th>\n",
       "      <td>tweets</td>\n",
       "      <td>1</td>\n",
       "    </tr>\n",
       "    <tr>\n",
       "      <th>1</th>\n",
       "      <td>represent</td>\n",
       "      <td>1</td>\n",
       "    </tr>\n",
       "    <tr>\n",
       "      <th>2</th>\n",
       "      <td>world</td>\n",
       "      <td>1</td>\n",
       "    </tr>\n",
       "    <tr>\n",
       "      <th>3</th>\n",
       "      <td>time</td>\n",
       "      <td>1</td>\n",
       "    </tr>\n",
       "    <tr>\n",
       "      <th>4</th>\n",
       "      <td>allocation</td>\n",
       "      <td>1</td>\n",
       "    </tr>\n",
       "  </tbody>\n",
       "</table>\n",
       "</div>"
      ],
      "text/plain": [
       "         word  count\n",
       "0      tweets      1\n",
       "1   represent      1\n",
       "2       world      1\n",
       "3        time      1\n",
       "4  allocation      1"
      ]
     },
     "execution_count": 12,
     "metadata": {},
     "output_type": "execute_result"
    }
   ],
   "source": [
    "# Counting Tokens again\n",
    "from sklearn.feature_extraction.text import CountVectorizer\n",
    "cv = CountVectorizer()\n",
    "\n",
    "X = cv.fit_transform(nouns_verbs)\n",
    "sum_words = X.sum(axis=0)\n",
    "words_freq = [(word, sum_words[0, idx]) for word, idx in cv.vocabulary_.items()]\n",
    "words_freq =sorted(words_freq, key = lambda x: x[1], reverse=True)\n",
    "wf_df = pd.DataFrame(words_freq)\n",
    "wf_df.columns = ['word', 'count']\n",
    "\n",
    "wf_df[0:10]"
   ]
  },
  {
   "cell_type": "code",
   "execution_count": 13,
   "id": "fa996810",
   "metadata": {
    "ExecuteTime": {
     "end_time": "2023-05-19T09:55:24.025977Z",
     "start_time": "2023-05-19T09:55:23.122804Z"
    }
   },
   "outputs": [
    {
     "data": {
      "text/plain": [
       "<AxesSubplot:title={'center':'Top verbs and nouns'}, xlabel='word'>"
      ]
     },
     "execution_count": 13,
     "metadata": {},
     "output_type": "execute_result"
    },
    {
     "data": {
      "image/png": "[encoded data removed]",
      "text/plain": [
       "<Figure size 864x576 with 1 Axes>"
      ]
     },
     "metadata": {
      "needs_background": "light"
     },
     "output_type": "display_data"
    }
   ],
   "source": [
    "##Visualizing results\n",
    "#Barchart for top 10 nouns + verbs\n",
    "wf_df[0:10].plot.bar(x='word', figsize=(12,8), title='Top verbs and nouns')"
   ]
  },
  {
   "cell_type": "code",
   "execution_count": 14,
   "id": "66167883",
   "metadata": {
    "ExecuteTime": {
     "end_time": "2023-05-19T09:55:32.343695Z",
     "start_time": "2023-05-19T09:55:32.262421Z"
    }
   },
   "outputs": [
    {
     "data": {
      "text/plain": [
       "(2477, 2)"
      ]
     },
     "execution_count": 14,
     "metadata": {},
     "output_type": "execute_result"
    }
   ],
   "source": [
    "afinn = pd.read_csv(\"afinn.csv\", sep=\",\", encoding=\"latin-1\")\n",
    "afinn.shape"
   ]
  },
  {
   "cell_type": "code",
   "execution_count": 15,
   "id": "0ba9e4c1",
   "metadata": {
    "ExecuteTime": {
     "end_time": "2023-05-19T09:55:36.405794Z",
     "start_time": "2023-05-19T09:55:36.375581Z"
    }
   },
   "outputs": [
    {
     "data": {
      "text/html": [
       "<div>\n",
       "<style scoped>\n",
       "    .dataframe tbody tr th:only-of-type {\n",
       "        vertical-align: middle;\n",
       "    }\n",
       "\n",
       "    .dataframe tbody tr th {\n",
       "        vertical-align: top;\n",
       "    }\n",
       "\n",
       "    .dataframe thead th {\n",
       "        text-align: right;\n",
       "    }\n",
       "</style>\n",
       "<table border=\"1\" class=\"dataframe\">\n",
       "  <thead>\n",
       "    <tr style=\"text-align: right;\">\n",
       "      <th></th>\n",
       "      <th>word</th>\n",
       "      <th>value</th>\n",
       "    </tr>\n",
       "  </thead>\n",
       "  <tbody>\n",
       "    <tr>\n",
       "      <th>0</th>\n",
       "      <td>abandon</td>\n",
       "      <td>-2</td>\n",
       "    </tr>\n",
       "    <tr>\n",
       "      <th>1</th>\n",
       "      <td>abandoned</td>\n",
       "      <td>-2</td>\n",
       "    </tr>\n",
       "    <tr>\n",
       "      <th>2</th>\n",
       "      <td>abandons</td>\n",
       "      <td>-2</td>\n",
       "    </tr>\n",
       "    <tr>\n",
       "      <th>3</th>\n",
       "      <td>abducted</td>\n",
       "      <td>-2</td>\n",
       "    </tr>\n",
       "    <tr>\n",
       "      <th>4</th>\n",
       "      <td>abduction</td>\n",
       "      <td>-2</td>\n",
       "    </tr>\n",
       "  </tbody>\n",
       "</table>\n",
       "</div>"
      ],
      "text/plain": [
       "        word  value\n",
       "0    abandon     -2\n",
       "1  abandoned     -2\n",
       "2   abandons     -2\n",
       "3   abducted     -2\n",
       "4  abduction     -2"
      ]
     },
     "execution_count": 15,
     "metadata": {},
     "output_type": "execute_result"
    }
   ],
   "source": [
    "afinn.head()"
   ]
  },
  {
   "cell_type": "code",
   "execution_count": 18,
   "id": "4539b158",
   "metadata": {
    "ExecuteTime": {
     "end_time": "2023-05-19T09:56:25.855251Z",
     "start_time": "2023-05-19T09:56:25.808726Z"
    }
   },
   "outputs": [],
   "source": [
    "import numpy as np\n",
    "import pandas as pd \n",
    "import string \n",
    "import spacy \n",
    "\n",
    "from matplotlib.pyplot import imread\n",
    "from matplotlib import pyplot as plt\n",
    "from wordcloud import WordCloud\n",
    "%matplotlib inline\n",
    "\n",
    "\n",
    "data = pd.read_csv(\"Elon_musk.csv\",encoding=\"latin1\")\n",
    "data = [Text.strip() for Text in data.Text] \n",
    "data = [Text for Text in data if Text] "
   ]
  },
  {
   "cell_type": "code",
   "execution_count": 19,
   "id": "d121d1dd",
   "metadata": {
    "ExecuteTime": {
     "end_time": "2023-05-19T09:56:42.850719Z",
     "start_time": "2023-05-19T09:56:30.645576Z"
    }
   },
   "outputs": [
    {
     "data": {
      "text/plain": [
       "['Happy New Year of the Ox!',\n",
       " 'https://t.co/9WFKMYu2oj Frodo was the underdoge,\\nAll thought he would fail,\\nHimself most of all.',\n",
       " 'https://t.co/zGxJFDzzrM @OwenSparks_ @flcnhvy @anonyx10 Haha thanks :) @flcnhvy @anonyx10 Indeed!',\n",
       " 'Tweets definitely do not represent real-world time allocation.',\n",
       " 'The most entertaining outcome is the most likely @GiveDirectly Just sent some Just agree to do Clubhouse with @kanyewest https://t.co/3rWE9uHSTS @geoffkeighley @UnrealEngine It\\x92s getting real Bought some Dogecoin for lil X, so he can be a toddler hodler @JoshManMode He definitely has issues, but the sentencing seems a bit high @freewalletorg Thanks for fixing @freewalletorg Please unlock my account @AstroJordy <U+0001F923><U+0001F923> This is true power haha https://t.co/Fc9uhQSd7O @freewalletorg Any crypto wallet that won\\x92t give you your private keys should be avoided at all costs @freewalletorg Your app sucks RT @SpaceX: NASA has selected Falcon Heavy to launch the first two elements of the lunar Gateway together on one mission!',\n",
       " 'https://t.co/3pWt @ajtourville Yes @BLKMDL3 @RationalEtienne @Adamklotz_ Once we can predict cash flow reasonably well, Starlink will IPO @RationalEtienne @Adamklotz_ Starlink is a staggeringly difficult technical &amp; economic endeavor.',\n",
       " 'However, if we don\\x85 https://t.co/9Z8Ac6skqx @RationalEtienne @Adamklotz_ SpaceX needs to pass through a deep chasm of negative cash flow over the next year or\\x85 https://t.co/7J1c92hdjl @ID_AA_Carmack Lowest cost per ton of carbon sequestered, net of value of any product made.',\n",
       " 'Must be scalable to g\\x85 https://t.co/XMyI7qWSgw @Adamklotz_ It\\x92s meant to be the same price in all countries.',\n",
       " 'Only difference should be taxes &amp; shipping.',\n",
       " '@tobyliiiiiiiiii This is intended for Earth, but there may be some ideas that apply to Mars too @CryptoShrikar @CoinDesk @Tesla @Dan_Z_Palmer <U+0001F923><U+0001F923> XPrize team will manage the $100M carbon capture prize https://t.co/fSw5IanL0r @SRuhle Everyone at Tesla receives stock.']"
      ]
     },
     "execution_count": 19,
     "metadata": {},
     "output_type": "execute_result"
    }
   ],
   "source": [
    "from nltk import tokenize\n",
    "sentences = tokenize.sent_tokenize(\" \".join(data))\n",
    "sentences[5:15]"
   ]
  },
  {
   "cell_type": "code",
   "execution_count": 20,
   "id": "0e39831b",
   "metadata": {
    "ExecuteTime": {
     "end_time": "2023-05-19T09:56:47.738588Z",
     "start_time": "2023-05-19T09:56:47.714751Z"
    }
   },
   "outputs": [
    {
     "data": {
      "text/html": [
       "<div>\n",
       "<style scoped>\n",
       "    .dataframe tbody tr th:only-of-type {\n",
       "        vertical-align: middle;\n",
       "    }\n",
       "\n",
       "    .dataframe tbody tr th {\n",
       "        vertical-align: top;\n",
       "    }\n",
       "\n",
       "    .dataframe thead th {\n",
       "        text-align: right;\n",
       "    }\n",
       "</style>\n",
       "<table border=\"1\" class=\"dataframe\">\n",
       "  <thead>\n",
       "    <tr style=\"text-align: right;\">\n",
       "      <th></th>\n",
       "      <th>sentence</th>\n",
       "    </tr>\n",
       "  </thead>\n",
       "  <tbody>\n",
       "    <tr>\n",
       "      <th>0</th>\n",
       "      <td>@kunalb11 Im an alien @ID_AA_Carmack Ray trac...</td>\n",
       "    </tr>\n",
       "    <tr>\n",
       "      <th>1</th>\n",
       "      <td>Have you tried it?</td>\n",
       "    </tr>\n",
       "    <tr>\n",
       "      <th>2</th>\n",
       "      <td>@joerogan @Spotify Great interview!</td>\n",
       "    </tr>\n",
       "    <tr>\n",
       "      <th>3</th>\n",
       "      <td>@gtera27 Doge is underestimated @teslacn Congr...</td>\n",
       "    </tr>\n",
       "    <tr>\n",
       "      <th>4</th>\n",
       "      <td>Now on to the next for even more!!</td>\n",
       "    </tr>\n",
       "    <tr>\n",
       "      <th>...</th>\n",
       "      <td>...</td>\n",
       "    </tr>\n",
       "    <tr>\n",
       "      <th>919</th>\n",
       "      <td>@kenyanwalstreet Not actually a payout, just a...</td>\n",
       "    </tr>\n",
       "    <tr>\n",
       "      <th>920</th>\n",
       "      <td>It may never pay out, as the stock cant b",
       " ht...</td>\n",
       "    </tr>\n",
       "    <tr>\n",
       "      <th>921</th>\n",
       "      <td>Details Aug 28.</td>\n",
       "    </tr>\n",
       "    <tr>\n",
       "      <th>922</th>\n",
       "      <td>AI symbiosis while u wait @vistacruiser7 @flcn...</td>\n",
       "    </tr>\n",
       "    <tr>\n",
       "      <th>923</th>\n",
       "      <td>@TeslaGong @PPathole Samwise Gamgee @PPathole ...</td>\n",
       "    </tr>\n",
       "  </tbody>\n",
       "</table>\n",
       "<p>924 rows × 1 columns</p>\n",
       "</div>"
      ],
      "text/plain": [
       "                                              sentence\n",
       "0    @kunalb11 Im an alien @ID_AA_Carmack Ray trac...\n",
       "1                                   Have you tried it?\n",
       "2                  @joerogan @Spotify Great interview!\n",
       "3    @gtera27 Doge is underestimated @teslacn Congr...\n",
       "4                   Now on to the next for even more!!\n",
       "..                                                 ...\n",
       "919  @kenyanwalstreet Not actually a payout, just a...\n",
       "920  It may never pay out, as the stock cant b\n",
       " ht...\n",
       "921                                    Details Aug 28.\n",
       "922  AI symbiosis while u wait @vistacruiser7 @flcn...\n",
       "923  @TeslaGong @PPathole Samwise Gamgee @PPathole ...\n",
       "\n",
       "[924 rows x 1 columns]"
      ]
     },
     "execution_count": 20,
     "metadata": {},
     "output_type": "execute_result"
    }
   ],
   "source": [
    "sent_df = pd.DataFrame(sentences, columns=['sentence'])\n",
    "sent_df"
   ]
  },
  {
   "cell_type": "code",
   "execution_count": 21,
   "id": "ed7d7549",
   "metadata": {
    "ExecuteTime": {
     "end_time": "2023-05-19T09:56:51.972211Z",
     "start_time": "2023-05-19T09:56:51.896605Z"
    }
   },
   "outputs": [
    {
     "data": {
      "text/plain": [
       "{'abandon': -2,\n",
       " 'abandoned': -2,\n",
       " 'abandons': -2,\n",
       " 'abducted': -2,\n",
       " 'abduction': -2,\n",
       " 'abductions': -2,\n",
       " 'abhor': -3,\n",
       " 'abhorred': -3,\n",
       " 'abhorrent': -3,\n",
       " 'abhors': -3,\n",
       " 'abilities': 2,\n",
       " 'ability': 2,\n",
       " 'aboard': 1,\n",
       " 'absentee': -1,\n",
       " 'absentees': -1,\n",
       " 'absolve': 2,\n",
       " 'absolved': 2,\n",
       " 'absolves': 2,\n",
       " 'absolving': 2,\n",
       " 'absorbed': 1,\n",
       " 'abuse': -3,\n",
       " 'abused': -3,\n",
       " 'abuses': -3,\n",
       " 'abusive': -3,\n",
       " 'accept': 1,\n",
       " 'accepted': 1,\n",
       " 'accepting': 1,\n",
       " 'accepts': 1,\n",
       " 'accident': -2,\n",
       " 'accidental': -2,\n",
       " 'accidentally': -2,\n",
       " 'accidents': -2,\n",
       " 'accomplish': 2,\n",
       " 'accomplished': 2,\n",
       " 'accomplishes': 2,\n",
       " 'accusation': -2,\n",
       " 'accusations': -2,\n",
       " 'accuse': -2,\n",
       " 'accused': -2,\n",
       " 'accuses': -2,\n",
       " 'accusing': -2,\n",
       " 'ache': -2,\n",
       " 'achievable': 1,\n",
       " 'aching': -2,\n",
       " 'acquit': 2,\n",
       " 'acquits': 2,\n",
       " 'acquitted': 2,\n",
       " 'acquitting': 2,\n",
       " 'acrimonious': -3,\n",
       " 'active': 1,\n",
       " 'adequate': 1,\n",
       " 'admire': 3,\n",
       " 'admired': 3,\n",
       " 'admires': 3,\n",
       " 'admiring': 3,\n",
       " 'admit': -1,\n",
       " 'admits': -1,\n",
       " 'admitted': -1,\n",
       " 'admonish': -2,\n",
       " 'admonished': -2,\n",
       " 'adopt': 1,\n",
       " 'adopts': 1,\n",
       " 'adorable': 3,\n",
       " 'adore': 3,\n",
       " 'adored': 3,\n",
       " 'adores': 3,\n",
       " 'advanced': 1,\n",
       " 'advantage': 2,\n",
       " 'advantages': 2,\n",
       " 'adventure': 2,\n",
       " 'adventures': 2,\n",
       " 'adventurous': 2,\n",
       " 'affected': -1,\n",
       " 'affection': 3,\n",
       " 'affectionate': 3,\n",
       " 'afflicted': -1,\n",
       " 'affronted': -1,\n",
       " 'afraid': -2,\n",
       " 'aggravate': -2,\n",
       " 'aggravated': -2,\n",
       " 'aggravates': -2,\n",
       " 'aggravating': -2,\n",
       " 'aggression': -2,\n",
       " 'aggressions': -2,\n",
       " 'aggressive': -2,\n",
       " 'aghast': -2,\n",
       " 'agog': 2,\n",
       " 'agonise': -3,\n",
       " 'agonised': -3,\n",
       " 'agonises': -3,\n",
       " 'agonising': -3,\n",
       " 'agonize': -3,\n",
       " 'agonized': -3,\n",
       " 'agonizes': -3,\n",
       " 'agonizing': -3,\n",
       " 'agree': 1,\n",
       " 'agreeable': 2,\n",
       " 'agreed': 1,\n",
       " 'agreement': 1,\n",
       " 'agrees': 1,\n",
       " 'alarm': -2,\n",
       " 'alarmed': -2,\n",
       " 'alarmist': -2,\n",
       " 'alarmists': -2,\n",
       " 'alas': -1,\n",
       " 'alert': -1,\n",
       " 'alienation': -2,\n",
       " 'alive': 1,\n",
       " 'allergic': -2,\n",
       " 'allow': 1,\n",
       " 'alone': -2,\n",
       " 'amaze': 2,\n",
       " 'amazed': 2,\n",
       " 'amazes': 2,\n",
       " 'amazing': 4,\n",
       " 'ambitious': 2,\n",
       " 'ambivalent': -1,\n",
       " 'amuse': 3,\n",
       " 'amused': 3,\n",
       " 'amusement': 3,\n",
       " 'amusements': 3,\n",
       " 'anger': -3,\n",
       " 'angers': -3,\n",
       " 'angry': -3,\n",
       " 'anguish': -3,\n",
       " 'anguished': -3,\n",
       " 'animosity': -2,\n",
       " 'annoy': -2,\n",
       " 'annoyance': -2,\n",
       " 'annoyed': -2,\n",
       " 'annoying': -2,\n",
       " 'annoys': -2,\n",
       " 'antagonistic': -2,\n",
       " 'anti': -1,\n",
       " 'anticipation': 1,\n",
       " 'anxiety': -2,\n",
       " 'anxious': -2,\n",
       " 'apathetic': -3,\n",
       " 'apathy': -3,\n",
       " 'apeshit': -3,\n",
       " 'apocalyptic': -2,\n",
       " 'apologise': -1,\n",
       " 'apologised': -1,\n",
       " 'apologises': -1,\n",
       " 'apologising': -1,\n",
       " 'apologize': -1,\n",
       " 'apologized': -1,\n",
       " 'apologizes': -1,\n",
       " 'apologizing': -1,\n",
       " 'apology': -1,\n",
       " 'appalled': -2,\n",
       " 'appalling': -2,\n",
       " 'appease': 2,\n",
       " 'appeased': 2,\n",
       " 'appeases': 2,\n",
       " 'appeasing': 2,\n",
       " 'applaud': 2,\n",
       " 'applauded': 2,\n",
       " 'applauding': 2,\n",
       " 'applauds': 2,\n",
       " 'applause': 2,\n",
       " 'appreciate': 2,\n",
       " 'appreciated': 2,\n",
       " 'appreciates': 2,\n",
       " 'appreciating': 2,\n",
       " 'appreciation': 2,\n",
       " 'apprehensive': -2,\n",
       " 'approval': 2,\n",
       " 'approved': 2,\n",
       " 'approves': 2,\n",
       " 'ardent': 1,\n",
       " 'arrest': -2,\n",
       " 'arrested': -3,\n",
       " 'arrests': -2,\n",
       " 'arrogant': -2,\n",
       " 'ashame': -2,\n",
       " 'ashamed': -2,\n",
       " 'ass': -4,\n",
       " 'assassination': -3,\n",
       " 'assassinations': -3,\n",
       " 'asset': 2,\n",
       " 'assets': 2,\n",
       " 'assfucking': -4,\n",
       " 'asshole': -4,\n",
       " 'astonished': 2,\n",
       " 'astound': 3,\n",
       " 'astounded': 3,\n",
       " 'astounding': 3,\n",
       " 'astoundingly': 3,\n",
       " 'astounds': 3,\n",
       " 'attack': -1,\n",
       " 'attacked': -1,\n",
       " 'attacking': -1,\n",
       " 'attacks': -1,\n",
       " 'attract': 1,\n",
       " 'attracted': 1,\n",
       " 'attracting': 2,\n",
       " 'attraction': 2,\n",
       " 'attractions': 2,\n",
       " 'attracts': 1,\n",
       " 'audacious': 3,\n",
       " 'authority': 1,\n",
       " 'avert': -1,\n",
       " 'averted': -1,\n",
       " 'averts': -1,\n",
       " 'avid': 2,\n",
       " 'avoid': -1,\n",
       " 'avoided': -1,\n",
       " 'avoids': -1,\n",
       " 'await': -1,\n",
       " 'awaited': -1,\n",
       " 'awaits': -1,\n",
       " 'award': 3,\n",
       " 'awarded': 3,\n",
       " 'awards': 3,\n",
       " 'awesome': 4,\n",
       " 'awful': -3,\n",
       " 'awkward': -2,\n",
       " 'axe': -1,\n",
       " 'axed': -1,\n",
       " 'backed': 1,\n",
       " 'backing': 2,\n",
       " 'backs': 1,\n",
       " 'bad': -3,\n",
       " 'badass': -3,\n",
       " 'badly': -3,\n",
       " 'bailout': -2,\n",
       " 'bamboozle': -2,\n",
       " 'bamboozled': -2,\n",
       " 'bamboozles': -2,\n",
       " 'ban': -2,\n",
       " 'banish': -1,\n",
       " 'bankrupt': -3,\n",
       " 'bankster': -3,\n",
       " 'banned': -2,\n",
       " 'bargain': 2,\n",
       " 'barrier': -2,\n",
       " 'bastard': -5,\n",
       " 'bastards': -5,\n",
       " 'battle': -1,\n",
       " 'battles': -1,\n",
       " 'beaten': -2,\n",
       " 'beatific': 3,\n",
       " 'beating': -1,\n",
       " 'beauties': 3,\n",
       " 'beautiful': 3,\n",
       " 'beautifully': 3,\n",
       " 'beautify': 3,\n",
       " 'belittle': -2,\n",
       " 'belittled': -2,\n",
       " 'beloved': 3,\n",
       " 'benefit': 2,\n",
       " 'benefits': 2,\n",
       " 'benefitted': 2,\n",
       " 'benefitting': 2,\n",
       " 'bereave': -2,\n",
       " 'bereaved': -2,\n",
       " 'bereaves': -2,\n",
       " 'bereaving': -2,\n",
       " 'best': 3,\n",
       " 'betray': -3,\n",
       " 'betrayal': -3,\n",
       " 'betrayed': -3,\n",
       " 'betraying': -3,\n",
       " 'betrays': -3,\n",
       " 'better': 2,\n",
       " 'bias': -1,\n",
       " 'biased': -2,\n",
       " 'big': 1,\n",
       " 'bitch': -5,\n",
       " 'bitches': -5,\n",
       " 'bitter': -2,\n",
       " 'bitterly': -2,\n",
       " 'bizarre': -2,\n",
       " 'blah': -2,\n",
       " 'blame': -2,\n",
       " 'blamed': -2,\n",
       " 'blames': -2,\n",
       " 'blaming': -2,\n",
       " 'bless': 2,\n",
       " 'blesses': 2,\n",
       " 'blessing': 3,\n",
       " 'blind': -1,\n",
       " 'bliss': 3,\n",
       " 'blissful': 3,\n",
       " 'blithe': 2,\n",
       " 'block': -1,\n",
       " 'blockbuster': 3,\n",
       " 'blocked': -1,\n",
       " 'blocking': -1,\n",
       " 'blocks': -1,\n",
       " 'bloody': -3,\n",
       " 'blurry': -2,\n",
       " 'boastful': -2,\n",
       " 'bold': 2,\n",
       " 'boldly': 2,\n",
       " 'bomb': -1,\n",
       " 'boost': 1,\n",
       " 'boosted': 1,\n",
       " 'boosting': 1,\n",
       " 'boosts': 1,\n",
       " 'bore': -2,\n",
       " 'bored': -2,\n",
       " 'boring': -3,\n",
       " 'bother': -2,\n",
       " 'bothered': -2,\n",
       " 'bothers': -2,\n",
       " 'bothersome': -2,\n",
       " 'boycott': -2,\n",
       " 'boycotted': -2,\n",
       " 'boycotting': -2,\n",
       " 'boycotts': -2,\n",
       " 'brainwashing': -3,\n",
       " 'brave': 2,\n",
       " 'breakthrough': 3,\n",
       " 'breathtaking': 5,\n",
       " 'bribe': -3,\n",
       " 'bright': 1,\n",
       " 'brightest': 2,\n",
       " 'brightness': 1,\n",
       " 'brilliant': 4,\n",
       " 'brisk': 2,\n",
       " 'broke': -1,\n",
       " 'broken': -1,\n",
       " 'brooding': -2,\n",
       " 'bullied': -2,\n",
       " 'bullshit': -4,\n",
       " 'bully': -2,\n",
       " 'bullying': -2,\n",
       " 'bummer': -2,\n",
       " 'buoyant': 2,\n",
       " 'burden': -2,\n",
       " 'burdened': -2,\n",
       " 'burdening': -2,\n",
       " 'burdens': -2,\n",
       " 'calm': 2,\n",
       " 'calmed': 2,\n",
       " 'calming': 2,\n",
       " 'calms': 2,\n",
       " \"can't stand\": -3,\n",
       " 'cancel': -1,\n",
       " 'cancelled': -1,\n",
       " 'cancelling': -1,\n",
       " 'cancels': -1,\n",
       " 'cancer': -1,\n",
       " 'capable': 1,\n",
       " 'captivated': 3,\n",
       " 'care': 2,\n",
       " 'carefree': 1,\n",
       " 'careful': 2,\n",
       " 'carefully': 2,\n",
       " 'careless': -2,\n",
       " 'cares': 2,\n",
       " 'cashing in': -2,\n",
       " 'casualty': -2,\n",
       " 'catastrophe': -3,\n",
       " 'catastrophic': -4,\n",
       " 'cautious': -1,\n",
       " 'celebrate': 3,\n",
       " 'celebrated': 3,\n",
       " 'celebrates': 3,\n",
       " 'celebrating': 3,\n",
       " 'censor': -2,\n",
       " 'censored': -2,\n",
       " 'censors': -2,\n",
       " 'certain': 1,\n",
       " 'chagrin': -2,\n",
       " 'chagrined': -2,\n",
       " 'challenge': -1,\n",
       " 'chance': 2,\n",
       " 'chances': 2,\n",
       " 'chaos': -2,\n",
       " 'chaotic': -2,\n",
       " 'charged': -3,\n",
       " 'charges': -2,\n",
       " 'charm': 3,\n",
       " 'charming': 3,\n",
       " 'charmless': -3,\n",
       " 'chastise': -3,\n",
       " 'chastised': -3,\n",
       " 'chastises': -3,\n",
       " 'chastising': -3,\n",
       " 'cheat': -3,\n",
       " 'cheated': -3,\n",
       " 'cheater': -3,\n",
       " 'cheaters': -3,\n",
       " 'cheats': -3,\n",
       " 'cheer': 2,\n",
       " 'cheered': 2,\n",
       " 'cheerful': 2,\n",
       " 'cheering': 2,\n",
       " 'cheerless': -2,\n",
       " 'cheers': 2,\n",
       " 'cheery': 3,\n",
       " 'cherish': 2,\n",
       " 'cherished': 2,\n",
       " 'cherishes': 2,\n",
       " 'cherishing': 2,\n",
       " 'chic': 2,\n",
       " 'childish': -2,\n",
       " 'chilling': -1,\n",
       " 'choke': -2,\n",
       " 'choked': -2,\n",
       " 'chokes': -2,\n",
       " 'choking': -2,\n",
       " 'clarifies': 2,\n",
       " 'clarity': 2,\n",
       " 'clash': -2,\n",
       " 'classy': 3,\n",
       " 'clean': 2,\n",
       " 'cleaner': 2,\n",
       " 'clear': 1,\n",
       " 'cleared': 1,\n",
       " 'clearly': 1,\n",
       " 'clears': 1,\n",
       " 'clever': 2,\n",
       " 'clouded': -1,\n",
       " 'clueless': -2,\n",
       " 'cock': -5,\n",
       " 'cocksucker': -5,\n",
       " 'cocksuckers': -5,\n",
       " 'cocky': -2,\n",
       " 'coerced': -2,\n",
       " 'collapse': -2,\n",
       " 'collapsed': -2,\n",
       " 'collapses': -2,\n",
       " 'collapsing': -2,\n",
       " 'collide': -1,\n",
       " 'collides': -1,\n",
       " 'colliding': -1,\n",
       " 'collision': -2,\n",
       " 'collisions': -2,\n",
       " 'colluding': -3,\n",
       " 'combat': -1,\n",
       " 'combats': -1,\n",
       " 'comedy': 1,\n",
       " 'comfort': 2,\n",
       " 'comfortable': 2,\n",
       " 'comforting': 2,\n",
       " 'comforts': 2,\n",
       " 'commend': 2,\n",
       " 'commended': 2,\n",
       " 'commit': 1,\n",
       " 'commitment': 2,\n",
       " 'commits': 1,\n",
       " 'committed': 1,\n",
       " 'committing': 1,\n",
       " 'compassionate': 2,\n",
       " 'compelled': 1,\n",
       " 'competent': 2,\n",
       " 'competitive': 2,\n",
       " 'complacent': -2,\n",
       " 'complain': -2,\n",
       " 'complained': -2,\n",
       " 'complains': -2,\n",
       " 'comprehensive': 2,\n",
       " 'conciliate': 2,\n",
       " 'conciliated': 2,\n",
       " 'conciliates': 2,\n",
       " 'conciliating': 2,\n",
       " 'condemn': -2,\n",
       " 'condemnation': -2,\n",
       " 'condemned': -2,\n",
       " 'condemns': -2,\n",
       " 'confidence': 2,\n",
       " 'confident': 2,\n",
       " 'conflict': -2,\n",
       " 'conflicting': -2,\n",
       " 'conflictive': -2,\n",
       " 'conflicts': -2,\n",
       " 'confuse': -2,\n",
       " 'confused': -2,\n",
       " 'confusing': -2,\n",
       " 'congrats': 2,\n",
       " 'congratulate': 2,\n",
       " 'congratulation': 2,\n",
       " 'congratulations': 2,\n",
       " 'consent': 2,\n",
       " 'consents': 2,\n",
       " 'consolable': 2,\n",
       " 'conspiracy': -3,\n",
       " 'constrained': -2,\n",
       " 'contagion': -2,\n",
       " 'contagions': -2,\n",
       " 'contagious': -1,\n",
       " 'contempt': -2,\n",
       " 'contemptuous': -2,\n",
       " 'contemptuously': -2,\n",
       " 'contend': -1,\n",
       " 'contender': -1,\n",
       " 'contending': -1,\n",
       " 'contentious': -2,\n",
       " 'contestable': -2,\n",
       " 'controversial': -2,\n",
       " 'controversially': -2,\n",
       " 'convince': 1,\n",
       " 'convinced': 1,\n",
       " 'convinces': 1,\n",
       " 'convivial': 2,\n",
       " 'cool': 1,\n",
       " 'cool stuff': 3,\n",
       " 'cornered': -2,\n",
       " 'corpse': -1,\n",
       " 'costly': -2,\n",
       " 'courage': 2,\n",
       " 'courageous': 2,\n",
       " 'courteous': 2,\n",
       " 'courtesy': 2,\n",
       " 'cover-up': -3,\n",
       " 'coward': -2,\n",
       " 'cowardly': -2,\n",
       " 'coziness': 2,\n",
       " 'cramp': -1,\n",
       " 'crap': -3,\n",
       " 'crash': -2,\n",
       " 'crazier': -2,\n",
       " 'craziest': -2,\n",
       " 'crazy': -2,\n",
       " 'creative': 2,\n",
       " 'crestfallen': -2,\n",
       " 'cried': -2,\n",
       " 'cries': -2,\n",
       " 'crime': -3,\n",
       " 'criminal': -3,\n",
       " 'criminals': -3,\n",
       " 'crisis': -3,\n",
       " 'critic': -2,\n",
       " 'criticism': -2,\n",
       " 'criticize': -2,\n",
       " 'criticized': -2,\n",
       " 'criticizes': -2,\n",
       " 'criticizing': -2,\n",
       " 'critics': -2,\n",
       " 'cruel': -3,\n",
       " 'cruelty': -3,\n",
       " 'crush': -1,\n",
       " 'crushed': -2,\n",
       " 'crushes': -1,\n",
       " 'crushing': -1,\n",
       " 'cry': -1,\n",
       " 'crying': -2,\n",
       " 'cunt': -5,\n",
       " 'curious': 1,\n",
       " 'curse': -1,\n",
       " 'cut': -1,\n",
       " 'cute': 2,\n",
       " 'cuts': -1,\n",
       " 'cutting': -1,\n",
       " 'cynic': -2,\n",
       " 'cynical': -2,\n",
       " 'cynicism': -2,\n",
       " 'damage': -3,\n",
       " 'damages': -3,\n",
       " 'damn': -4,\n",
       " 'damned': -4,\n",
       " 'damnit': -4,\n",
       " 'danger': -2,\n",
       " 'daredevil': 2,\n",
       " 'daring': 2,\n",
       " 'darkest': -2,\n",
       " 'darkness': -1,\n",
       " 'dauntless': 2,\n",
       " 'dead': -3,\n",
       " 'deadlock': -2,\n",
       " 'deafening': -1,\n",
       " 'dear': 2,\n",
       " 'dearly': 3,\n",
       " 'death': -2,\n",
       " 'debonair': 2,\n",
       " 'debt': -2,\n",
       " 'deceit': -3,\n",
       " 'deceitful': -3,\n",
       " 'deceive': -3,\n",
       " 'deceived': -3,\n",
       " 'deceives': -3,\n",
       " 'deceiving': -3,\n",
       " 'deception': -3,\n",
       " 'decisive': 1,\n",
       " 'dedicated': 2,\n",
       " 'defeated': -2,\n",
       " 'defect': -3,\n",
       " 'defects': -3,\n",
       " 'defender': 2,\n",
       " 'defenders': 2,\n",
       " 'defenseless': -2,\n",
       " 'defer': -1,\n",
       " 'deferring': -1,\n",
       " 'defiant': -1,\n",
       " 'deficit': -2,\n",
       " 'degrade': -2,\n",
       " 'degraded': -2,\n",
       " 'degrades': -2,\n",
       " 'dehumanize': -2,\n",
       " 'dehumanized': -2,\n",
       " 'dehumanizes': -2,\n",
       " 'dehumanizing': -2,\n",
       " 'deject': -2,\n",
       " 'dejected': -2,\n",
       " 'dejecting': -2,\n",
       " 'dejects': -2,\n",
       " 'delay': -1,\n",
       " 'delayed': -1,\n",
       " 'delight': 3,\n",
       " 'delighted': 3,\n",
       " 'delighting': 3,\n",
       " 'delights': 3,\n",
       " 'demand': -1,\n",
       " 'demanded': -1,\n",
       " 'demanding': -1,\n",
       " 'demands': -1,\n",
       " 'demonstration': -1,\n",
       " 'demoralized': -2,\n",
       " 'denied': -2,\n",
       " 'denier': -2,\n",
       " 'deniers': -2,\n",
       " 'denies': -2,\n",
       " 'denounce': -2,\n",
       " 'denounces': -2,\n",
       " 'deny': -2,\n",
       " 'denying': -2,\n",
       " 'depressed': -2,\n",
       " 'depressing': -2,\n",
       " 'derail': -2,\n",
       " 'derailed': -2,\n",
       " 'derails': -2,\n",
       " 'deride': -2,\n",
       " 'derided': -2,\n",
       " 'derides': -2,\n",
       " 'deriding': -2,\n",
       " 'derision': -2,\n",
       " 'desirable': 2,\n",
       " 'desire': 1,\n",
       " 'desired': 2,\n",
       " 'desirous': 2,\n",
       " 'despair': -3,\n",
       " 'despairing': -3,\n",
       " 'despairs': -3,\n",
       " 'desperate': -3,\n",
       " 'desperately': -3,\n",
       " 'despondent': -3,\n",
       " 'destroy': -3,\n",
       " 'destroyed': -3,\n",
       " 'destroying': -3,\n",
       " 'destroys': -3,\n",
       " 'destruction': -3,\n",
       " 'destructive': -3,\n",
       " 'detached': -1,\n",
       " 'detain': -2,\n",
       " 'detained': -2,\n",
       " 'detention': -2,\n",
       " 'determined': 2,\n",
       " 'devastate': -2,\n",
       " 'devastated': -2,\n",
       " 'devastating': -2,\n",
       " 'devoted': 3,\n",
       " 'diamond': 1,\n",
       " 'dick': -4,\n",
       " 'dickhead': -4,\n",
       " 'die': -3,\n",
       " 'died': -3,\n",
       " 'difficult': -1,\n",
       " 'diffident': -2,\n",
       " 'dilemma': -1,\n",
       " 'dipshit': -3,\n",
       " 'dire': -3,\n",
       " 'direful': -3,\n",
       " 'dirt': -2,\n",
       " 'dirtier': -2,\n",
       " 'dirtiest': -2,\n",
       " 'dirty': -2,\n",
       " 'disabling': -1,\n",
       " 'disadvantage': -2,\n",
       " 'disadvantaged': -2,\n",
       " 'disappear': -1,\n",
       " 'disappeared': -1,\n",
       " 'disappears': -1,\n",
       " 'disappoint': -2,\n",
       " 'disappointed': -2,\n",
       " 'disappointing': -2,\n",
       " 'disappointment': -2,\n",
       " 'disappointments': -2,\n",
       " 'disappoints': -2,\n",
       " 'disaster': -2,\n",
       " 'disasters': -2,\n",
       " 'disastrous': -3,\n",
       " 'disbelieve': -2,\n",
       " 'discard': -1,\n",
       " 'discarded': -1,\n",
       " 'discarding': -1,\n",
       " 'discards': -1,\n",
       " 'disconsolate': -2,\n",
       " 'disconsolation': -2,\n",
       " 'discontented': -2,\n",
       " 'discord': -2,\n",
       " 'discounted': -1,\n",
       " 'discouraged': -2,\n",
       " 'discredited': -2,\n",
       " 'disdain': -2,\n",
       " 'disgrace': -2,\n",
       " 'disgraced': -2,\n",
       " 'disguise': -1,\n",
       " 'disguised': -1,\n",
       " 'disguises': -1,\n",
       " 'disguising': -1,\n",
       " 'disgust': -3,\n",
       " 'disgusted': -3,\n",
       " 'disgusting': -3,\n",
       " 'disheartened': -2,\n",
       " 'dishonest': -2,\n",
       " 'disillusioned': -2,\n",
       " 'disinclined': -2,\n",
       " 'disjointed': -2,\n",
       " 'dislike': -2,\n",
       " 'dismal': -2,\n",
       " 'dismayed': -2,\n",
       " 'disorder': -2,\n",
       " 'disorganized': -2,\n",
       " 'disoriented': -2,\n",
       " 'disparage': -2,\n",
       " 'disparaged': -2,\n",
       " 'disparages': -2,\n",
       " 'disparaging': -2,\n",
       " 'displeased': -2,\n",
       " 'dispute': -2,\n",
       " 'disputed': -2,\n",
       " 'disputes': -2,\n",
       " 'disputing': -2,\n",
       " 'disqualified': -2,\n",
       " 'disquiet': -2,\n",
       " 'disregard': -2,\n",
       " 'disregarded': -2,\n",
       " 'disregarding': -2,\n",
       " 'disregards': -2,\n",
       " 'disrespect': -2,\n",
       " 'disrespected': -2,\n",
       " 'disruption': -2,\n",
       " 'disruptions': -2,\n",
       " 'disruptive': -2,\n",
       " 'dissatisfied': -2,\n",
       " 'distort': -2,\n",
       " 'distorted': -2,\n",
       " 'distorting': -2,\n",
       " 'distorts': -2,\n",
       " 'distract': -2,\n",
       " 'distracted': -2,\n",
       " 'distraction': -2,\n",
       " 'distracts': -2,\n",
       " 'distress': -2,\n",
       " 'distressed': -2,\n",
       " 'distresses': -2,\n",
       " 'distressing': -2,\n",
       " 'distrust': -3,\n",
       " 'distrustful': -3,\n",
       " 'disturb': -2,\n",
       " 'disturbed': -2,\n",
       " 'disturbing': -2,\n",
       " 'disturbs': -2,\n",
       " 'dithering': -2,\n",
       " 'dizzy': -1,\n",
       " 'dodging': -2,\n",
       " 'dodgy': -2,\n",
       " 'does not work': -3,\n",
       " 'dolorous': -2,\n",
       " 'dont like': -2,\n",
       " 'doom': -2,\n",
       " 'doomed': -2,\n",
       " 'doubt': -1,\n",
       " 'doubted': -1,\n",
       " 'doubtful': -1,\n",
       " 'doubting': -1,\n",
       " 'doubts': -1,\n",
       " 'douche': -3,\n",
       " 'douchebag': -3,\n",
       " 'downcast': -2,\n",
       " 'downhearted': -2,\n",
       " 'downside': -2,\n",
       " 'drag': -1,\n",
       " 'dragged': -1,\n",
       " 'drags': -1,\n",
       " 'drained': -2,\n",
       " 'dread': -2,\n",
       " 'dreaded': -2,\n",
       " 'dreadful': -3,\n",
       " 'dreading': -2,\n",
       " 'dream': 1,\n",
       " 'dreams': 1,\n",
       " 'dreary': -2,\n",
       " 'droopy': -2,\n",
       " 'drop': -1,\n",
       " 'drown': -2,\n",
       " 'drowned': -2,\n",
       " 'drowns': -2,\n",
       " 'drunk': -2,\n",
       " 'dubious': -2,\n",
       " 'dud': -2,\n",
       " 'dull': -2,\n",
       " 'dumb': -3,\n",
       " 'dumbass': -3,\n",
       " 'dump': -1,\n",
       " 'dumped': -2,\n",
       " 'dumps': -1,\n",
       " 'dupe': -2,\n",
       " 'duped': -2,\n",
       " 'dysfunction': -2,\n",
       " 'eager': 2,\n",
       " 'earnest': 2,\n",
       " 'ease': 2,\n",
       " 'easy': 1,\n",
       " 'ecstatic': 4,\n",
       " 'eerie': -2,\n",
       " 'eery': -2,\n",
       " 'effective': 2,\n",
       " 'effectively': 2,\n",
       " 'elated': 3,\n",
       " 'elation': 3,\n",
       " 'elegant': 2,\n",
       " 'elegantly': 2,\n",
       " 'embarrass': -2,\n",
       " 'embarrassed': -2,\n",
       " 'embarrasses': -2,\n",
       " 'embarrassing': -2,\n",
       " 'embarrassment': -2,\n",
       " 'embittered': -2,\n",
       " 'embrace': 1,\n",
       " 'emergency': -2,\n",
       " 'empathetic': 2,\n",
       " 'emptiness': -1,\n",
       " 'empty': -1,\n",
       " 'enchanted': 2,\n",
       " 'encourage': 2,\n",
       " 'encouraged': 2,\n",
       " 'encouragement': 2,\n",
       " 'encourages': 2,\n",
       " 'endorse': 2,\n",
       " 'endorsed': 2,\n",
       " 'endorsement': 2,\n",
       " 'endorses': 2,\n",
       " 'enemies': -2,\n",
       " 'enemy': -2,\n",
       " 'energetic': 2,\n",
       " 'engage': 1,\n",
       " 'engages': 1,\n",
       " 'engrossed': 1,\n",
       " 'enjoy': 2,\n",
       " 'enjoying': 2,\n",
       " 'enjoys': 2,\n",
       " 'enlighten': 2,\n",
       " 'enlightened': 2,\n",
       " 'enlightening': 2,\n",
       " 'enlightens': 2,\n",
       " 'ennui': -2,\n",
       " 'enrage': -2,\n",
       " 'enraged': -2,\n",
       " 'enrages': -2,\n",
       " 'enraging': -2,\n",
       " 'enrapture': 3,\n",
       " 'enslave': -2,\n",
       " 'enslaved': -2,\n",
       " 'enslaves': -2,\n",
       " 'ensure': 1,\n",
       " 'ensuring': 1,\n",
       " 'enterprising': 1,\n",
       " 'entertaining': 2,\n",
       " 'enthral': 3,\n",
       " 'enthusiastic': 3,\n",
       " 'entitled': 1,\n",
       " 'entrusted': 2,\n",
       " 'envies': -1,\n",
       " 'envious': -2,\n",
       " 'envy': -1,\n",
       " 'envying': -1,\n",
       " 'erroneous': -2,\n",
       " 'error': -2,\n",
       " 'errors': -2,\n",
       " 'escape': -1,\n",
       " 'escapes': -1,\n",
       " 'escaping': -1,\n",
       " 'esteemed': 2,\n",
       " 'ethical': 2,\n",
       " 'euphoria': 3,\n",
       " 'euphoric': 4,\n",
       " 'eviction': -1,\n",
       " 'evil': -3,\n",
       " 'exaggerate': -2,\n",
       " 'exaggerated': -2,\n",
       " 'exaggerates': -2,\n",
       " 'exaggerating': -2,\n",
       " 'exasperated': 2,\n",
       " 'excellence': 3,\n",
       " 'excellent': 3,\n",
       " 'excite': 3,\n",
       " 'excited': 3,\n",
       " 'excitement': 3,\n",
       " 'exciting': 3,\n",
       " 'exclude': -1,\n",
       " 'excluded': -2,\n",
       " 'exclusion': -1,\n",
       " 'exclusive': 2,\n",
       " 'excuse': -1,\n",
       " 'exempt': -1,\n",
       " 'exhausted': -2,\n",
       " 'exhilarated': 3,\n",
       " 'exhilarates': 3,\n",
       " 'exhilarating': 3,\n",
       " 'exonerate': 2,\n",
       " 'exonerated': 2,\n",
       " 'exonerates': 2,\n",
       " 'exonerating': 2,\n",
       " 'expand': 1,\n",
       " 'expands': 1,\n",
       " 'expel': -2,\n",
       " 'expelled': -2,\n",
       " 'expelling': -2,\n",
       " 'expels': -2,\n",
       " 'exploit': -2,\n",
       " 'exploited': -2,\n",
       " 'exploiting': -2,\n",
       " 'exploits': -2,\n",
       " 'exploration': 1,\n",
       " 'explorations': 1,\n",
       " 'expose': -1,\n",
       " 'exposed': -1,\n",
       " 'exposes': -1,\n",
       " 'exposing': -1,\n",
       " 'extend': 1,\n",
       " 'extends': 1,\n",
       " 'exuberant': 4,\n",
       " 'exultant': 3,\n",
       " 'exultantly': 3,\n",
       " 'fabulous': 4,\n",
       " 'fad': -2,\n",
       " 'fag': -3,\n",
       " 'faggot': -3,\n",
       " 'faggots': -3,\n",
       " 'fail': -2,\n",
       " 'failed': -2,\n",
       " 'failing': -2,\n",
       " 'fails': -2,\n",
       " 'failure': -2,\n",
       " 'failures': -2,\n",
       " 'fainthearted': -2,\n",
       " 'fair': 2,\n",
       " 'faith': 1,\n",
       " 'faithful': 3,\n",
       " 'fake': -3,\n",
       " 'fakes': -3,\n",
       " 'faking': -3,\n",
       " 'fallen': -2,\n",
       " 'falling': -1,\n",
       " 'falsified': -3,\n",
       " 'falsify': -3,\n",
       " 'fame': 1,\n",
       " 'fan': 3,\n",
       " 'fantastic': 4,\n",
       " 'farce': -1,\n",
       " 'fascinate': 3,\n",
       " 'fascinated': 3,\n",
       " 'fascinates': 3,\n",
       " 'fascinating': 3,\n",
       " 'fascist': -2,\n",
       " 'fascists': -2,\n",
       " 'fatalities': -3,\n",
       " 'fatality': -3,\n",
       " 'fatigue': -2,\n",
       " 'fatigued': -2,\n",
       " 'fatigues': -2,\n",
       " 'fatiguing': -2,\n",
       " 'favor': 2,\n",
       " 'favored': 2,\n",
       " 'favorite': 2,\n",
       " 'favorited': 2,\n",
       " 'favorites': 2,\n",
       " 'favors': 2,\n",
       " 'fear': -2,\n",
       " 'fearful': -2,\n",
       " 'fearing': -2,\n",
       " 'fearless': 2,\n",
       " 'fearsome': -2,\n",
       " 'fed up': -3,\n",
       " 'feeble': -2,\n",
       " 'feeling': 1,\n",
       " 'felonies': -3,\n",
       " 'felony': -3,\n",
       " 'fervent': 2,\n",
       " 'fervid': 2,\n",
       " 'festive': 2,\n",
       " 'fiasco': -3,\n",
       " 'fidgety': -2,\n",
       " 'fight': -1,\n",
       " 'fine': 2,\n",
       " 'fire': -2,\n",
       " 'fired': -2,\n",
       " 'firing': -2,\n",
       " 'fit': 1,\n",
       " 'fitness': 1,\n",
       " 'flagship': 2,\n",
       " 'flees': -1,\n",
       " 'flop': -2,\n",
       " 'flops': -2,\n",
       " 'flu': -2,\n",
       " ...}"
      ]
     },
     "execution_count": 21,
     "metadata": {},
     "output_type": "execute_result"
    }
   ],
   "source": [
    "affinity_scores = afinn.set_index('word')['value'].to_dict()\n",
    "affinity_scores"
   ]
  },
  {
   "cell_type": "code",
   "execution_count": 22,
   "id": "3413f500",
   "metadata": {
    "ExecuteTime": {
     "end_time": "2023-05-19T09:56:56.145163Z",
     "start_time": "2023-05-19T09:56:55.370509Z"
    }
   },
   "outputs": [],
   "source": [
    "nlp = spacy.load('en_core_web_sm')\n",
    "sentiment_lexicon = affinity_scores\n",
    "\n",
    "def calculate_sentiment(Text: str = None):\n",
    "    sent_score = 0\n",
    "    if Text:\n",
    "        sentence = nlp(Text)\n",
    "        for word in sentence:\n",
    "            sent_score += sentiment_lexicon.get(word.lemma_, 0)\n",
    "    return sent_score"
   ]
  },
  {
   "cell_type": "code",
   "execution_count": 23,
   "id": "38dd5628",
   "metadata": {
    "ExecuteTime": {
     "end_time": "2023-05-19T09:57:39.345933Z",
     "start_time": "2023-05-19T09:57:39.322495Z"
    }
   },
   "outputs": [
    {
     "data": {
      "text/plain": [
       "4"
      ]
     },
     "execution_count": 23,
     "metadata": {},
     "output_type": "execute_result"
    }
   ],
   "source": [
    "calculate_sentiment(Text = \"amazing\")"
   ]
  },
  {
   "cell_type": "code",
   "execution_count": 24,
   "id": "863e9878",
   "metadata": {
    "ExecuteTime": {
     "end_time": "2023-05-19T09:57:53.578843Z",
     "start_time": "2023-05-19T09:57:41.477071Z"
    }
   },
   "outputs": [
    {
     "data": {
      "text/plain": [
       "0     13\n",
       "1      4\n",
       "2      4\n",
       "3     13\n",
       "4      8\n",
       "5      6\n",
       "6     14\n",
       "7     10\n",
       "8      8\n",
       "9    109\n",
       "Name: word_count, dtype: int64"
      ]
     },
     "execution_count": 24,
     "metadata": {},
     "output_type": "execute_result"
    }
   ],
   "source": [
    "sent_df['sentiment_value'] = sent_df['sentence'].apply(calculate_sentiment)\n",
    "sent_df['word_count'] = sent_df['sentence'].str.split().apply(len)\n",
    "sent_df['word_count'].head(10)"
   ]
  },
  {
   "cell_type": "code",
   "execution_count": 25,
   "id": "05217a61",
   "metadata": {
    "ExecuteTime": {
     "end_time": "2023-05-19T09:57:57.446911Z",
     "start_time": "2023-05-19T09:57:57.417099Z"
    }
   },
   "outputs": [
    {
     "data": {
      "text/html": [
       "<div>\n",
       "<style scoped>\n",
       "    .dataframe tbody tr th:only-of-type {\n",
       "        vertical-align: middle;\n",
       "    }\n",
       "\n",
       "    .dataframe tbody tr th {\n",
       "        vertical-align: top;\n",
       "    }\n",
       "\n",
       "    .dataframe thead th {\n",
       "        text-align: right;\n",
       "    }\n",
       "</style>\n",
       "<table border=\"1\" class=\"dataframe\">\n",
       "  <thead>\n",
       "    <tr style=\"text-align: right;\">\n",
       "      <th></th>\n",
       "      <th>sentence</th>\n",
       "      <th>sentiment_value</th>\n",
       "      <th>word_count</th>\n",
       "    </tr>\n",
       "  </thead>\n",
       "  <tbody>\n",
       "    <tr>\n",
       "      <th>817</th>\n",
       "      <td>Might be able to",
       " https://t.co/FB7e5nOq2E @Pri...</td>\n",
       "      <td>11</td>\n",
       "      <td>72</td>\n",
       "    </tr>\n",
       "    <tr>\n",
       "      <th>224</th>\n",
       "      <td>@PPathole @karpathy For a second there, I thou...</td>\n",
       "      <td>11</td>\n",
       "      <td>69</td>\n",
       "    </tr>\n",
       "    <tr>\n",
       "      <th>159</th>\n",
       "      <td>@harsimranbansal @heydave7 It will most likely...</td>\n",
       "      <td>11</td>\n",
       "      <td>93</td>\n",
       "    </tr>\n",
       "    <tr>\n",
       "      <th>184</th>\n",
       "      <td>Also, w",
       " https://t.co/IYdKttVsqk @cleantechnic...</td>\n",
       "      <td>12</td>\n",
       "      <td>98</td>\n",
       "    </tr>\n",
       "    <tr>\n",
       "      <th>645</th>\n",
       "      <td>Its",
       " https://t.co/IxhyT6NuiC @Teslarati Tesla...</td>\n",
       "      <td>13</td>\n",
       "      <td>65</td>\n",
       "    </tr>\n",
       "    <tr>\n",
       "      <th>81</th>\n",
       "      <td>@teslaownersSV This is a good one @MrBeastYT I...</td>\n",
       "      <td>13</td>\n",
       "      <td>38</td>\n",
       "    </tr>\n",
       "    <tr>\n",
       "      <th>585</th>\n",
       "      <td>The open areas",
       " https://t.co/rabjKrtQlw @Sav...</td>\n",
       "      <td>14</td>\n",
       "      <td>138</td>\n",
       "    </tr>\n",
       "    <tr>\n",
       "      <th>105</th>\n",
       "      <td>@Erdayastronaut @SpaceX Was also thinking that...</td>\n",
       "      <td>16</td>\n",
       "      <td>94</td>\n",
       "    </tr>\n",
       "    <tr>\n",
       "      <th>36</th>\n",
       "      <td>@ajtourville @Erdayastronaut @SpaceX Yes, but ...</td>\n",
       "      <td>16</td>\n",
       "      <td>231</td>\n",
       "    </tr>\n",
       "    <tr>\n",
       "      <th>719</th>\n",
       "      <td>We just havent observed the",
       " https://t.co/mez...</td>\n",
       "      <td>17</td>\n",
       "      <td>72</td>\n",
       "    </tr>\n",
       "  </tbody>\n",
       "</table>\n",
       "</div>"
      ],
      "text/plain": [
       "                                              sentence  sentiment_value  \\\n",
       "817  Might be able to\n",
       " https://t.co/FB7e5nOq2E @Pri...               11   \n",
       "224  @PPathole @karpathy For a second there, I thou...               11   \n",
       "159  @harsimranbansal @heydave7 It will most likely...               11   \n",
       "184  Also, w\n",
       " https://t.co/IYdKttVsqk @cleantechnic...               12   \n",
       "645  Its\n",
       " https://t.co/IxhyT6NuiC @Teslarati Tesla...               13   \n",
       "81   @teslaownersSV This is a good one @MrBeastYT I...               13   \n",
       "585  The open areas\n",
       " https://t.co/rabjKrtQlw @Sav...               14   \n",
       "105  @Erdayastronaut @SpaceX Was also thinking that...               16   \n",
       "36   @ajtourville @Erdayastronaut @SpaceX Yes, but ...               16   \n",
       "719  We just havent observed the\n",
       " https://t.co/mez...               17   \n",
       "\n",
       "     word_count  \n",
       "817          72  \n",
       "224          69  \n",
       "159          93  \n",
       "184          98  \n",
       "645          65  \n",
       "81           38  \n",
       "585         138  \n",
       "105          94  \n",
       "36          231  \n",
       "719          72  "
      ]
     },
     "execution_count": 25,
     "metadata": {},
     "output_type": "execute_result"
    }
   ],
   "source": [
    "sent_df.sort_values(by=\"sentiment_value\").tail(10)"
   ]
  },
  {
   "cell_type": "code",
   "execution_count": 26,
   "id": "f8674f2c",
   "metadata": {
    "ExecuteTime": {
     "end_time": "2023-05-19T09:58:01.101314Z",
     "start_time": "2023-05-19T09:58:00.968522Z"
    }
   },
   "outputs": [
    {
     "data": {
      "text/plain": [
       "count    924.000000\n",
       "mean       1.352814\n",
       "std        2.692026\n",
       "min       -8.000000\n",
       "25%        0.000000\n",
       "50%        0.000000\n",
       "75%        3.000000\n",
       "max       17.000000\n",
       "Name: sentiment_value, dtype: float64"
      ]
     },
     "execution_count": 26,
     "metadata": {},
     "output_type": "execute_result"
    }
   ],
   "source": [
    "sent_df[\"sentiment_value\"].describe()"
   ]
  },
  {
   "cell_type": "code",
   "execution_count": 27,
   "id": "0ea3746b",
   "metadata": {
    "ExecuteTime": {
     "end_time": "2023-05-19T09:58:07.346057Z",
     "start_time": "2023-05-19T09:58:04.115253Z"
    }
   },
   "outputs": [
    {
     "data": {
      "text/plain": [
       "<AxesSubplot:xlabel='sentiment_value', ylabel='Density'>"
      ]
     },
     "execution_count": 27,
     "metadata": {},
     "output_type": "execute_result"
    },
    {
     "data": {
      "image/png": "[encoded data removed]",
      "text/plain": [
       "<Figure size 432x288 with 1 Axes>"
      ]
     },
     "metadata": {
      "needs_background": "light"
     },
     "output_type": "display_data"
    }
   ],
   "source": [
    "import seaborn as sns\n",
    "sns.distplot(sent_df[\"sentiment_value\"])"
   ]
  },
  {
   "cell_type": "code",
   "execution_count": 28,
   "id": "97dcb615",
   "metadata": {
    "ExecuteTime": {
     "end_time": "2023-05-19T09:58:11.362875Z",
     "start_time": "2023-05-19T09:58:10.790692Z"
    },
    "scrolled": true
   },
   "outputs": [
    {
     "data": {
      "text/plain": [
       "<AxesSubplot:title={'center':'Sentence sentiment value to sentence word count'}, xlabel='word_count', ylabel='sentiment_value'>"
      ]
     },
     "execution_count": 28,
     "metadata": {},
     "output_type": "execute_result"
    },
    {
     "data": {
      "image/png": "[encoded data removed]",
      "text/plain": [
       "<Figure size 576x576 with 1 Axes>"
      ]
     },
     "metadata": {
      "needs_background": "light"
     },
     "output_type": "display_data"
    }
   ],
   "source": [
    "sent_df.plot.scatter(x='word_count', y='sentiment_value', figsize=(8,8), title='Sentence sentiment value to sentence word count')"
   ]
  },
  {
   "cell_type": "markdown",
   "id": "66d6d5b3",
   "metadata": {},
   "source": [
    "# Problem 2"
   ]
  },
  {
   "cell_type": "markdown",
   "id": "dddbbbff",
   "metadata": {},
   "source": [
    "# 1) Extract reviews of any product from ecommerce website like amazon\n",
    "# 2) Perform emotion mining\n"
   ]
  },
  {
   "cell_type": "code",
   "execution_count": 42,
   "id": "f63faaf5",
   "metadata": {
    "ExecuteTime": {
     "end_time": "2023-05-19T10:58:34.576239Z",
     "start_time": "2023-05-19T10:58:33.712103Z"
    }
   },
   "outputs": [
    {
     "name": "stderr",
     "output_type": "stream",
     "text": [
      "[nltk_data] Downloading package stopwords to\n",
      "[nltk_data]     C:\\Users\\Surendra\\AppData\\Roaming\\nltk_data...\n",
      "[nltk_data]   Package stopwords is already up-to-date!\n"
     ]
    },
    {
     "data": {
      "text/plain": [
       "True"
      ]
     },
     "execution_count": 42,
     "metadata": {},
     "output_type": "execute_result"
    }
   ],
   "source": [
    "import requests   # Importing requests to extract content from a url\n",
    "from bs4 import BeautifulSoup as bs # Beautifulsoup is for web scrapping...used to scrap specific content \n",
    "import re \n",
    "import matplotlib.pyplot as plt\n",
    "import nltk\n",
    "from nltk.corpus import stopwords\n",
    "from wordcloud import WordCloud\n",
    "\n",
    "nltk.download('stopwords')"
   ]
  },
  {
   "cell_type": "code",
   "execution_count": 43,
   "id": "35d41c74",
   "metadata": {
    "ExecuteTime": {
     "end_time": "2023-05-19T10:59:02.446731Z",
     "start_time": "2023-05-19T10:59:00.831773Z"
    }
   },
   "outputs": [],
   "source": [
    "# creating empty reviews list\n",
    "iphone13_reviews=[]\n",
    "\n",
    "# Extracting reviews from Amazon website\n",
    "for i in range(1,20):\n",
    "  ip=[]  \n",
    "\n",
    "url = 'https://www.amazon.in/Apple-iPhone-Pro-Max-128GB/product-reviews/B09G9HR5GX'\n",
    "response = requests.get(url)\n",
    "soup = bs(response.content,\"html.parser\")# creating soup object to iterate over the extracted content \n",
    "reviews = soup.findAll(\"span\",attrs={\"class\",\"a-size-base review-text review-text-content\"})\n",
    "for i in range(len(reviews)):\n",
    "    ip.append(reviews[i].text)  \n",
    "    iphone13_reviews=iphone13_reviews+ip\n",
    "\n",
    "# writng reviews in a text file \n",
    "with open(\"iphone13.txt\",\"w\",encoding='utf8') as output:\n",
    "    output.write(str(iphone13_reviews))"
   ]
  },
  {
   "cell_type": "code",
   "execution_count": 44,
   "id": "62b75e2f",
   "metadata": {
    "ExecuteTime": {
     "end_time": "2023-05-19T10:59:15.758152Z",
     "start_time": "2023-05-19T10:59:15.730487Z"
    }
   },
   "outputs": [
    {
     "data": {
      "text/plain": [
       "[\"\\nIt's a very powerful phone with great camera features. I am really happy with this iPhone.\\n\",\n",
       " \"\\nIt's a very powerful phone with great camera features. I am really happy with this iPhone.\\n\",\n",
       " '\\nHigh benefits with high price. I m in love with this device.\\n',\n",
       " \"\\nIt's a very powerful phone with great camera features. I am really happy with this iPhone.\\n\",\n",
       " '\\nHigh benefits with high price. I m in love with this device.\\n',\n",
       " '\\nSwitched from Android to iPhone. Here are my pros and cons.Pros:1) The battery life on the Pro Max is just excellent. No android with even a 6000 Mah can beat it, it is that well optimised.2) The camera as you can guess is one of the best if not the best.3) The screen with 120hz feels so smooth. It’s just a different experience. Androids with similar refresh don’t feel so smooth because they are poorly optimised.Cons:1) The price. Got the 512GB pro max for 1.55 lac. and that is not at all value for the amount of money you spend. With no charger!2) Software wise, the notifications are really bad. Android compiles notifications much better. Also, it’s really tricky to transfer Whatsapp and other stuff from an Android.\\n',\n",
       " \"\\nIt's a very powerful phone with great camera features. I am really happy with this iPhone.\\n\",\n",
       " '\\nHigh benefits with high price. I m in love with this device.\\n',\n",
       " '\\nSwitched from Android to iPhone. Here are my pros and cons.Pros:1) The battery life on the Pro Max is just excellent. No android with even a 6000 Mah can beat it, it is that well optimised.2) The camera as you can guess is one of the best if not the best.3) The screen with 120hz feels so smooth. It’s just a different experience. Androids with similar refresh don’t feel so smooth because they are poorly optimised.Cons:1) The price. Got the 512GB pro max for 1.55 lac. and that is not at all value for the amount of money you spend. With no charger!2) Software wise, the notifications are really bad. Android compiles notifications much better. Also, it’s really tricky to transfer Whatsapp and other stuff from an Android.\\n',\n",
       " '\\nExpensive\\n',\n",
       " \"\\nIt's a very powerful phone with great camera features. I am really happy with this iPhone.\\n\",\n",
       " '\\nHigh benefits with high price. I m in love with this device.\\n',\n",
       " '\\nSwitched from Android to iPhone. Here are my pros and cons.Pros:1) The battery life on the Pro Max is just excellent. No android with even a 6000 Mah can beat it, it is that well optimised.2) The camera as you can guess is one of the best if not the best.3) The screen with 120hz feels so smooth. It’s just a different experience. Androids with similar refresh don’t feel so smooth because they are poorly optimised.Cons:1) The price. Got the 512GB pro max for 1.55 lac. and that is not at all value for the amount of money you spend. With no charger!2) Software wise, the notifications are really bad. Android compiles notifications much better. Also, it’s really tricky to transfer Whatsapp and other stuff from an Android.\\n',\n",
       " '\\nExpensive\\n',\n",
       " '\\nOverall excellent product\\n',\n",
       " \"\\nIt's a very powerful phone with great camera features. I am really happy with this iPhone.\\n\",\n",
       " '\\nHigh benefits with high price. I m in love with this device.\\n',\n",
       " '\\nSwitched from Android to iPhone. Here are my pros and cons.Pros:1) The battery life on the Pro Max is just excellent. No android with even a 6000 Mah can beat it, it is that well optimised.2) The camera as you can guess is one of the best if not the best.3) The screen with 120hz feels so smooth. It’s just a different experience. Androids with similar refresh don’t feel so smooth because they are poorly optimised.Cons:1) The price. Got the 512GB pro max for 1.55 lac. and that is not at all value for the amount of money you spend. With no charger!2) Software wise, the notifications are really bad. Android compiles notifications much better. Also, it’s really tricky to transfer Whatsapp and other stuff from an Android.\\n',\n",
       " '\\nExpensive\\n',\n",
       " '\\nOverall excellent product\\n',\n",
       " '\\nOffline Peksha best deal Only Amazon\\n',\n",
       " \"\\nIt's a very powerful phone with great camera features. I am really happy with this iPhone.\\n\",\n",
       " '\\nHigh benefits with high price. I m in love with this device.\\n',\n",
       " '\\nSwitched from Android to iPhone. Here are my pros and cons.Pros:1) The battery life on the Pro Max is just excellent. No android with even a 6000 Mah can beat it, it is that well optimised.2) The camera as you can guess is one of the best if not the best.3) The screen with 120hz feels so smooth. It’s just a different experience. Androids with similar refresh don’t feel so smooth because they are poorly optimised.Cons:1) The price. Got the 512GB pro max for 1.55 lac. and that is not at all value for the amount of money you spend. With no charger!2) Software wise, the notifications are really bad. Android compiles notifications much better. Also, it’s really tricky to transfer Whatsapp and other stuff from an Android.\\n',\n",
       " '\\nExpensive\\n',\n",
       " '\\nOverall excellent product\\n',\n",
       " '\\nOffline Peksha best deal Only Amazon\\n',\n",
       " \"\\nI first purchased iPhone 14 pro then I realized that it drains the battery quickly(Don't have any idea about 14 pro max). Then I sell this phone to the store. Luckily due to the high demand for iPhone 14 pro, I could sell at the same price. Then I purchased 13 pro max. It has been 1 week and I found battery backup is very good. No doubt about other features of the iPhone.\\n\",\n",
       " \"\\nIt's a very powerful phone with great camera features. I am really happy with this iPhone.\\n\",\n",
       " '\\nHigh benefits with high price. I m in love with this device.\\n',\n",
       " '\\nSwitched from Android to iPhone. Here are my pros and cons.Pros:1) The battery life on the Pro Max is just excellent. No android with even a 6000 Mah can beat it, it is that well optimised.2) The camera as you can guess is one of the best if not the best.3) The screen with 120hz feels so smooth. It’s just a different experience. Androids with similar refresh don’t feel so smooth because they are poorly optimised.Cons:1) The price. Got the 512GB pro max for 1.55 lac. and that is not at all value for the amount of money you spend. With no charger!2) Software wise, the notifications are really bad. Android compiles notifications much better. Also, it’s really tricky to transfer Whatsapp and other stuff from an Android.\\n',\n",
       " '\\nExpensive\\n',\n",
       " '\\nOverall excellent product\\n',\n",
       " '\\nOffline Peksha best deal Only Amazon\\n',\n",
       " \"\\nI first purchased iPhone 14 pro then I realized that it drains the battery quickly(Don't have any idea about 14 pro max). Then I sell this phone to the store. Luckily due to the high demand for iPhone 14 pro, I could sell at the same price. Then I purchased 13 pro max. It has been 1 week and I found battery backup is very good. No doubt about other features of the iPhone.\\n\",\n",
       " '\\nOpen box diye sim tool nahi aa ya but phone mast aaya\\n',\n",
       " \"\\nIt's a very powerful phone with great camera features. I am really happy with this iPhone.\\n\",\n",
       " '\\nHigh benefits with high price. I m in love with this device.\\n',\n",
       " '\\nSwitched from Android to iPhone. Here are my pros and cons.Pros:1) The battery life on the Pro Max is just excellent. No android with even a 6000 Mah can beat it, it is that well optimised.2) The camera as you can guess is one of the best if not the best.3) The screen with 120hz feels so smooth. It’s just a different experience. Androids with similar refresh don’t feel so smooth because they are poorly optimised.Cons:1) The price. Got the 512GB pro max for 1.55 lac. and that is not at all value for the amount of money you spend. With no charger!2) Software wise, the notifications are really bad. Android compiles notifications much better. Also, it’s really tricky to transfer Whatsapp and other stuff from an Android.\\n',\n",
       " '\\nExpensive\\n',\n",
       " '\\nOverall excellent product\\n',\n",
       " '\\nOffline Peksha best deal Only Amazon\\n',\n",
       " \"\\nI first purchased iPhone 14 pro then I realized that it drains the battery quickly(Don't have any idea about 14 pro max). Then I sell this phone to the store. Luckily due to the high demand for iPhone 14 pro, I could sell at the same price. Then I purchased 13 pro max. It has been 1 week and I found battery backup is very good. No doubt about other features of the iPhone.\\n\",\n",
       " '\\nOpen box diye sim tool nahi aa ya but phone mast aaya\\n',\n",
       " '\\n\\n\\n\\n\\n                    The media could not be loaded.\\n                \\n\\n\\n',\n",
       " \"\\nIt's a very powerful phone with great camera features. I am really happy with this iPhone.\\n\",\n",
       " '\\nHigh benefits with high price. I m in love with this device.\\n',\n",
       " '\\nSwitched from Android to iPhone. Here are my pros and cons.Pros:1) The battery life on the Pro Max is just excellent. No android with even a 6000 Mah can beat it, it is that well optimised.2) The camera as you can guess is one of the best if not the best.3) The screen with 120hz feels so smooth. It’s just a different experience. Androids with similar refresh don’t feel so smooth because they are poorly optimised.Cons:1) The price. Got the 512GB pro max for 1.55 lac. and that is not at all value for the amount of money you spend. With no charger!2) Software wise, the notifications are really bad. Android compiles notifications much better. Also, it’s really tricky to transfer Whatsapp and other stuff from an Android.\\n',\n",
       " '\\nExpensive\\n',\n",
       " '\\nOverall excellent product\\n',\n",
       " '\\nOffline Peksha best deal Only Amazon\\n',\n",
       " \"\\nI first purchased iPhone 14 pro then I realized that it drains the battery quickly(Don't have any idea about 14 pro max). Then I sell this phone to the store. Luckily due to the high demand for iPhone 14 pro, I could sell at the same price. Then I purchased 13 pro max. It has been 1 week and I found battery backup is very good. No doubt about other features of the iPhone.\\n\",\n",
       " '\\nOpen box diye sim tool nahi aa ya but phone mast aaya\\n',\n",
       " '\\n\\n\\n\\n\\n                    The media could not be loaded.\\n                \\n\\n\\n',\n",
       " '\\nI have started using iPhone from 5 series and since then this is 7th iPhone which I upgrade and I must say till date this has got the best battery I have observed in any of my previous iPhones. Camera quality you can’t even think of comparing it with any other phone in the world. You definitely don’t need to carry a FSLR or a video cam after you own this piece. You can literally make a professional movie from its camera.The only thing is that you need to shell out hell lot of money to be the owner of this beauty but at the end it’s gives you the satisfaction nothing else can give you because you own the best.My suggestion is go for it only if you have the capacity to own it.\\n']"
      ]
     },
     "execution_count": 44,
     "metadata": {},
     "output_type": "execute_result"
    }
   ],
   "source": [
    "iphone13_reviews"
   ]
  },
  {
   "cell_type": "code",
   "execution_count": 45,
   "id": "c329bfde",
   "metadata": {
    "ExecuteTime": {
     "end_time": "2023-05-19T11:00:17.193186Z",
     "start_time": "2023-05-19T11:00:17.173731Z"
    }
   },
   "outputs": [],
   "source": [
    " # Joinining all the reviews into single paragraph \n",
    "ip_rev_string = \" \".join(iphone13_reviews)"
   ]
  },
  {
   "cell_type": "code",
   "execution_count": 46,
   "id": "39d8426c",
   "metadata": {
    "ExecuteTime": {
     "end_time": "2023-05-19T11:00:29.388478Z",
     "start_time": "2023-05-19T11:00:29.375434Z"
    }
   },
   "outputs": [],
   "source": [
    "# Removing unwanted symbols incase if exists\n",
    "ip_rev_string = re.sub(\"[^A-Za-z\" \"]+\",\" \",ip_rev_string).lower()\n",
    "ip_rev_string = re.sub(\"[0-9\" \"]+\",\" \",ip_rev_string)"
   ]
  },
  {
   "cell_type": "code",
   "execution_count": 47,
   "id": "be2464c6",
   "metadata": {
    "ExecuteTime": {
     "end_time": "2023-05-19T11:00:37.959924Z",
     "start_time": "2023-05-19T11:00:37.945252Z"
    }
   },
   "outputs": [
    {
     "name": "stdout",
     "output_type": "stream",
     "text": [
      "['', 'it', 's', 'a', 'very', 'powerful', 'phone', 'with', 'great', 'camera', 'features', 'i', 'am', 'really', 'happy', 'with', 'this', 'iphone', 'it', 's', 'a', 'very', 'powerful', 'phone', 'with', 'great', 'camera', 'features', 'i', 'am', 'really', 'happy', 'with', 'this', 'iphone', 'high', 'benefits', 'with', 'high', 'price', 'i', 'm', 'in', 'love', 'with', 'this', 'device', 'it', 's', 'a', 'very', 'powerful', 'phone', 'with', 'great', 'camera', 'features', 'i', 'am', 'really', 'happy', 'with', 'this', 'iphone', 'high', 'benefits', 'with', 'high', 'price', 'i', 'm', 'in', 'love', 'with', 'this', 'device', 'switched', 'from', 'android', 'to', 'iphone', 'here', 'are', 'my', 'pros', 'and', 'cons', 'pros', 'the', 'battery', 'life', 'on', 'the', 'pro', 'max', 'is', 'just', 'excellent', 'no', 'android', 'with', 'even', 'a', 'mah', 'can', 'beat', 'it', 'it', 'is', 'that', 'well', 'optimised', 'the', 'camera', 'as', 'you', 'can', 'guess', 'is', 'one', 'of', 'the', 'best', 'if', 'not', 'the', 'best', 'the', 'screen', 'with', 'hz', 'feels', 'so', 'smooth', 'it', 's', 'just', 'a', 'different', 'experience', 'androids', 'with', 'similar', 'refresh', 'don', 't', 'feel', 'so', 'smooth', 'because', 'they', 'are', 'poorly', 'optimised', 'cons', 'the', 'price', 'got', 'the', 'gb', 'pro', 'max', 'for', 'lac', 'and', 'that', 'is', 'not', 'at', 'all', 'value', 'for', 'the', 'amount', 'of', 'money', 'you', 'spend', 'with', 'no', 'charger', 'software', 'wise', 'the', 'notifications', 'are', 'really', 'bad', 'android', 'compiles', 'notifications', 'much', 'better', 'also', 'it', 's', 'really', 'tricky', 'to', 'transfer', 'whatsapp', 'and', 'other', 'stuff', 'from', 'an', 'android', 'it', 's', 'a', 'very', 'powerful', 'phone', 'with', 'great', 'camera', 'features', 'i', 'am', 'really', 'happy', 'with', 'this', 'iphone', 'high', 'benefits', 'with', 'high', 'price', 'i', 'm', 'in', 'love', 'with', 'this', 'device', 'switched', 'from', 'android', 'to', 'iphone', 'here', 'are', 'my', 'pros', 'and', 'cons', 'pros', 'the', 'battery', 'life', 'on', 'the', 'pro', 'max', 'is', 'just', 'excellent', 'no', 'android', 'with', 'even', 'a', 'mah', 'can', 'beat', 'it', 'it', 'is', 'that', 'well', 'optimised', 'the', 'camera', 'as', 'you', 'can', 'guess', 'is', 'one', 'of', 'the', 'best', 'if', 'not', 'the', 'best', 'the', 'screen', 'with', 'hz', 'feels', 'so', 'smooth', 'it', 's', 'just', 'a', 'different', 'experience', 'androids', 'with', 'similar', 'refresh', 'don', 't', 'feel', 'so', 'smooth', 'because', 'they', 'are', 'poorly', 'optimised', 'cons', 'the', 'price', 'got', 'the', 'gb', 'pro', 'max', 'for', 'lac', 'and', 'that', 'is', 'not', 'at', 'all', 'value', 'for', 'the', 'amount', 'of', 'money', 'you', 'spend', 'with', 'no', 'charger', 'software', 'wise', 'the', 'notifications', 'are', 'really', 'bad', 'android', 'compiles', 'notifications', 'much', 'better', 'also', 'it', 's', 'really', 'tricky', 'to', 'transfer', 'whatsapp', 'and', 'other', 'stuff', 'from', 'an', 'android', 'expensive', 'it', 's', 'a', 'very', 'powerful', 'phone', 'with', 'great', 'camera', 'features', 'i', 'am', 'really', 'happy', 'with', 'this', 'iphone', 'high', 'benefits', 'with', 'high', 'price', 'i', 'm', 'in', 'love', 'with', 'this', 'device', 'switched', 'from', 'android', 'to', 'iphone', 'here', 'are', 'my', 'pros', 'and', 'cons', 'pros', 'the', 'battery', 'life', 'on', 'the', 'pro', 'max', 'is', 'just', 'excellent', 'no', 'android', 'with', 'even', 'a', 'mah', 'can', 'beat', 'it', 'it', 'is', 'that', 'well', 'optimised', 'the', 'camera', 'as', 'you', 'can', 'guess', 'is', 'one', 'of', 'the', 'best', 'if', 'not', 'the', 'best', 'the', 'screen', 'with', 'hz', 'feels', 'so', 'smooth', 'it', 's', 'just', 'a', 'different', 'experience', 'androids', 'with', 'similar', 'refresh', 'don', 't', 'feel', 'so', 'smooth', 'because', 'they', 'are', 'poorly', 'optimised', 'cons', 'the', 'price', 'got', 'the', 'gb', 'pro', 'max', 'for', 'lac', 'and', 'that', 'is', 'not', 'at', 'all', 'value', 'for', 'the', 'amount', 'of', 'money', 'you', 'spend', 'with', 'no', 'charger', 'software', 'wise', 'the', 'notifications', 'are', 'really', 'bad', 'android', 'compiles', 'notifications', 'much', 'better', 'also', 'it', 's', 'really', 'tricky', 'to', 'transfer', 'whatsapp', 'and', 'other', 'stuff', 'from', 'an', 'android', 'expensive', 'overall', 'excellent', 'product', 'it', 's', 'a', 'very', 'powerful', 'phone', 'with', 'great', 'camera', 'features', 'i', 'am', 'really', 'happy', 'with', 'this', 'iphone', 'high', 'benefits', 'with', 'high', 'price', 'i', 'm', 'in', 'love', 'with', 'this', 'device', 'switched', 'from', 'android', 'to', 'iphone', 'here', 'are', 'my', 'pros', 'and', 'cons', 'pros', 'the', 'battery', 'life', 'on', 'the', 'pro', 'max', 'is', 'just', 'excellent', 'no', 'android', 'with', 'even', 'a', 'mah', 'can', 'beat', 'it', 'it', 'is', 'that', 'well', 'optimised', 'the', 'camera', 'as', 'you', 'can', 'guess', 'is', 'one', 'of', 'the', 'best', 'if', 'not', 'the', 'best', 'the', 'screen', 'with', 'hz', 'feels', 'so', 'smooth', 'it', 's', 'just', 'a', 'different', 'experience', 'androids', 'with', 'similar', 'refresh', 'don', 't', 'feel', 'so', 'smooth', 'because', 'they', 'are', 'poorly', 'optimised', 'cons', 'the', 'price', 'got', 'the', 'gb', 'pro', 'max', 'for', 'lac', 'and', 'that', 'is', 'not', 'at', 'all', 'value', 'for', 'the', 'amount', 'of', 'money', 'you', 'spend', 'with', 'no', 'charger', 'software', 'wise', 'the', 'notifications', 'are', 'really', 'bad', 'android', 'compiles', 'notifications', 'much', 'better', 'also', 'it', 's', 'really', 'tricky', 'to', 'transfer', 'whatsapp', 'and', 'other', 'stuff', 'from', 'an', 'android', 'expensive', 'overall', 'excellent', 'product', 'offline', 'peksha', 'best', 'deal', 'only', 'amazon', 'it', 's', 'a', 'very', 'powerful', 'phone', 'with', 'great', 'camera', 'features', 'i', 'am', 'really', 'happy', 'with', 'this', 'iphone', 'high', 'benefits', 'with', 'high', 'price', 'i', 'm', 'in', 'love', 'with', 'this', 'device', 'switched', 'from', 'android', 'to', 'iphone', 'here', 'are', 'my', 'pros', 'and', 'cons', 'pros', 'the', 'battery', 'life', 'on', 'the', 'pro', 'max', 'is', 'just', 'excellent', 'no', 'android', 'with', 'even', 'a', 'mah', 'can', 'beat', 'it', 'it', 'is', 'that', 'well', 'optimised', 'the', 'camera', 'as', 'you', 'can', 'guess', 'is', 'one', 'of', 'the', 'best', 'if', 'not', 'the', 'best', 'the', 'screen', 'with', 'hz', 'feels', 'so', 'smooth', 'it', 's', 'just', 'a', 'different', 'experience', 'androids', 'with', 'similar', 'refresh', 'don', 't', 'feel', 'so', 'smooth', 'because', 'they', 'are', 'poorly', 'optimised', 'cons', 'the', 'price', 'got', 'the', 'gb', 'pro', 'max', 'for', 'lac', 'and', 'that', 'is', 'not', 'at', 'all', 'value', 'for', 'the', 'amount', 'of', 'money', 'you', 'spend', 'with', 'no', 'charger', 'software', 'wise', 'the', 'notifications', 'are', 'really', 'bad', 'android', 'compiles', 'notifications', 'much', 'better', 'also', 'it', 's', 'really', 'tricky', 'to', 'transfer', 'whatsapp', 'and', 'other', 'stuff', 'from', 'an', 'android', 'expensive', 'overall', 'excellent', 'product', 'offline', 'peksha', 'best', 'deal', 'only', 'amazon', 'i', 'first', 'purchased', 'iphone', 'pro', 'then', 'i', 'realized', 'that', 'it', 'drains', 'the', 'battery', 'quickly', 'don', 't', 'have', 'any', 'idea', 'about', 'pro', 'max', 'then', 'i', 'sell', 'this', 'phone', 'to', 'the', 'store', 'luckily', 'due', 'to', 'the', 'high', 'demand', 'for', 'iphone', 'pro', 'i', 'could', 'sell', 'at', 'the', 'same', 'price', 'then', 'i', 'purchased', 'pro', 'max', 'it', 'has', 'been', 'week', 'and', 'i', 'found', 'battery', 'backup', 'is', 'very', 'good', 'no', 'doubt', 'about', 'other', 'features', 'of', 'the', 'iphone', 'it', 's', 'a', 'very', 'powerful', 'phone', 'with', 'great', 'camera', 'features', 'i', 'am', 'really', 'happy', 'with', 'this', 'iphone', 'high', 'benefits', 'with', 'high', 'price', 'i', 'm', 'in', 'love', 'with', 'this', 'device', 'switched', 'from', 'android', 'to', 'iphone', 'here', 'are', 'my', 'pros', 'and', 'cons', 'pros', 'the', 'battery', 'life', 'on', 'the', 'pro', 'max', 'is', 'just', 'excellent', 'no', 'android', 'with', 'even', 'a', 'mah', 'can', 'beat', 'it', 'it', 'is', 'that', 'well', 'optimised', 'the', 'camera', 'as', 'you', 'can', 'guess', 'is', 'one', 'of', 'the', 'best', 'if', 'not', 'the', 'best', 'the', 'screen', 'with', 'hz', 'feels', 'so', 'smooth', 'it', 's', 'just', 'a', 'different', 'experience', 'androids', 'with', 'similar', 'refresh', 'don', 't', 'feel', 'so', 'smooth', 'because', 'they', 'are', 'poorly', 'optimised', 'cons', 'the', 'price', 'got', 'the', 'gb', 'pro', 'max', 'for', 'lac', 'and', 'that', 'is', 'not', 'at', 'all', 'value', 'for', 'the', 'amount', 'of', 'money', 'you', 'spend', 'with', 'no', 'charger', 'software', 'wise', 'the', 'notifications', 'are', 'really', 'bad', 'android', 'compiles', 'notifications', 'much', 'better', 'also', 'it', 's', 'really', 'tricky', 'to', 'transfer', 'whatsapp', 'and', 'other', 'stuff', 'from', 'an', 'android', 'expensive', 'overall', 'excellent', 'product', 'offline', 'peksha', 'best', 'deal', 'only', 'amazon', 'i', 'first', 'purchased', 'iphone', 'pro', 'then', 'i', 'realized', 'that', 'it', 'drains', 'the', 'battery', 'quickly', 'don', 't', 'have', 'any', 'idea', 'about', 'pro', 'max', 'then', 'i', 'sell', 'this', 'phone', 'to', 'the', 'store', 'luckily', 'due', 'to', 'the', 'high', 'demand', 'for', 'iphone', 'pro', 'i', 'could', 'sell', 'at', 'the', 'same', 'price', 'then', 'i', 'purchased', 'pro', 'max', 'it', 'has', 'been', 'week', 'and', 'i', 'found', 'battery', 'backup', 'is', 'very', 'good', 'no', 'doubt', 'about', 'other', 'features', 'of', 'the', 'iphone', 'open', 'box', 'diye', 'sim', 'tool', 'nahi', 'aa', 'ya', 'but', 'phone', 'mast', 'aaya', 'it', 's', 'a', 'very', 'powerful', 'phone', 'with', 'great', 'camera', 'features', 'i', 'am', 'really', 'happy', 'with', 'this', 'iphone', 'high', 'benefits', 'with', 'high', 'price', 'i', 'm', 'in', 'love', 'with', 'this', 'device', 'switched', 'from', 'android', 'to', 'iphone', 'here', 'are', 'my', 'pros', 'and', 'cons', 'pros', 'the', 'battery', 'life', 'on', 'the', 'pro', 'max', 'is', 'just', 'excellent', 'no', 'android', 'with', 'even', 'a', 'mah', 'can', 'beat', 'it', 'it', 'is', 'that', 'well', 'optimised', 'the', 'camera', 'as', 'you', 'can', 'guess', 'is', 'one', 'of', 'the', 'best', 'if', 'not', 'the', 'best', 'the', 'screen', 'with', 'hz', 'feels', 'so', 'smooth', 'it', 's', 'just', 'a', 'different', 'experience', 'androids', 'with', 'similar', 'refresh', 'don', 't', 'feel', 'so', 'smooth', 'because', 'they', 'are', 'poorly', 'optimised', 'cons', 'the', 'price', 'got', 'the', 'gb', 'pro', 'max', 'for', 'lac', 'and', 'that', 'is', 'not', 'at', 'all', 'value', 'for', 'the', 'amount', 'of', 'money', 'you', 'spend', 'with', 'no', 'charger', 'software', 'wise', 'the', 'notifications', 'are', 'really', 'bad', 'android', 'compiles', 'notifications', 'much', 'better', 'also', 'it', 's', 'really', 'tricky', 'to', 'transfer', 'whatsapp', 'and', 'other', 'stuff', 'from', 'an', 'android', 'expensive', 'overall', 'excellent', 'product', 'offline', 'peksha', 'best', 'deal', 'only', 'amazon', 'i', 'first', 'purchased', 'iphone', 'pro', 'then', 'i', 'realized', 'that', 'it', 'drains', 'the', 'battery', 'quickly', 'don', 't', 'have', 'any', 'idea', 'about', 'pro', 'max', 'then', 'i', 'sell', 'this', 'phone', 'to', 'the', 'store', 'luckily', 'due', 'to', 'the', 'high', 'demand', 'for', 'iphone', 'pro', 'i', 'could', 'sell', 'at', 'the', 'same', 'price', 'then', 'i', 'purchased', 'pro', 'max', 'it', 'has', 'been', 'week', 'and', 'i', 'found', 'battery', 'backup', 'is', 'very', 'good', 'no', 'doubt', 'about', 'other', 'features', 'of', 'the', 'iphone', 'open', 'box', 'diye', 'sim', 'tool', 'nahi', 'aa', 'ya', 'but', 'phone', 'mast', 'aaya', 'the', 'media', 'could', 'not', 'be', 'loaded', 'it', 's', 'a', 'very', 'powerful', 'phone', 'with', 'great', 'camera', 'features', 'i', 'am', 'really', 'happy', 'with', 'this', 'iphone', 'high', 'benefits', 'with', 'high', 'price', 'i', 'm', 'in', 'love', 'with', 'this', 'device', 'switched', 'from', 'android', 'to', 'iphone', 'here', 'are', 'my', 'pros', 'and', 'cons', 'pros', 'the', 'battery', 'life', 'on', 'the', 'pro', 'max', 'is', 'just', 'excellent', 'no', 'android', 'with', 'even', 'a', 'mah', 'can', 'beat', 'it', 'it', 'is', 'that', 'well', 'optimised', 'the', 'camera', 'as', 'you', 'can', 'guess', 'is', 'one', 'of', 'the', 'best', 'if', 'not', 'the', 'best', 'the', 'screen', 'with', 'hz', 'feels', 'so', 'smooth', 'it', 's', 'just', 'a', 'different', 'experience', 'androids', 'with', 'similar', 'refresh', 'don', 't', 'feel', 'so', 'smooth', 'because', 'they', 'are', 'poorly', 'optimised', 'cons', 'the', 'price', 'got', 'the', 'gb', 'pro', 'max', 'for', 'lac', 'and', 'that', 'is', 'not', 'at', 'all', 'value', 'for', 'the', 'amount', 'of', 'money', 'you', 'spend', 'with', 'no', 'charger', 'software', 'wise', 'the', 'notifications', 'are', 'really', 'bad', 'android', 'compiles', 'notifications', 'much', 'better', 'also', 'it', 's', 'really', 'tricky', 'to', 'transfer', 'whatsapp', 'and', 'other', 'stuff', 'from', 'an', 'android', 'expensive', 'overall', 'excellent', 'product', 'offline', 'peksha', 'best', 'deal', 'only', 'amazon', 'i', 'first', 'purchased', 'iphone', 'pro', 'then', 'i', 'realized', 'that', 'it', 'drains', 'the', 'battery', 'quickly', 'don', 't', 'have', 'any', 'idea', 'about', 'pro', 'max', 'then', 'i', 'sell', 'this', 'phone', 'to', 'the', 'store', 'luckily', 'due', 'to', 'the', 'high', 'demand', 'for', 'iphone', 'pro', 'i', 'could', 'sell', 'at', 'the', 'same', 'price', 'then', 'i', 'purchased', 'pro', 'max', 'it', 'has', 'been', 'week', 'and', 'i', 'found', 'battery', 'backup', 'is', 'very', 'good', 'no', 'doubt', 'about', 'other', 'features', 'of', 'the', 'iphone', 'open', 'box', 'diye', 'sim', 'tool', 'nahi', 'aa', 'ya', 'but', 'phone', 'mast', 'aaya', 'the', 'media', 'could', 'not', 'be', 'loaded', 'i', 'have', 'started', 'using', 'iphone', 'from', 'series', 'and', 'since', 'then', 'this', 'is', 'th', 'iphone', 'which', 'i', 'upgrade', 'and', 'i', 'must', 'say', 'till', 'date', 'this', 'has', 'got', 'the', 'best', 'battery', 'i', 'have', 'observed', 'in', 'any', 'of', 'my', 'previous', 'iphones', 'camera', 'quality', 'you', 'can', 't', 'even', 'think', 'of', 'comparing', 'it', 'with', 'any', 'other', 'phone', 'in', 'the', 'world', 'you', 'definitely', 'don', 't', 'need', 'to', 'carry', 'a', 'fslr', 'or', 'a', 'video', 'cam', 'after', 'you', 'own', 'this', 'piece', 'you', 'can', 'literally', 'make', 'a', 'professional', 'movie', 'from', 'its', 'camera', 'the', 'only', 'thing', 'is', 'that', 'you', 'need', 'to', 'shell', 'out', 'hell', 'lot', 'of', 'money', 'to', 'be', 'the', 'owner', 'of', 'this', 'beauty', 'but', 'at', 'the', 'end', 'it', 's', 'gives', 'you', 'the', 'satisfaction', 'nothing', 'else', 'can', 'give', 'you', 'because', 'you', 'own', 'the', 'best', 'my', 'suggestion', 'is', 'go', 'for', 'it', 'only', 'if', 'you', 'have', 'the', 'capacity', 'to', 'own', 'it', '']\n"
     ]
    }
   ],
   "source": [
    "# words that contained in iphone 7 reviews\n",
    "ip_reviews_words = ip_rev_string.split(\" \")\n",
    "print(ip_reviews_words)\n",
    "# stop_words = stopwords.words('english')"
   ]
  },
  {
   "cell_type": "code",
   "execution_count": 49,
   "id": "ade238a1",
   "metadata": {
    "ExecuteTime": {
     "end_time": "2023-05-19T11:03:35.808063Z",
     "start_time": "2023-05-19T11:03:04.746136Z"
    }
   },
   "outputs": [
    {
     "name": "stdout",
     "output_type": "stream",
     "text": [
      "Collecting en-core-web-sm==3.5.0\n",
      "  Downloading https://github.com/explosion/spacy-models/releases/download/en_core_web_sm-3.5.0/en_core_web_sm-3.5.0-py3-none-any.whl (12.8 MB)\n",
      "Requirement already satisfied: spacy<3.6.0,>=3.5.0 in c:\\users\\surendra\\downloads\\anaconda\\lib\\site-packages (from en-core-web-sm==3.5.0) (3.5.3)\n",
      "Requirement already satisfied: murmurhash<1.1.0,>=0.28.0 in c:\\users\\surendra\\downloads\\anaconda\\lib\\site-packages (from spacy<3.6.0,>=3.5.0->en-core-web-sm==3.5.0) (1.0.9)\n",
      "Requirement already satisfied: catalogue<2.1.0,>=2.0.6 in c:\\users\\surendra\\downloads\\anaconda\\lib\\site-packages (from spacy<3.6.0,>=3.5.0->en-core-web-sm==3.5.0) (2.0.8)\n",
      "Requirement already satisfied: thinc<8.2.0,>=8.1.8 in c:\\users\\surendra\\downloads\\anaconda\\lib\\site-packages (from spacy<3.6.0,>=3.5.0->en-core-web-sm==3.5.0) (8.1.10)\n",
      "Requirement already satisfied: spacy-loggers<2.0.0,>=1.0.0 in c:\\users\\surendra\\downloads\\anaconda\\lib\\site-packages (from spacy<3.6.0,>=3.5.0->en-core-web-sm==3.5.0) (1.0.4)\n",
      "Requirement already satisfied: tqdm<5.0.0,>=4.38.0 in c:\\users\\surendra\\downloads\\anaconda\\lib\\site-packages (from spacy<3.6.0,>=3.5.0->en-core-web-sm==3.5.0) (4.64.0)\n",
      "Requirement already satisfied: langcodes<4.0.0,>=3.2.0 in c:\\users\\surendra\\downloads\\anaconda\\lib\\site-packages (from spacy<3.6.0,>=3.5.0->en-core-web-sm==3.5.0) (3.3.0)\n",
      "Requirement already satisfied: preshed<3.1.0,>=3.0.2 in c:\\users\\surendra\\downloads\\anaconda\\lib\\site-packages (from spacy<3.6.0,>=3.5.0->en-core-web-sm==3.5.0) (3.0.8)\n",
      "Requirement already satisfied: spacy-legacy<3.1.0,>=3.0.11 in c:\\users\\surendra\\downloads\\anaconda\\lib\\site-packages (from spacy<3.6.0,>=3.5.0->en-core-web-sm==3.5.0) (3.0.12)\n",
      "Requirement already satisfied: setuptools in c:\\users\\surendra\\downloads\\anaconda\\lib\\site-packages (from spacy<3.6.0,>=3.5.0->en-core-web-sm==3.5.0) (61.2.0)\n",
      "Requirement already satisfied: packaging>=20.0 in c:\\users\\surendra\\downloads\\anaconda\\lib\\site-packages (from spacy<3.6.0,>=3.5.0->en-core-web-sm==3.5.0) (21.3)\n",
      "Requirement already satisfied: jinja2 in c:\\users\\surendra\\downloads\\anaconda\\lib\\site-packages (from spacy<3.6.0,>=3.5.0->en-core-web-sm==3.5.0) (2.11.3)\n",
      "Requirement already satisfied: srsly<3.0.0,>=2.4.3 in c:\\users\\surendra\\downloads\\anaconda\\lib\\site-packages (from spacy<3.6.0,>=3.5.0->en-core-web-sm==3.5.0) (2.4.6)\n",
      "Requirement already satisfied: pathy>=0.10.0 in c:\\users\\surendra\\downloads\\anaconda\\lib\\site-packages (from spacy<3.6.0,>=3.5.0->en-core-web-sm==3.5.0) (0.10.1)\n",
      "Requirement already satisfied: pydantic!=1.8,!=1.8.1,<1.11.0,>=1.7.4 in c:\\users\\surendra\\downloads\\anaconda\\lib\\site-packages (from spacy<3.6.0,>=3.5.0->en-core-web-sm==3.5.0) (1.10.7)\n",
      "Requirement already satisfied: requests<3.0.0,>=2.13.0 in c:\\users\\surendra\\downloads\\anaconda\\lib\\site-packages (from spacy<3.6.0,>=3.5.0->en-core-web-sm==3.5.0) (2.27.1)\n",
      "Requirement already satisfied: numpy>=1.15.0 in c:\\users\\surendra\\downloads\\anaconda\\lib\\site-packages (from spacy<3.6.0,>=3.5.0->en-core-web-sm==3.5.0) (1.22.4)\n",
      "Requirement already satisfied: typer<0.8.0,>=0.3.0 in c:\\users\\surendra\\downloads\\anaconda\\lib\\site-packages (from spacy<3.6.0,>=3.5.0->en-core-web-sm==3.5.0) (0.7.0)\n",
      "Requirement already satisfied: cymem<2.1.0,>=2.0.2 in c:\\users\\surendra\\downloads\\anaconda\\lib\\site-packages (from spacy<3.6.0,>=3.5.0->en-core-web-sm==3.5.0) (2.0.7)\n",
      "Requirement already satisfied: smart-open<7.0.0,>=5.2.1 in c:\\users\\surendra\\downloads\\anaconda\\lib\\site-packages (from spacy<3.6.0,>=3.5.0->en-core-web-sm==3.5.0) (6.3.0)\n",
      "Requirement already satisfied: wasabi<1.2.0,>=0.9.1 in c:\\users\\surendra\\downloads\\anaconda\\lib\\site-packages (from spacy<3.6.0,>=3.5.0->en-core-web-sm==3.5.0) (1.1.1)\n",
      "Requirement already satisfied: pyparsing!=3.0.5,>=2.0.2 in c:\\users\\surendra\\downloads\\anaconda\\lib\\site-packages (from packaging>=20.0->spacy<3.6.0,>=3.5.0->en-core-web-sm==3.5.0) (3.0.4)\n",
      "Requirement already satisfied: typing-extensions>=4.2.0 in c:\\users\\surendra\\downloads\\anaconda\\lib\\site-packages (from pydantic!=1.8,!=1.8.1,<1.11.0,>=1.7.4->spacy<3.6.0,>=3.5.0->en-core-web-sm==3.5.0) (4.5.0)\n",
      "Requirement already satisfied: certifi>=2017.4.17 in c:\\users\\surendra\\downloads\\anaconda\\lib\\site-packages (from requests<3.0.0,>=2.13.0->spacy<3.6.0,>=3.5.0->en-core-web-sm==3.5.0) (2021.10.8)\n",
      "Requirement already satisfied: urllib3<1.27,>=1.21.1 in c:\\users\\surendra\\downloads\\anaconda\\lib\\site-packages (from requests<3.0.0,>=2.13.0->spacy<3.6.0,>=3.5.0->en-core-web-sm==3.5.0) (1.26.9)\n",
      "Requirement already satisfied: charset-normalizer~=2.0.0 in c:\\users\\surendra\\downloads\\anaconda\\lib\\site-packages (from requests<3.0.0,>=2.13.0->spacy<3.6.0,>=3.5.0->en-core-web-sm==3.5.0) (2.0.4)\n",
      "Requirement already satisfied: idna<4,>=2.5 in c:\\users\\surendra\\downloads\\anaconda\\lib\\site-packages (from requests<3.0.0,>=2.13.0->spacy<3.6.0,>=3.5.0->en-core-web-sm==3.5.0) (3.3)\n",
      "Requirement already satisfied: confection<1.0.0,>=0.0.1 in c:\\users\\surendra\\downloads\\anaconda\\lib\\site-packages (from thinc<8.2.0,>=8.1.8->spacy<3.6.0,>=3.5.0->en-core-web-sm==3.5.0) (0.0.4)\n",
      "Requirement already satisfied: blis<0.8.0,>=0.7.8 in c:\\users\\surendra\\downloads\\anaconda\\lib\\site-packages (from thinc<8.2.0,>=8.1.8->spacy<3.6.0,>=3.5.0->en-core-web-sm==3.5.0) (0.7.9)\n",
      "Requirement already satisfied: colorama in c:\\users\\surendra\\downloads\\anaconda\\lib\\site-packages (from tqdm<5.0.0,>=4.38.0->spacy<3.6.0,>=3.5.0->en-core-web-sm==3.5.0) (0.4.6)\n",
      "Requirement already satisfied: click<9.0.0,>=7.1.1 in c:\\users\\surendra\\downloads\\anaconda\\lib\\site-packages (from typer<0.8.0,>=0.3.0->spacy<3.6.0,>=3.5.0->en-core-web-sm==3.5.0) (8.0.4)\n",
      "Requirement already satisfied: MarkupSafe>=0.23 in c:\\users\\surendra\\downloads\\anaconda\\lib\\site-packages (from jinja2->spacy<3.6.0,>=3.5.0->en-core-web-sm==3.5.0) (2.0.1)\n",
      "\u001b[38;5;2m[+] Download and installation successful\u001b[0m\n",
      "You can now load the package via spacy.load('en_core_web_sm')\n"
     ]
    }
   ],
   "source": [
    "!python -m spacy download en_core_web_sm"
   ]
  },
  {
   "cell_type": "code",
   "execution_count": 53,
   "id": "60d80de5",
   "metadata": {
    "ExecuteTime": {
     "end_time": "2023-05-19T11:06:17.254210Z",
     "start_time": "2023-05-19T11:05:35.999012Z"
    }
   },
   "outputs": [
    {
     "name": "stdout",
     "output_type": "stream",
     "text": [
      "Collecting en-core-web-md==3.5.0\n",
      "  Downloading https://github.com/explosion/spacy-models/releases/download/en_core_web_md-3.5.0/en_core_web_md-3.5.0-py3-none-any.whl (42.8 MB)\n",
      "Requirement already satisfied: spacy<3.6.0,>=3.5.0 in c:\\users\\surendra\\downloads\\anaconda\\lib\\site-packages (from en-core-web-md==3.5.0) (3.5.3)\n",
      "Requirement already satisfied: catalogue<2.1.0,>=2.0.6 in c:\\users\\surendra\\downloads\\anaconda\\lib\\site-packages (from spacy<3.6.0,>=3.5.0->en-core-web-md==3.5.0) (2.0.8)\n",
      "Requirement already satisfied: preshed<3.1.0,>=3.0.2 in c:\\users\\surendra\\downloads\\anaconda\\lib\\site-packages (from spacy<3.6.0,>=3.5.0->en-core-web-md==3.5.0) (3.0.8)\n",
      "Requirement already satisfied: srsly<3.0.0,>=2.4.3 in c:\\users\\surendra\\downloads\\anaconda\\lib\\site-packages (from spacy<3.6.0,>=3.5.0->en-core-web-md==3.5.0) (2.4.6)\n",
      "Requirement already satisfied: spacy-legacy<3.1.0,>=3.0.11 in c:\\users\\surendra\\downloads\\anaconda\\lib\\site-packages (from spacy<3.6.0,>=3.5.0->en-core-web-md==3.5.0) (3.0.12)\n",
      "Requirement already satisfied: cymem<2.1.0,>=2.0.2 in c:\\users\\surendra\\downloads\\anaconda\\lib\\site-packages (from spacy<3.6.0,>=3.5.0->en-core-web-md==3.5.0) (2.0.7)\n",
      "Requirement already satisfied: requests<3.0.0,>=2.13.0 in c:\\users\\surendra\\downloads\\anaconda\\lib\\site-packages (from spacy<3.6.0,>=3.5.0->en-core-web-md==3.5.0) (2.27.1)\n",
      "Requirement already satisfied: thinc<8.2.0,>=8.1.8 in c:\\users\\surendra\\downloads\\anaconda\\lib\\site-packages (from spacy<3.6.0,>=3.5.0->en-core-web-md==3.5.0) (8.1.10)\n",
      "Requirement already satisfied: murmurhash<1.1.0,>=0.28.0 in c:\\users\\surendra\\downloads\\anaconda\\lib\\site-packages (from spacy<3.6.0,>=3.5.0->en-core-web-md==3.5.0) (1.0.9)\n",
      "Requirement already satisfied: setuptools in c:\\users\\surendra\\downloads\\anaconda\\lib\\site-packages (from spacy<3.6.0,>=3.5.0->en-core-web-md==3.5.0) (61.2.0)\n",
      "Requirement already satisfied: typer<0.8.0,>=0.3.0 in c:\\users\\surendra\\downloads\\anaconda\\lib\\site-packages (from spacy<3.6.0,>=3.5.0->en-core-web-md==3.5.0) (0.7.0)\n",
      "Requirement already satisfied: packaging>=20.0 in c:\\users\\surendra\\downloads\\anaconda\\lib\\site-packages (from spacy<3.6.0,>=3.5.0->en-core-web-md==3.5.0) (21.3)\n",
      "Requirement already satisfied: jinja2 in c:\\users\\surendra\\downloads\\anaconda\\lib\\site-packages (from spacy<3.6.0,>=3.5.0->en-core-web-md==3.5.0) (2.11.3)\n",
      "Requirement already satisfied: tqdm<5.0.0,>=4.38.0 in c:\\users\\surendra\\downloads\\anaconda\\lib\\site-packages (from spacy<3.6.0,>=3.5.0->en-core-web-md==3.5.0) (4.64.0)\n",
      "Requirement already satisfied: pathy>=0.10.0 in c:\\users\\surendra\\downloads\\anaconda\\lib\\site-packages (from spacy<3.6.0,>=3.5.0->en-core-web-md==3.5.0) (0.10.1)\n",
      "Requirement already satisfied: langcodes<4.0.0,>=3.2.0 in c:\\users\\surendra\\downloads\\anaconda\\lib\\site-packages (from spacy<3.6.0,>=3.5.0->en-core-web-md==3.5.0) (3.3.0)\n",
      "Requirement already satisfied: spacy-loggers<2.0.0,>=1.0.0 in c:\\users\\surendra\\downloads\\anaconda\\lib\\site-packages (from spacy<3.6.0,>=3.5.0->en-core-web-md==3.5.0) (1.0.4)\n",
      "Requirement already satisfied: pydantic!=1.8,!=1.8.1,<1.11.0,>=1.7.4 in c:\\users\\surendra\\downloads\\anaconda\\lib\\site-packages (from spacy<3.6.0,>=3.5.0->en-core-web-md==3.5.0) (1.10.7)\n",
      "Requirement already satisfied: smart-open<7.0.0,>=5.2.1 in c:\\users\\surendra\\downloads\\anaconda\\lib\\site-packages (from spacy<3.6.0,>=3.5.0->en-core-web-md==3.5.0) (6.3.0)\n",
      "Requirement already satisfied: wasabi<1.2.0,>=0.9.1 in c:\\users\\surendra\\downloads\\anaconda\\lib\\site-packages (from spacy<3.6.0,>=3.5.0->en-core-web-md==3.5.0) (1.1.1)\n",
      "Requirement already satisfied: numpy>=1.15.0 in c:\\users\\surendra\\downloads\\anaconda\\lib\\site-packages (from spacy<3.6.0,>=3.5.0->en-core-web-md==3.5.0) (1.22.4)\n",
      "Requirement already satisfied: pyparsing!=3.0.5,>=2.0.2 in c:\\users\\surendra\\downloads\\anaconda\\lib\\site-packages (from packaging>=20.0->spacy<3.6.0,>=3.5.0->en-core-web-md==3.5.0) (3.0.4)\n",
      "Requirement already satisfied: typing-extensions>=4.2.0 in c:\\users\\surendra\\downloads\\anaconda\\lib\\site-packages (from pydantic!=1.8,!=1.8.1,<1.11.0,>=1.7.4->spacy<3.6.0,>=3.5.0->en-core-web-md==3.5.0) (4.5.0)\n",
      "Requirement already satisfied: charset-normalizer~=2.0.0 in c:\\users\\surendra\\downloads\\anaconda\\lib\\site-packages (from requests<3.0.0,>=2.13.0->spacy<3.6.0,>=3.5.0->en-core-web-md==3.5.0) (2.0.4)\n",
      "Requirement already satisfied: certifi>=2017.4.17 in c:\\users\\surendra\\downloads\\anaconda\\lib\\site-packages (from requests<3.0.0,>=2.13.0->spacy<3.6.0,>=3.5.0->en-core-web-md==3.5.0) (2021.10.8)\n",
      "Requirement already satisfied: urllib3<1.27,>=1.21.1 in c:\\users\\surendra\\downloads\\anaconda\\lib\\site-packages (from requests<3.0.0,>=2.13.0->spacy<3.6.0,>=3.5.0->en-core-web-md==3.5.0) (1.26.9)\n",
      "Requirement already satisfied: idna<4,>=2.5 in c:\\users\\surendra\\downloads\\anaconda\\lib\\site-packages (from requests<3.0.0,>=2.13.0->spacy<3.6.0,>=3.5.0->en-core-web-md==3.5.0) (3.3)\n",
      "Requirement already satisfied: confection<1.0.0,>=0.0.1 in c:\\users\\surendra\\downloads\\anaconda\\lib\\site-packages (from thinc<8.2.0,>=8.1.8->spacy<3.6.0,>=3.5.0->en-core-web-md==3.5.0) (0.0.4)\n",
      "Requirement already satisfied: blis<0.8.0,>=0.7.8 in c:\\users\\surendra\\downloads\\anaconda\\lib\\site-packages (from thinc<8.2.0,>=8.1.8->spacy<3.6.0,>=3.5.0->en-core-web-md==3.5.0) (0.7.9)\n",
      "Requirement already satisfied: colorama in c:\\users\\surendra\\downloads\\anaconda\\lib\\site-packages (from tqdm<5.0.0,>=4.38.0->spacy<3.6.0,>=3.5.0->en-core-web-md==3.5.0) (0.4.6)\n",
      "Requirement already satisfied: click<9.0.0,>=7.1.1 in c:\\users\\surendra\\downloads\\anaconda\\lib\\site-packages (from typer<0.8.0,>=0.3.0->spacy<3.6.0,>=3.5.0->en-core-web-md==3.5.0) (8.0.4)\n",
      "Requirement already satisfied: MarkupSafe>=0.23 in c:\\users\\surendra\\downloads\\anaconda\\lib\\site-packages (from jinja2->spacy<3.6.0,>=3.5.0->en-core-web-md==3.5.0) (2.0.1)\n",
      "Installing collected packages: en-core-web-md\n",
      "Successfully installed en-core-web-md-3.5.0\n",
      "\u001b[38;5;2m[+] Download and installation successful\u001b[0m\n",
      "You can now load the package via spacy.load('en_core_web_md')\n"
     ]
    }
   ],
   "source": [
    "!python -m spacy download en_core_web_md"
   ]
  },
  {
   "cell_type": "code",
   "execution_count": 54,
   "id": "412aeec3",
   "metadata": {
    "ExecuteTime": {
     "end_time": "2023-05-19T11:06:53.115506Z",
     "start_time": "2023-05-19T11:06:50.618406Z"
    }
   },
   "outputs": [
    {
     "data": {
      "text/html": [
       "<span class=\"tex2jax_ignore\"><div class=\"entities\" style=\"line-height: 2.5; direction: ltr\"></br>It's a very powerful phone with great camera features. I am really happy with this \n",
       "<mark class=\"entity\" style=\"background: #7aecec; padding: 0.45em 0.6em; margin: 0 0.25em; line-height: 1; border-radius: 0.35em;\">\n",
       "    iPhone\n",
       "    <span style=\"font-size: 0.8em; font-weight: bold; line-height: 1; border-radius: 0.35em; vertical-align: middle; margin-left: 0.5rem\">ORG</span>\n",
       "</mark>\n",
       ".</br></div></span>"
      ],
      "text/plain": [
       "<IPython.core.display.HTML object>"
      ]
     },
     "metadata": {},
     "output_type": "display_data"
    }
   ],
   "source": [
    "import spacy\n",
    "nlp=spacy.load('en_core_web_md')\n",
    "one_block=iphone13_reviews[15]\n",
    "doc_block=nlp(one_block)\n",
    "spacy.displacy.render(doc_block,style='ent',jupyter=True)"
   ]
  },
  {
   "cell_type": "code",
   "execution_count": 55,
   "id": "8ee7d6b6",
   "metadata": {
    "ExecuteTime": {
     "end_time": "2023-05-19T11:07:54.344896Z",
     "start_time": "2023-05-19T11:07:54.217718Z"
    }
   },
   "outputs": [],
   "source": [
    "with open(\"stop.txt\",\"r\") as sw:\n",
    "    stopwords = sw.read()\n",
    "\n",
    "stopwords = stopwords.split(\"\\n\")\n",
    "\n",
    "ip_reviews_words = [w for w in ip_reviews_words if not w in stopwords]"
   ]
  },
  {
   "cell_type": "code",
   "execution_count": 75,
   "id": "e44dc0ac",
   "metadata": {
    "ExecuteTime": {
     "end_time": "2023-05-19T11:46:39.472249Z",
     "start_time": "2023-05-19T11:46:39.447562Z"
    }
   },
   "outputs": [
    {
     "data": {
      "text/plain": [
       "' powerful phone great camera features happy iphone powerful phone great camera features happy iphone high benefits high price love device powerful phone great camera features happy iphone high benefits high price love device switched android iphone pros cons pros battery life pro max excellent android mah beat optimised camera guess screen hz feels smooth experience androids similar refresh don feel smooth poorly optimised cons price gb pro max lac amount money spend charger software wise notifications bad android compiles notifications tricky transfer whatsapp stuff android powerful phone great camera features happy iphone high benefits high price love device switched android iphone pros cons pros battery life pro max excellent android mah beat optimised camera guess screen hz feels smooth experience androids similar refresh don feel smooth poorly optimised cons price gb pro max lac amount money spend charger software wise notifications bad android compiles notifications tricky transfer whatsapp stuff android expensive powerful phone great camera features happy iphone high benefits high price love device switched android iphone pros cons pros battery life pro max excellent android mah beat optimised camera guess screen hz feels smooth experience androids similar refresh don feel smooth poorly optimised cons price gb pro max lac amount money spend charger software wise notifications bad android compiles notifications tricky transfer whatsapp stuff android expensive excellent product powerful phone great camera features happy iphone high benefits high price love device switched android iphone pros cons pros battery life pro max excellent android mah beat optimised camera guess screen hz feels smooth experience androids similar refresh don feel smooth poorly optimised cons price gb pro max lac amount money spend charger software wise notifications bad android compiles notifications tricky transfer whatsapp stuff android expensive excellent product offline peksha deal amazon powerful phone great camera features happy iphone high benefits high price love device switched android iphone pros cons pros battery life pro max excellent android mah beat optimised camera guess screen hz feels smooth experience androids similar refresh don feel smooth poorly optimised cons price gb pro max lac amount money spend charger software wise notifications bad android compiles notifications tricky transfer whatsapp stuff android expensive excellent product offline peksha deal amazon purchased iphone pro realized drains battery quickly don idea pro max sell phone store luckily due high demand iphone pro sell price purchased pro max week found battery backup good doubt features iphone powerful phone great camera features happy iphone high benefits high price love device switched android iphone pros cons pros battery life pro max excellent android mah beat optimised camera guess screen hz feels smooth experience androids similar refresh don feel smooth poorly optimised cons price gb pro max lac amount money spend charger software wise notifications bad android compiles notifications tricky transfer whatsapp stuff android expensive excellent product offline peksha deal amazon purchased iphone pro realized drains battery quickly don idea pro max sell phone store luckily due high demand iphone pro sell price purchased pro max week found battery backup good doubt features iphone open box diye sim tool nahi aa ya phone mast aaya powerful phone great camera features happy iphone high benefits high price love device switched android iphone pros cons pros battery life pro max excellent android mah beat optimised camera guess screen hz feels smooth experience androids similar refresh don feel smooth poorly optimised cons price gb pro max lac amount money spend charger software wise notifications bad android compiles notifications tricky transfer whatsapp stuff android expensive excellent product offline peksha deal amazon purchased iphone pro realized drains battery quickly don idea pro max sell phone store luckily due high demand iphone pro sell price purchased pro max week found battery backup good doubt features iphone open box diye sim tool nahi aa ya phone mast aaya media loaded powerful phone great camera features happy iphone high benefits high price love device switched android iphone pros cons pros battery life pro max excellent android mah beat optimised camera guess screen hz feels smooth experience androids similar refresh don feel smooth poorly optimised cons price gb pro max lac amount money spend charger software wise notifications bad android compiles notifications tricky transfer whatsapp stuff android expensive excellent product offline peksha deal amazon purchased iphone pro realized drains battery quickly don idea pro max sell phone store luckily due high demand iphone pro sell price purchased pro max week found battery backup good doubt features iphone open box diye sim tool nahi aa ya phone mast aaya media loaded started iphone series iphone upgrade till date battery observed previous iphones camera quality comparing phone world don carry fslr video cam piece literally make professional movie camera thing shell hell lot money owner beauty end satisfaction give suggestion capacity '"
      ]
     },
     "execution_count": 75,
     "metadata": {},
     "output_type": "execute_result"
    }
   ],
   "source": [
    "# Joinining all the reviews into single paragraph \n",
    "ip_rev_para = \" \".join(ip_reviews_words)\n",
    "ip_rev_para"
   ]
  },
  {
   "cell_type": "code",
   "execution_count": 73,
   "id": "949c0ddd",
   "metadata": {
    "ExecuteTime": {
     "end_time": "2023-05-19T11:45:44.992003Z",
     "start_time": "2023-05-19T11:45:44.973779Z"
    }
   },
   "outputs": [],
   "source": [
    "# positive words # Choose the path for +ve words stored in system\n",
    "with open(\"positive-words.txt\",\"r\") as pos:\n",
    " poswords = pos.read().split(\"\\n\")"
   ]
  },
  {
   "cell_type": "code",
   "execution_count": 76,
   "id": "00abbcc4",
   "metadata": {
    "ExecuteTime": {
     "end_time": "2023-05-19T11:46:59.656140Z",
     "start_time": "2023-05-19T11:46:59.604801Z"
    }
   },
   "outputs": [
    {
     "data": {
      "text/plain": [
       "' powerful great happy powerful great happy benefits love powerful great happy benefits love pros pros excellent smooth refresh smooth wise powerful great happy benefits love pros pros excellent smooth refresh smooth wise powerful great happy benefits love pros pros excellent smooth refresh smooth wise excellent powerful great happy benefits love pros pros excellent smooth refresh smooth wise excellent powerful great happy benefits love pros pros excellent smooth refresh smooth wise excellent good powerful great happy benefits love pros pros excellent smooth refresh smooth wise excellent good powerful great happy benefits love pros pros excellent smooth refresh smooth wise excellent good powerful great happy benefits love pros pros excellent smooth refresh smooth wise excellent good beauty '"
      ]
     },
     "execution_count": 76,
     "metadata": {},
     "output_type": "execute_result"
    }
   ],
   "source": [
    "# Choosing the only words which are present in positive words\n",
    "ip_pos = \" \".join ([w for w in ip_reviews_words if w in poswords])\n",
    "ip_pos"
   ]
  },
  {
   "cell_type": "code",
   "execution_count": 78,
   "id": "f022c569",
   "metadata": {
    "ExecuteTime": {
     "end_time": "2023-05-19T11:47:55.086904Z",
     "start_time": "2023-05-19T11:47:55.073563Z"
    }
   },
   "outputs": [],
   "source": [
    "# negative words  Choose path for -ve words stored in system\n",
    "with open(\"negative-words.txt\",\"r\") as neg:\n",
    "  negwords = neg.read().split(\"\\n\")"
   ]
  },
  {
   "cell_type": "code",
   "execution_count": 79,
   "id": "dc5ecffd",
   "metadata": {
    "ExecuteTime": {
     "end_time": "2023-05-19T11:47:59.476230Z",
     "start_time": "2023-05-19T11:47:59.367873Z"
    }
   },
   "outputs": [
    {
     "data": {
      "text/plain": [
       "' cons poorly cons bad tricky cons poorly cons bad tricky expensive cons poorly cons bad tricky expensive cons poorly cons bad tricky expensive cons poorly cons bad tricky expensive drains doubt cons poorly cons bad tricky expensive drains doubt cons poorly cons bad tricky expensive drains doubt cons poorly cons bad tricky expensive drains doubt hell '"
      ]
     },
     "execution_count": 79,
     "metadata": {},
     "output_type": "execute_result"
    }
   ],
   "source": [
    "# Choosing the only words which are present in negwords\n",
    "ip_neg = \" \".join ([w for w in ip_reviews_words if w in negwords])\n",
    "ip_neg"
   ]
  }
 ],
 "metadata": {
  "kernelspec": {
   "display_name": "Python 3 (ipykernel)",
   "language": "python",
   "name": "python3"
  },
  "language_info": {
   "codemirror_mode": {
    "name": "ipython",
    "version": 3
   },
   "file_extension": ".py",
   "mimetype": "text/x-python",
   "name": "python",
   "nbconvert_exporter": "python",
   "pygments_lexer": "ipython3",
   "version": "3.9.12"
  }
 },
 "nbformat": 4,
 "nbformat_minor": 5
}
